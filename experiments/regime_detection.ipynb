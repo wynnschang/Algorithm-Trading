{
 "cells": [
  {
   "metadata": {
    "ExecuteTime": {
     "end_time": "2025-07-04T04:46:15.961875Z",
     "start_time": "2025-07-04T04:45:23.050513Z"
    }
   },
   "cell_type": "code",
   "source": [
    "import os\n",
    "\n",
    "import numpy as np\n",
    "import pandas as pd\n",
    "from scipy.stats import linregress\n",
    "\n",
    "# === Step 1: Load OHLCV close prices ===\n",
    "input_path = \"../data/BTCUSDT_1min.csv\"\n",
    "df_btc = pd.read_csv(input_path, parse_dates=[\"timestamp\"])\n",
    "df_prices = df_btc[['timestamp', 'close']].copy()\n",
    "df_prices.set_index(\"timestamp\", inplace=True)\n",
    "\n",
    "# === Step 2: Extract 12-hour windows with 1-hour step ===\n",
    "window_size = 720  # 12 hours of 1-min bars\n",
    "step_size = 120     # 1 hour step\n",
    "window_centers, regimes, vols, slopes = [], [], [], []\n",
    "\n",
    "for i in range(0, len(df_prices) - window_size, step_size):\n",
    "    window_df = df_prices.iloc[i:i + window_size]\n",
    "    center_time = window_df.index[window_size // 2]\n",
    "\n",
    "    avg_price = window_df[\"close\"].values\n",
    "    x = np.arange(len(avg_price))\n",
    "    slope = linregress(x, avg_price).slope\n",
    "    vol = window_df['close'].pct_change().dropna().std()\n",
    "\n",
    "    window_centers.append(center_time)\n",
    "    slopes.append(slope)\n",
    "    vols.append(vol)\n",
    "\n",
    "# === Step 3: Define thresholds ===\n",
    "vol_thresh = np.median(vols)\n",
    "slope_thresh = np.percentile(np.abs(slopes), 10)\n",
    "\n",
    "# === Step 4: Assign regimes ===\n",
    "for slope, vol in zip(slopes, vols):\n",
    "    if abs(slope) < slope_thresh:\n",
    "        regimes.append(\"Sideways\")\n",
    "    elif slope > 0 and vol > vol_thresh:\n",
    "        regimes.append(\"HighVol_UpTrend\")\n",
    "    elif slope > 0:\n",
    "        regimes.append(\"LowVol_UpTrend\")\n",
    "    elif slope < 0 and vol > vol_thresh:\n",
    "        regimes.append(\"HighVol_DownTrend\")\n",
    "    else:\n",
    "        regimes.append(\"LowVol_DownTrend\")\n",
    "\n",
    "# === Step 5: Tag each fragment ===\n",
    "fragments = []\n",
    "for i, center_time in enumerate(window_centers):\n",
    "    label = regimes[i]\n",
    "    start, end = i * step_size, i * step_size + window_size\n",
    "    window_df = df_btc.iloc[start:end].copy()\n",
    "    window_df[\"regime_name\"] = label\n",
    "    fragments.append(window_df)\n",
    "\n",
    "df_fragments = pd.concat(fragments)\n",
    "df_fragments.set_index(\"timestamp\", inplace=True)\n",
    "\n",
    "# === Step 6: Save regime-specific CSVs ===\n",
    "output_dir = \"experiments/data_experiment/regime_fragments\"\n",
    "os.makedirs(output_dir, exist_ok=True)\n",
    "\n",
    "output_paths = {}\n",
    "for label in sorted(df_fragments[\"regime_name\"].unique()):\n",
    "    df_sub = df_fragments[df_fragments[\"regime_name\"] == label]\n",
    "    file_name = f\"fragment_data_{label}.csv\"\n",
    "    full_path = os.path.join(output_dir, file_name)\n",
    "    df_sub.to_csv(full_path)\n",
    "    output_paths[label] = full_path\n",
    "\n",
    "# === Debug Info ===\n",
    "print(\"\\nSaved 12-hours regime fragments:\")\n",
    "for regime, path in output_paths.items():\n",
    "    print(f\"{regime:25s} → {path}\")"
   ],
   "id": "f9ba80c8b7a182d3",
   "outputs": [
    {
     "name": "stdout",
     "output_type": "stream",
     "text": [
      "\n",
      "Saved 12-hours regime fragments:\n",
      "HighVol_DownTrend         → experiments/data_experiment/regime_fragments\\fragment_data_HighVol_DownTrend.csv\n",
      "HighVol_UpTrend           → experiments/data_experiment/regime_fragments\\fragment_data_HighVol_UpTrend.csv\n",
      "LowVol_DownTrend          → experiments/data_experiment/regime_fragments\\fragment_data_LowVol_DownTrend.csv\n",
      "LowVol_UpTrend            → experiments/data_experiment/regime_fragments\\fragment_data_LowVol_UpTrend.csv\n",
      "Sideways                  → experiments/data_experiment/regime_fragments\\fragment_data_Sideways.csv\n"
     ]
    }
   ],
   "execution_count": 1
  },
  {
   "metadata": {
    "ExecuteTime": {
     "end_time": "2025-07-04T04:46:57.501567Z",
     "start_time": "2025-07-04T04:46:16.303535Z"
    }
   },
   "cell_type": "code",
   "source": [
    "import pandas as pd\n",
    "import numpy as np\n",
    "import os\n",
    "from scipy.stats import linregress\n",
    "\n",
    "# === Config ===\n",
    "regime_dir = \"experiments/data_experiment/regime_fragments\"  # Path to your 12-hour regime fragments\n",
    "output_dir = \"experiments/backtest_fragments\"\n",
    "os.makedirs(output_dir, exist_ok=True)\n",
    "\n",
    "fragment_length = 720  # 12 hours = 720 minutes of 1-min bars\n",
    "\n",
    "# === Load all fragments ===\n",
    "fragment_dfs = []\n",
    "for file in os.listdir(regime_dir):\n",
    "    if file.endswith(\".csv\"):\n",
    "        df = pd.read_csv(os.path.join(regime_dir, file), parse_dates=[\"timestamp\"])\n",
    "        regime = file.replace(\"fragment_data_\", \"\").replace(\".csv\", \"\")\n",
    "        df[\"regime_name\"] = regime\n",
    "        df[\"fragment_id\"] = np.repeat(np.arange(len(df) // fragment_length), fragment_length)\n",
    "        fragment_dfs.append(df)\n",
    "\n",
    "df_all = pd.concat(fragment_dfs)\n",
    "\n",
    "# === Compute slope and volatility ===\n",
    "features = []\n",
    "for (regime, fid), group in df_all.groupby([\"regime_name\", \"fragment_id\"]):\n",
    "    if len(group) < fragment_length:\n",
    "        continue\n",
    "    x = np.arange(len(group))\n",
    "    y = group[\"close\"].values\n",
    "    slope = linregress(x, y).slope\n",
    "    volatility = group[\"close\"].pct_change().std()\n",
    "\n",
    "    features.append({\n",
    "        \"regime_name\": regime,\n",
    "        \"fragment_id\": fid,\n",
    "        \"slope\": slope,\n",
    "        \"slope_abs\": abs(slope),\n",
    "        \"volatility\": volatility\n",
    "    })\n",
    "\n",
    "df_feat = pd.DataFrame(features)\n",
    "\n",
    "# === Normalize and score ===\n",
    "df_feat[\"vol_norm\"] = df_feat.groupby(\"regime_name\")[\"volatility\"].transform(lambda x: (x - x.min()) / (x.max() - x.min()))\n",
    "df_feat[\"slope_norm\"] = df_feat.groupby(\"regime_name\")[\"slope_abs\"].transform(lambda x: (x - x.min()) / (x.max() - x.min()))\n",
    "\n",
    "def score(row):\n",
    "    if row[\"regime_name\"] == \"Sideways\":\n",
    "        return (1 - row[\"slope_norm\"]) * (1 - row[\"vol_norm\"])\n",
    "    elif \"UpTrend\" in row[\"regime_name\"]:\n",
    "        return row[\"slope_norm\"] * (1 - row[\"vol_norm\"]) if \"LowVol\" in row[\"regime_name\"] else row[\"slope_norm\"] * row[\"vol_norm\"]\n",
    "    elif \"DownTrend\" in row[\"regime_name\"]:\n",
    "        return row[\"slope_norm\"] * (1 - row[\"vol_norm\"]) if \"LowVol\" in row[\"regime_name\"] else row[\"slope_norm\"] * row[\"vol_norm\"]\n",
    "    else:\n",
    "        return 0.0\n",
    "\n",
    "df_feat[\"score\"] = df_feat.apply(score, axis=1)\n",
    "\n",
    "# === Select best fragment per regime ===\n",
    "best_fragments = df_feat.sort_values(\"score\", ascending=False).groupby(\"regime_name\").first().reset_index()\n",
    "\n",
    "# === Extract and save best fragments ===\n",
    "selected_dfs = []\n",
    "for _, row in best_fragments.iterrows():\n",
    "    regime = row[\"regime_name\"]\n",
    "    fid = row[\"fragment_id\"]\n",
    "    path = os.path.join(regime_dir, f\"fragment_data_{regime}.csv\")\n",
    "    df = pd.read_csv(path, parse_dates=[\"timestamp\"])\n",
    "    df[\"fragment_id\"] = np.repeat(np.arange(len(df) // fragment_length), fragment_length)\n",
    "    df_best = df[df[\"fragment_id\"] == fid].copy()\n",
    "    selected_dfs.append(df_best)\n",
    "\n",
    "df_final = pd.concat(selected_dfs).sort_values(\"timestamp\")\n",
    "output_path = os.path.join(output_dir, \"best_fragments_combined.csv\")\n",
    "df_final.to_csv(output_path, index=False)\n",
    "\n",
    "print(f\"[Save] Saved best 12-hour fragments per regime → {output_path}\")\n",
    "print(\"[Info] Regimes found:\", df_final['regime_name'].unique())"
   ],
   "id": "57f7e08bafd37de0",
   "outputs": [
    {
     "name": "stdout",
     "output_type": "stream",
     "text": [
      "[Save] Saved best 12-hour fragments per regime → experiments/backtest_fragments\\best_fragments_combined.csv\n",
      "[Info] Regimes found: ['HighVol_DownTrend' 'HighVol_UpTrend' 'Sideways' 'LowVol_DownTrend'\n",
      " 'LowVol_UpTrend']\n"
     ]
    }
   ],
   "execution_count": 2
  },
  {
   "metadata": {
    "ExecuteTime": {
     "end_time": "2025-07-04T04:46:58.275084Z",
     "start_time": "2025-07-04T04:46:57.596174Z"
    }
   },
   "cell_type": "code",
   "source": [
    "import pandas as pd\n",
    "import plotly.graph_objects as go\n",
    "import os\n",
    "\n",
    "# === Load best regime fragments ===\n",
    "csv_path = os.path.join(\"experiments\", \"backtest_fragments\", \"best_fragments_combined.csv\")\n",
    "df = pd.read_csv(csv_path, parse_dates=[\"timestamp\"])\n",
    "df.set_index(\"timestamp\", inplace=True)\n",
    "\n",
    "# === Sort by time, then group by regime ===\n",
    "df = df.sort_index()\n",
    "regimes = df[\"regime_name\"].unique()\n",
    "\n",
    "# === Limit to top 5 regimes (or less if fewer exist) ===\n",
    "top_regimes = list(regimes[:5])\n",
    "\n",
    "for regime in top_regimes:\n",
    "    df_plot = df[df[\"regime_name\"] == regime].copy()\n",
    "\n",
    "    # === Optional: Clamp outlier highs/lows for better visual ===\n",
    "    q1 = df_plot[\"close\"].quantile(0.25)\n",
    "    q3 = df_plot[\"close\"].quantile(0.75)\n",
    "    iqr = q3 - q1\n",
    "    lower = q1 - 3 * iqr\n",
    "    upper = q3 + 3 * iqr\n",
    "    df_plot[\"high\"] = df_plot[\"high\"].clip(upper=upper)\n",
    "    df_plot[\"low\"] = df_plot[\"low\"].clip(lower=lower)\n",
    "\n",
    "    # === Plot ===\n",
    "    fig = go.Figure()\n",
    "\n",
    "    # Candlestick\n",
    "    fig.add_trace(go.Candlestick(\n",
    "        x=df_plot.index,\n",
    "        open=df_plot[\"open\"],\n",
    "        high=df_plot[\"high\"],\n",
    "        low=df_plot[\"low\"],\n",
    "        close=df_plot[\"close\"],\n",
    "        name=\"Price\",\n",
    "        increasing_line_color='lime',\n",
    "        decreasing_line_color='red'\n",
    "    ))\n",
    "\n",
    "    # Layout\n",
    "    fig.update_layout(\n",
    "        title=f\"Best 12-Hour Fragment – {regime}\",\n",
    "        xaxis_title=\"Time\",\n",
    "        yaxis_title=\"Price\",\n",
    "        yaxis2=dict(overlaying='y', side='right', showgrid=False, title='Volume'),\n",
    "        height=600,\n",
    "        xaxis_rangeslider_visible=False,\n",
    "        template=\"plotly_white\"\n",
    "    )\n",
    "\n",
    "    fig.show()"
   ],
   "id": "f96559d87ded6407",
   "outputs": [
    {
     "data": {
      "application/vnd.plotly.v1+json": {
       "data": [
        {
         "close": {
          "dtype": "f8",
          "bdata": "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"
         },
         "decreasing": {
          "line": {
           "color": "red"
          }
         },
         "high": {
          "dtype": "f8",
          "bdata": "H4XrUTDg7EBcj8L1ANXsQB+F61FAz+xA4XoUrrfZ7EAfhetRgNnsQPYoXI962OxAAAAAABDc7EAfhetRANvsQOF6FK7/1exASOF6FD7T7EAUrkfh8tnsQBSuR+Hy2exAAAAAAADq7EAAAAAAAOfsQD0K16Nw4+xAAAAAAADg7EBmZmZmzt/sQPYoXI+62+xAXI/C9YDU7EAAAAAAwNTsQAAAAAAA2OxA9ihcj+LS7EAAAAAAQNPsQJqZmZlR1OxAMzMzMwPP7ED2KFyPuszsQAAAAAAAzOxAAAAAAMDN7EDNzMzMZMzsQAAAAAAAyexAH4XrUYDS7EAfhetRgNLsQDMzMzNLyOxAcT0K13PE7EBxPQrXY8TsQFK4HoUTw+xAAAAAAICx7EAAAAAAAKjsQKRwPQofs+xAAAAAAMC07EB7FK5HSansQHsUrkdJqexAAAAAAICi7EDhehSu/5zsQAAAAABAm+xAAAAAAICY7EDXo3A92pnsQK5H4XqMr+xAH4XrUcCl7EDNzMzM/JjsQOxRuB71oexAH4XrUbCh7EAUrkfh2qDsQHE9CtdbmexAAAAAAAij7EDD9Shcr6HsQLgehespqexAPQrXo5Cm7ED2KFyPCqjsQB+F61HAsOxAUrgehSus7EAAAAAAQLnsQPYoXI8quuxAmpmZmTGq7ECkcD0KL6rsQDMzMzMLqexAUrgehfOo7EB7FK5HiZvsQKRwPQpXluxAH4XrUQCS7EAfhetRQIrsQGZmZmYWguxAAAAAAMCO7EBcj8L1WJLsQAAAAABImexAhetRuDab7EAfhetRAJ3sQAAAAABAnOxA4XoUrn+P7EDhehSuL6PsQAAAAABAnuxAAAAAAICg7EAAAAAAAK/sQAAAAADAtuxAZmZmZg7Q7ED2KFyPqt/sQAAAAACA3exAMzMzM2vU7EAfhetRANDsQB+F61HA1+xAAAAAAIDI7EAfhetRwL/sQAAAAACAt+xAAAAAAACx7EAAAAAAgLvsQOF6FK5/tuxAj8L1KDS17ECuR+F6dK/sQD0K16OIsexAAAAAAICw7EAfhetRALXsQNejcD3SwOxA4XoUrr+67EAAAAAAQL3sQAAAAAAA1OxAAAAAAIDU7EAAAAAAwMPsQAAAAAAAzOxAKVyPwn3K7EDNzMzMtMzsQB+F61HA1+xAcT0K17PU7EAfhetRgNbsQB+F61GA1uxAAAAAAADS7EDhehSuf87sQAAAAAAAy+xAAAAAAMDO7EAAAAAAAM/sQHsUrkdJzOxAFK5H4drH7ECuR+F6fL7sQAAAAABAtuxAAAAAAEC27EAAAAAAQLbsQAAAAAAwsOxAAAAAAECt7EAfhetRgK7sQNejcD36rexAj8L1KLSr7EAAAAAAAKvsQB+F61FArexAAAAAAMCr7EAAAAAAwKvsQAAAAACArexAUrgehbOp7EAfhetRQLHsQAAAAABAqexAH4XrUUCw7EAAAAAAgKnsQB+F61HApuxACtejcJ2n7EAAAAAAAKnsQAAAAAAAoexAAAAAAMCa7EAAAAAASJXsQAAAAADAluxAAAAAAACV7EDhehSuv5DsQAAAAADAkexAAAAAAICO7EAAAAAAwInsQB+F61EAjuxAAAAAAACI7EAAAAAAQI3sQJqZmZkZmOxAAAAAAECf7EDhehSuv5nsQOF6FK7/luxA16NwPaqZ7EAzMzMzI5vsQJqZmZm5nOxAAAAAAICY7EAAAAAAgJ3sQAAAAACAnOxAAAAAAMCa7EApXI/CrZrsQOxRuB79kuxAAAAAAECQ7ECkcD0K15DsQAAAAAAAj+xArkfheiyP7EAfhetRQInsQB+F61FAhOxAXI/C9WCI7EAAAAAAAInsQB+F61HAiexAAAAAAMCH7EAAAAAAwIjsQEjhehT2hOxAAAAAAECB7EAAAAAAgHrsQAAAAACAduxArkfhevxw7EAfhetRwHLsQAAAAADwbOxAAAAAAABh7EC4HoXrSWbsQB+F61HAXexAAAAAAEBe7EAfhetRQFvsQKRwPQq/YexApHA9Cm9p7EC4HoXrKWbsQFK4HoVDbOxAH4XrUcBv7EAAAAAAwGzsQAAAAABAb+xAH4XrUXh37EAfhetRQHfsQBSuR+EyeOxAH4XrUcBp7EBSuB6Fi1fsQAAAAAAATuxAH4XrUYBC7EDhehSuv0HsQB+F61EAMuxAAAAAAIAn7EDNzMzMTBvsQB+F61GAQuxAH4XrUUBb7ECamZmZcXLsQMP1KFwfZ+xACtejcE1R7EAAAAAAAEvsQOF6FK7/S+xAAAAAAIBG7EBI4XoUTinsQDMzMzN7IexAH4XrUUAY7EAfhetRwAvsQAAAAAAAFuxAexSuRxkT7EA9CtejsArsQAAAAAAADuxAFK5H4foZ7EAfhetRwA3sQAAAAACAEexAH4XrUQAL7EAAAAAAwATsQAAAAABA+utA16NwPcLt60DhehSut9brQOxRuB79vetAAAAAAEDX60AAAAAAQMXrQAAAAAAAv+tAcT0K11PI60DsUbgefbzrQOF6FK5/4etApHA9Ctfh60DNzMzMNNzrQLgehesBwOtAH4XrUaDU60CuR+F6PMzrQNejcD3KwOtAZmZmZj7L60DhehSuP77rQOF6FK4/sutAhetRuD6X60AAAAAAQIXrQAAAAAAAaetAAAAAAABx60BI4XoUTnPrQAAAAADAfOtAPQrXo7Bq60AAAAAAwHLrQKRwPQp3Z+tASOF6FMZS60DsUbgeZU/rQHsUrkfZL+tAKVyPwn0K60AAAAAAgO3qQAAAAABg3epAUrgehZPH6kAAAAAAAF7qQI/C9SgMMOpAAAAAAIDy6UAAAAAAwFXqQJqZmZnZxOpAuB6F6+G56kBI4XoUrtPqQFK4HoVL1OpA4XoUrr/C6kBmZmZmTsHqQI/C9Sis2upAzczMzLTU6kB7FK5HubHqQB+F61EApOpA4XoUrv9d6kDsUbgefV7qQIXrUbjOk+pASOF6FO6S6kAAAAAA4IzqQAAAAAAAg+pAXI/C9YB46kAAAAAAAIHqQAAAAAAAw+pA4XoUrj/E6kBcj8L1MLjqQAAAAAAA2+pAAAAAAIDU6kBI4XoU/sXqQB+F61HYvepAPQrXo3jI6kAzMzMzu8fqQJqZmZkZ0+pACtejcAXS6kAAAAAAQPPqQJqZmZm58epAAAAAAHDD6kBI4XoUVs7qQBSuR+FauOpAhetRuD7K6kAAAAAAAL/qQOF6FK5/uupAPQrXoxjM6kBcj8L1CMvqQK5H4XrMw+pAAAAAAKDI6kDhehSuv8HqQAAAAACAvOpAw/UoXH+26kDhehSuv7fqQAAAAACAoupA7FG4HmWg6kAAAAAAQJvqQClcj8LljepA9ihcj9pp6kDhehSuX2PqQArXo3DFdepApHA9Cidi6kAK16NwTYvqQPYoXI9Kj+pAhetRuD6H6kDsUbge5XbqQB+F61FIaupA4XoUrs9U6kDhehSuv1fqQOxRuB6ta+pAUrgehTtj6kAK16NwfUjqQB+F61HwT+pACtejcJ1O6kBcj8L1UFnqQK5H4XpcaepAzczMzLx36kAAAAAAAH7qQPYoXI8yi+pAAAAAAICO6kBSuB6Fw3rqQAAAAABAhepAUrgehet66kBSuB6FU33qQNejcD1qgOpAAAAAAICF6kAzMzMzg5fqQD0K16P4nepA16NwPWKb6kAAAAAAgJPqQB+F61GAk+pAAAAAAMCI6kAAAAAAwHbqQOxRuB41bupApHA9Cr9m6kAfhetRyGfqQD0K16OIWupAuB6F65FZ6kDXo3A9olfqQAAAAACAaupArkfheiRn6kDhehSuF3HqQOF6FK4fkOpAhetRuD6Y6kA9CtejYKTqQClcj8LtnupAmpmZmUGY6kAAAAAAwJ7qQM3MzMy8mOpAAAAAAMCX6kBI4XoUxq7qQHsUrkfZs+pAzczMzByx6kAAAAAAALjqQOF6FK4/t+pA4XoUrp+y6kC4HoXrwbPqQOF6FK7/pOpAUrgehaOn6kD2KFyPCpzqQAAAAAAAjepAAAAAAECA6kAAAAAAgH3qQM3MzMxsc+pAAAAAAIBu6kBxPQrXE4bqQAAAAABAfOpAZmZmZs5z6kCPwvUobHfqQBSuR+H6gOpA4XoUrv976kAfhetRQHLqQDMzMzOLf+pA7FG4HlWO6kD2KFyPwoPqQClcj8Ldh+pAw/UoXH+E6kBcj8L1SJ7qQOF6FK7/mupA16NwPTqm6kAzMzMzQ6HqQAAAAABAj+pAcT0K19uE6kDD9Shc53XqQOF6FK7ncupAZmZmZvZ/6kApXI/CHYrqQOF6FK7/c+pAAAAAAMCA6kA9CtejUH3qQAAAAACAe+pAAAAAAAB76kCamZmZiYHqQD0K16OYiepApHA9Csd/6kAAAAAAwIXqQGZmZmY+iOpAAAAAAECH6kDD9Shct5LqQAAAAAAAlupAMzMzM4Oe6kAAAAAAAJ/qQBSuR+GqkupAH4XrUcCO6kCkcD0KH4XqQD0K16NoeupAFK5H4bJ96kDhehSuP3PqQEjhehSub+pAAAAAAIBq6kBmZmZm9nPqQAAAAADAcOpAAAAAAEBu6kAAAAAAgGHqQD0K16MgU+pA4XoUrv9K6kAfhetRwF/qQB+F61GAV+pAKVyPwm1N6kCF61G4vmTqQFyPwvUAaOpA4XoUrm9m6kDhehSuV3HqQFK4HoV7e+pAuB6F68F/6kCuR+F6HH3qQOxRuB6djupAmpmZmfmT6kApXI/C1ZXqQB+F61HAnepACtejcF2b6kCF61G4FqbqQBSuR+F6pOpAAAAAAACb6kApXI/ChZrqQPYoXI/KlepAAAAAAMCP6kC4HoXriZPqQAAAAABAjepAcT0K14OB6kBxPQrXI4fqQEjhehT2gupAw/UoXH+A6kAAAAAAQHjqQOF6FK7/dOpAFK5H4fJ36kCPwvUorHbqQAAAAACAdupA7FG4HiV16kAAAAAAgGzqQI/C9SiMYupA4XoUrv9e6kBxPQrXG1fqQArXo3D9XepAcT0K12Nm6kCkcD0Kv2TqQArXo3CVZOpAH4XrUQhm6kCF61G4pmHqQD0K16PAWupAXI/C9dhj6kAAAAAAQF/qQB+F61FAVepAAAAAAEBS6kAAAAAAgE7qQFK4HoVrSupAuB6F62lI6kAAAAAAgD/qQAAAAADANOpA4XoUrv8o6kAfhetRmDPqQIXrUbjePepAH4XrUQA36kA9CtejQC3qQAAAAAAAKOpAPQrXo6gi6kAAAAAAAAvqQD0K16PAAepA4XoUrr/16UAUrkfhygvqQAAAAABA/ulAAAAAAEDl6UAAAAAAmOnpQAAAAADAz+lAAAAAAADK6UDsUbgeVcrpQBSuR+E6vOlA16NwPSLR6UA9CtejgPXpQM3MzMzk5OlAFK5H4UrP6UA9CtejgMTpQDMzMzPDxOlAUrgehYPH6UBSuB6Fq8TpQOF6FK5P3ulAj8L1KAT16UAAAAAAABPqQAAAAACADepAw/UoXP8J6kA9CtejyEDqQArXo3BtM+pA4XoUrh846kAAAAAAgDTqQHsUrkfpKupACtejcG1B6kAAAAAAoD3qQJqZmZkBTOpAAAAAAIBI6kAfhetRAEPqQAAAAADAMupA4XoUrv8p6kAAAAAAgCbqQAAAAACAHepAAAAAAAAT6kAAAAAAQAvqQOF6FK6/B+pAH4XrUSDt6UB7FK5Haf7pQGZmZmb2CupA7FG4Hl0J6kAAAAAAwPvpQKRwPQov8OlA4XoUrrfr6UAAAAAAwOvpQAAAAAAA3OlAKVyPwqXb6UCPwvUoFObpQAAAAAAA4elAZmZmZi7j6UA9CtejMOzpQDMzMzNL2OlApHA9CtfL6UAAAAAAAMjpQIXrUbi2zOlAXI/C9Ujg6UDNzMzMFMrpQOF6FK7/uulA4XoUrj+66UCPwvUoZKTpQAAAAACAmelAZmZmZkaD6UAfhetRwH/pQFK4HoXTe+lA4XoUrieI6UDhehSuP3DpQNejcD3aeOlACtejcMVr6UDhehSuf1jpQAAAAABATelAAAAAAIAx6UAzMzMzy0HpQBSuR+FiJelASOF6FJby6EAAAAAAQPboQJqZmZlJ7uhAFK5H4RrI6EAfhetRgKDoQAAAAABAiuhApHA9CieI6EBmZmZmjoboQArXo3A1vehAAAAAAMCi6EAzMzMz05boQHsUrkdZp+hAAAAAAADO6EAAAAAAAOfoQOF6FK6/4uhAAAAAAIDk6EA9CtejsPLoQK5H4Xrc2uhApHA9Ctfa6EAAAAAA6NfoQB+F61HYy+hAUrgehWPA6ECuR+F61KXoQI/C9Shkk+hA7FG4Hs2q6EApXI/C/ZzoQM3MzMyUy+hAAAAAAIDa6ECPwvUoNAvpQOxRuB4NKelAw/UoXD8m6UB7FK5HIUzpQLgehesxM+lAXI/C9YAc6UAAAAAAQBPpQB+F61GwA+lAAAAAAAAI6UAfhetRuBrpQD0K16OAG+lA4XoUrn8l6UDXo3A9+jTpQAAAAADAMelAPQrXo0Aw6UDhehSupzTpQAAAAABASulAj8L1KDRa6UDhehSut1DpQHsUrkexQOlAAAAAAMBO6UAAAAAAQFLpQNejcD1aa+lAAAAAAJhV6UCPwvUoRFbpQMP1KFx/SOlAAAAAAAA+6UBmZmZmdkbpQOF6FK4/QulAAAAAAOhV6UCamZmZKWzpQOF6FK4/g+lApHA9Cu9/6UCF61G4RqrpQNejcD3yq+lAcT0K1zOf6UAfhetR6JTpQGZmZmbuo+lAuB6F66Ge6UAAAAAAQLXpQM3MzMy0zOlAw/UoXHfA6UAAAAAAwM/pQAAAAAAA0elAcT0K18PP6UAAAAAAwKzpQAAAAACAnelAAAAAAMCY6UC4HoXrqbjpQM3MzMw0welAFK5H4brL6UAfhetRAMfpQOF6FK4nwOlAexSuR2HH6UC4HoXrYebpQKRwPQoH7OlAw/UoXE/j6UDsUbgeTc/pQBSuR+HaxelAexSuR4HS6UAfhetR8OHpQHsUrkfp5OlAPQrXozDj6UAfhetRCNTpQK5H4XqcwulAj8L1KNzD6UBxPQrXu7fpQAAAAADArelAAAAAAAjM6UDhehSuf8npQM3MzMz0y+lAAAAAAMDD6UAUrkfh2r3pQFK4HoV7velAPQrXoyDL6UDhehSuv8/pQDMzMzP72OlA9ihcj0rV6UAfhetRQNbpQAAAAACAxulAXI/C9cjD6UAAAAAAgLjpQI/C9Sg8sOlAAAAAADCu6UAAAAAAAKnpQEjhehTmrelAAAAAAMCr6UB7FK5H+bjpQEjhehRuw+lArkfheiTP6UBI4XoU1tjpQHE9CtdL/OlAPQrXo/j16UCkcD0Kj+PpQAAAAADA4OlAAAAAAIDf6UDXo3A94tzpQPYoXI965elAAAAAAADr6UBxPQrXi9/pQOF6FK6/3ulAMzMzMzve6UApXI/CFdTpQD0K16Ng1ulAAAAAAMDO6UAAAAAAAOHpQK5H4Xr82+lAuB6F68HV6UAAAAAA0OvpQIXrUbh+4elAKVyPwpXl6UAAAAAAQOXpQOF6FK5/2OlAAAAAAIDI6UCuR+F6FMDpQDMzMzMruulAH4XrUei56UAAAAAAAKjpQI/C9Sh0qulA"
         },
         "increasing": {
          "line": {
           "color": "lime"
          }
         },
         "low": {
          "dtype": "f8",
          "bdata": "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"
         },
         "name": "Price",
         "open": {
          "dtype": "f8",
          "bdata": "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"
         },
         "x": [
          "2024-08-04T20:46:00+00:00",
          "2024-08-04T20:47:00+00:00",
          "2024-08-04T20:48:00+00:00",
          "2024-08-04T20:49:00+00:00",
          "2024-08-04T20:50:00+00:00",
          "2024-08-04T20:51:00+00:00",
          "2024-08-04T20:52:00+00:00",
          "2024-08-04T20:53:00+00:00",
          "2024-08-04T20:54:00+00:00",
          "2024-08-04T20:55:00+00:00",
          "2024-08-04T20:56:00+00:00",
          "2024-08-04T20:57:00+00:00",
          "2024-08-04T20:58:00+00:00",
          "2024-08-04T20:59:00+00:00",
          "2024-08-04T21:00:00+00:00",
          "2024-08-04T21:01:00+00:00",
          "2024-08-04T21:02:00+00:00",
          "2024-08-04T21:03:00+00:00",
          "2024-08-04T21:04:00+00:00",
          "2024-08-04T21:05:00+00:00",
          "2024-08-04T21:06:00+00:00",
          "2024-08-04T21:07:00+00:00",
          "2024-08-04T21:08:00+00:00",
          "2024-08-04T21:09:00+00:00",
          "2024-08-04T21:10:00+00:00",
          "2024-08-04T21:11:00+00:00",
          "2024-08-04T21:12:00+00:00",
          "2024-08-04T21:13:00+00:00",
          "2024-08-04T21:14:00+00:00",
          "2024-08-04T21:15:00+00:00",
          "2024-08-04T21:16:00+00:00",
          "2024-08-04T21:17:00+00:00",
          "2024-08-04T21:18:00+00:00",
          "2024-08-04T21:19:00+00:00",
          "2024-08-04T21:20:00+00:00",
          "2024-08-04T21:21:00+00:00",
          "2024-08-04T21:22:00+00:00",
          "2024-08-04T21:23:00+00:00",
          "2024-08-04T21:24:00+00:00",
          "2024-08-04T21:25:00+00:00",
          "2024-08-04T21:26:00+00:00",
          "2024-08-04T21:27:00+00:00",
          "2024-08-04T21:28:00+00:00",
          "2024-08-04T21:29:00+00:00",
          "2024-08-04T21:30:00+00:00",
          "2024-08-04T21:31:00+00:00",
          "2024-08-04T21:32:00+00:00",
          "2024-08-04T21:33:00+00:00",
          "2024-08-04T21:34:00+00:00",
          "2024-08-04T21:35:00+00:00",
          "2024-08-04T21:36:00+00:00",
          "2024-08-04T21:37:00+00:00",
          "2024-08-04T21:38:00+00:00",
          "2024-08-04T21:39:00+00:00",
          "2024-08-04T21:40:00+00:00",
          "2024-08-04T21:41:00+00:00",
          "2024-08-04T21:42:00+00:00",
          "2024-08-04T21:43:00+00:00",
          "2024-08-04T21:44:00+00:00",
          "2024-08-04T21:45:00+00:00",
          "2024-08-04T21:46:00+00:00",
          "2024-08-04T21:47:00+00:00",
          "2024-08-04T21:48:00+00:00",
          "2024-08-04T21:49:00+00:00",
          "2024-08-04T21:50:00+00:00",
          "2024-08-04T21:51:00+00:00",
          "2024-08-04T21:52:00+00:00",
          "2024-08-04T21:53:00+00:00",
          "2024-08-04T21:54:00+00:00",
          "2024-08-04T21:55:00+00:00",
          "2024-08-04T21:56:00+00:00",
          "2024-08-04T21:57:00+00:00",
          "2024-08-04T21:58:00+00:00",
          "2024-08-04T21:59:00+00:00",
          "2024-08-04T22:00:00+00:00",
          "2024-08-04T22:01:00+00:00",
          "2024-08-04T22:02:00+00:00",
          "2024-08-04T22:03:00+00:00",
          "2024-08-04T22:04:00+00:00",
          "2024-08-04T22:05:00+00:00",
          "2024-08-04T22:06:00+00:00",
          "2024-08-04T22:07:00+00:00",
          "2024-08-04T22:08:00+00:00",
          "2024-08-04T22:09:00+00:00",
          "2024-08-04T22:10:00+00:00",
          "2024-08-04T22:11:00+00:00",
          "2024-08-04T22:12:00+00:00",
          "2024-08-04T22:13:00+00:00",
          "2024-08-04T22:14:00+00:00",
          "2024-08-04T22:15:00+00:00",
          "2024-08-04T22:16:00+00:00",
          "2024-08-04T22:17:00+00:00",
          "2024-08-04T22:18:00+00:00",
          "2024-08-04T22:19:00+00:00",
          "2024-08-04T22:20:00+00:00",
          "2024-08-04T22:21:00+00:00",
          "2024-08-04T22:22:00+00:00",
          "2024-08-04T22:23:00+00:00",
          "2024-08-04T22:24:00+00:00",
          "2024-08-04T22:25:00+00:00",
          "2024-08-04T22:26:00+00:00",
          "2024-08-04T22:27:00+00:00",
          "2024-08-04T22:28:00+00:00",
          "2024-08-04T22:29:00+00:00",
          "2024-08-04T22:30:00+00:00",
          "2024-08-04T22:31:00+00:00",
          "2024-08-04T22:32:00+00:00",
          "2024-08-04T22:33:00+00:00",
          "2024-08-04T22:34:00+00:00",
          "2024-08-04T22:35:00+00:00",
          "2024-08-04T22:36:00+00:00",
          "2024-08-04T22:37:00+00:00",
          "2024-08-04T22:38:00+00:00",
          "2024-08-04T22:39:00+00:00",
          "2024-08-04T22:40:00+00:00",
          "2024-08-04T22:41:00+00:00",
          "2024-08-04T22:42:00+00:00",
          "2024-08-04T22:43:00+00:00",
          "2024-08-04T22:44:00+00:00",
          "2024-08-04T22:45:00+00:00",
          "2024-08-04T22:46:00+00:00",
          "2024-08-04T22:47:00+00:00",
          "2024-08-04T22:48:00+00:00",
          "2024-08-04T22:49:00+00:00",
          "2024-08-04T22:50:00+00:00",
          "2024-08-04T22:51:00+00:00",
          "2024-08-04T22:52:00+00:00",
          "2024-08-04T22:53:00+00:00",
          "2024-08-04T22:54:00+00:00",
          "2024-08-04T22:55:00+00:00",
          "2024-08-04T22:56:00+00:00",
          "2024-08-04T22:57:00+00:00",
          "2024-08-04T22:58:00+00:00",
          "2024-08-04T22:59:00+00:00",
          "2024-08-04T23:00:00+00:00",
          "2024-08-04T23:01:00+00:00",
          "2024-08-04T23:02:00+00:00",
          "2024-08-04T23:03:00+00:00",
          "2024-08-04T23:04:00+00:00",
          "2024-08-04T23:05:00+00:00",
          "2024-08-04T23:06:00+00:00",
          "2024-08-04T23:07:00+00:00",
          "2024-08-04T23:08:00+00:00",
          "2024-08-04T23:09:00+00:00",
          "2024-08-04T23:10:00+00:00",
          "2024-08-04T23:11:00+00:00",
          "2024-08-04T23:12:00+00:00",
          "2024-08-04T23:13:00+00:00",
          "2024-08-04T23:14:00+00:00",
          "2024-08-04T23:15:00+00:00",
          "2024-08-04T23:16:00+00:00",
          "2024-08-04T23:17:00+00:00",
          "2024-08-04T23:18:00+00:00",
          "2024-08-04T23:19:00+00:00",
          "2024-08-04T23:20:00+00:00",
          "2024-08-04T23:21:00+00:00",
          "2024-08-04T23:22:00+00:00",
          "2024-08-04T23:23:00+00:00",
          "2024-08-04T23:24:00+00:00",
          "2024-08-04T23:25:00+00:00",
          "2024-08-04T23:26:00+00:00",
          "2024-08-04T23:27:00+00:00",
          "2024-08-04T23:28:00+00:00",
          "2024-08-04T23:29:00+00:00",
          "2024-08-04T23:30:00+00:00",
          "2024-08-04T23:31:00+00:00",
          "2024-08-04T23:32:00+00:00",
          "2024-08-04T23:33:00+00:00",
          "2024-08-04T23:34:00+00:00",
          "2024-08-04T23:35:00+00:00",
          "2024-08-04T23:36:00+00:00",
          "2024-08-04T23:37:00+00:00",
          "2024-08-04T23:38:00+00:00",
          "2024-08-04T23:39:00+00:00",
          "2024-08-04T23:40:00+00:00",
          "2024-08-04T23:41:00+00:00",
          "2024-08-04T23:42:00+00:00",
          "2024-08-04T23:43:00+00:00",
          "2024-08-04T23:44:00+00:00",
          "2024-08-04T23:45:00+00:00",
          "2024-08-04T23:46:00+00:00",
          "2024-08-04T23:47:00+00:00",
          "2024-08-04T23:48:00+00:00",
          "2024-08-04T23:49:00+00:00",
          "2024-08-04T23:50:00+00:00",
          "2024-08-04T23:51:00+00:00",
          "2024-08-04T23:52:00+00:00",
          "2024-08-04T23:53:00+00:00",
          "2024-08-04T23:54:00+00:00",
          "2024-08-04T23:55:00+00:00",
          "2024-08-04T23:56:00+00:00",
          "2024-08-04T23:57:00+00:00",
          "2024-08-04T23:58:00+00:00",
          "2024-08-04T23:59:00+00:00",
          "2024-08-05T00:00:00+00:00",
          "2024-08-05T00:01:00+00:00",
          "2024-08-05T00:02:00+00:00",
          "2024-08-05T00:03:00+00:00",
          "2024-08-05T00:04:00+00:00",
          "2024-08-05T00:05:00+00:00",
          "2024-08-05T00:06:00+00:00",
          "2024-08-05T00:07:00+00:00",
          "2024-08-05T00:08:00+00:00",
          "2024-08-05T00:09:00+00:00",
          "2024-08-05T00:10:00+00:00",
          "2024-08-05T00:11:00+00:00",
          "2024-08-05T00:12:00+00:00",
          "2024-08-05T00:13:00+00:00",
          "2024-08-05T00:14:00+00:00",
          "2024-08-05T00:15:00+00:00",
          "2024-08-05T00:16:00+00:00",
          "2024-08-05T00:17:00+00:00",
          "2024-08-05T00:18:00+00:00",
          "2024-08-05T00:19:00+00:00",
          "2024-08-05T00:20:00+00:00",
          "2024-08-05T00:21:00+00:00",
          "2024-08-05T00:22:00+00:00",
          "2024-08-05T00:23:00+00:00",
          "2024-08-05T00:24:00+00:00",
          "2024-08-05T00:25:00+00:00",
          "2024-08-05T00:26:00+00:00",
          "2024-08-05T00:27:00+00:00",
          "2024-08-05T00:28:00+00:00",
          "2024-08-05T00:29:00+00:00",
          "2024-08-05T00:30:00+00:00",
          "2024-08-05T00:31:00+00:00",
          "2024-08-05T00:32:00+00:00",
          "2024-08-05T00:33:00+00:00",
          "2024-08-05T00:34:00+00:00",
          "2024-08-05T00:35:00+00:00",
          "2024-08-05T00:36:00+00:00",
          "2024-08-05T00:37:00+00:00",
          "2024-08-05T00:38:00+00:00",
          "2024-08-05T00:39:00+00:00",
          "2024-08-05T00:40:00+00:00",
          "2024-08-05T00:41:00+00:00",
          "2024-08-05T00:42:00+00:00",
          "2024-08-05T00:43:00+00:00",
          "2024-08-05T00:44:00+00:00",
          "2024-08-05T00:45:00+00:00",
          "2024-08-05T00:46:00+00:00",
          "2024-08-05T00:47:00+00:00",
          "2024-08-05T00:48:00+00:00",
          "2024-08-05T00:49:00+00:00",
          "2024-08-05T00:50:00+00:00",
          "2024-08-05T00:51:00+00:00",
          "2024-08-05T00:52:00+00:00",
          "2024-08-05T00:53:00+00:00",
          "2024-08-05T00:54:00+00:00",
          "2024-08-05T00:55:00+00:00",
          "2024-08-05T00:56:00+00:00",
          "2024-08-05T00:57:00+00:00",
          "2024-08-05T00:58:00+00:00",
          "2024-08-05T00:59:00+00:00",
          "2024-08-05T01:00:00+00:00",
          "2024-08-05T01:01:00+00:00",
          "2024-08-05T01:02:00+00:00",
          "2024-08-05T01:03:00+00:00",
          "2024-08-05T01:04:00+00:00",
          "2024-08-05T01:05:00+00:00",
          "2024-08-05T01:06:00+00:00",
          "2024-08-05T01:07:00+00:00",
          "2024-08-05T01:08:00+00:00",
          "2024-08-05T01:09:00+00:00",
          "2024-08-05T01:10:00+00:00",
          "2024-08-05T01:11:00+00:00",
          "2024-08-05T01:12:00+00:00",
          "2024-08-05T01:13:00+00:00",
          "2024-08-05T01:14:00+00:00",
          "2024-08-05T01:15:00+00:00",
          "2024-08-05T01:16:00+00:00",
          "2024-08-05T01:17:00+00:00",
          "2024-08-05T01:18:00+00:00",
          "2024-08-05T01:19:00+00:00",
          "2024-08-05T01:20:00+00:00",
          "2024-08-05T01:21:00+00:00",
          "2024-08-05T01:22:00+00:00",
          "2024-08-05T01:23:00+00:00",
          "2024-08-05T01:24:00+00:00",
          "2024-08-05T01:25:00+00:00",
          "2024-08-05T01:26:00+00:00",
          "2024-08-05T01:27:00+00:00",
          "2024-08-05T01:28:00+00:00",
          "2024-08-05T01:29:00+00:00",
          "2024-08-05T01:30:00+00:00",
          "2024-08-05T01:31:00+00:00",
          "2024-08-05T01:32:00+00:00",
          "2024-08-05T01:33:00+00:00",
          "2024-08-05T01:34:00+00:00",
          "2024-08-05T01:35:00+00:00",
          "2024-08-05T01:36:00+00:00",
          "2024-08-05T01:37:00+00:00",
          "2024-08-05T01:38:00+00:00",
          "2024-08-05T01:39:00+00:00",
          "2024-08-05T01:40:00+00:00",
          "2024-08-05T01:41:00+00:00",
          "2024-08-05T01:42:00+00:00",
          "2024-08-05T01:43:00+00:00",
          "2024-08-05T01:44:00+00:00",
          "2024-08-05T01:45:00+00:00",
          "2024-08-05T01:46:00+00:00",
          "2024-08-05T01:47:00+00:00",
          "2024-08-05T01:48:00+00:00",
          "2024-08-05T01:49:00+00:00",
          "2024-08-05T01:50:00+00:00",
          "2024-08-05T01:51:00+00:00",
          "2024-08-05T01:52:00+00:00",
          "2024-08-05T01:53:00+00:00",
          "2024-08-05T01:54:00+00:00",
          "2024-08-05T01:55:00+00:00",
          "2024-08-05T01:56:00+00:00",
          "2024-08-05T01:57:00+00:00",
          "2024-08-05T01:58:00+00:00",
          "2024-08-05T01:59:00+00:00",
          "2024-08-05T02:00:00+00:00",
          "2024-08-05T02:01:00+00:00",
          "2024-08-05T02:02:00+00:00",
          "2024-08-05T02:03:00+00:00",
          "2024-08-05T02:04:00+00:00",
          "2024-08-05T02:05:00+00:00",
          "2024-08-05T02:06:00+00:00",
          "2024-08-05T02:07:00+00:00",
          "2024-08-05T02:08:00+00:00",
          "2024-08-05T02:09:00+00:00",
          "2024-08-05T02:10:00+00:00",
          "2024-08-05T02:11:00+00:00",
          "2024-08-05T02:12:00+00:00",
          "2024-08-05T02:13:00+00:00",
          "2024-08-05T02:14:00+00:00",
          "2024-08-05T02:15:00+00:00",
          "2024-08-05T02:16:00+00:00",
          "2024-08-05T02:17:00+00:00",
          "2024-08-05T02:18:00+00:00",
          "2024-08-05T02:19:00+00:00",
          "2024-08-05T02:20:00+00:00",
          "2024-08-05T02:21:00+00:00",
          "2024-08-05T02:22:00+00:00",
          "2024-08-05T02:23:00+00:00",
          "2024-08-05T02:24:00+00:00",
          "2024-08-05T02:25:00+00:00",
          "2024-08-05T02:26:00+00:00",
          "2024-08-05T02:27:00+00:00",
          "2024-08-05T02:28:00+00:00",
          "2024-08-05T02:29:00+00:00",
          "2024-08-05T02:30:00+00:00",
          "2024-08-05T02:31:00+00:00",
          "2024-08-05T02:32:00+00:00",
          "2024-08-05T02:33:00+00:00",
          "2024-08-05T02:34:00+00:00",
          "2024-08-05T02:35:00+00:00",
          "2024-08-05T02:36:00+00:00",
          "2024-08-05T02:37:00+00:00",
          "2024-08-05T02:38:00+00:00",
          "2024-08-05T02:39:00+00:00",
          "2024-08-05T02:40:00+00:00",
          "2024-08-05T02:41:00+00:00",
          "2024-08-05T02:42:00+00:00",
          "2024-08-05T02:43:00+00:00",
          "2024-08-05T02:44:00+00:00",
          "2024-08-05T02:45:00+00:00",
          "2024-08-05T02:46:00+00:00",
          "2024-08-05T02:47:00+00:00",
          "2024-08-05T02:48:00+00:00",
          "2024-08-05T02:49:00+00:00",
          "2024-08-05T02:50:00+00:00",
          "2024-08-05T02:51:00+00:00",
          "2024-08-05T02:52:00+00:00",
          "2024-08-05T02:53:00+00:00",
          "2024-08-05T02:54:00+00:00",
          "2024-08-05T02:55:00+00:00",
          "2024-08-05T02:56:00+00:00",
          "2024-08-05T02:57:00+00:00",
          "2024-08-05T02:58:00+00:00",
          "2024-08-05T02:59:00+00:00",
          "2024-08-05T03:00:00+00:00",
          "2024-08-05T03:01:00+00:00",
          "2024-08-05T03:02:00+00:00",
          "2024-08-05T03:03:00+00:00",
          "2024-08-05T03:04:00+00:00",
          "2024-08-05T03:05:00+00:00",
          "2024-08-05T03:06:00+00:00",
          "2024-08-05T03:07:00+00:00",
          "2024-08-05T03:08:00+00:00",
          "2024-08-05T03:09:00+00:00",
          "2024-08-05T03:10:00+00:00",
          "2024-08-05T03:11:00+00:00",
          "2024-08-05T03:12:00+00:00",
          "2024-08-05T03:13:00+00:00",
          "2024-08-05T03:14:00+00:00",
          "2024-08-05T03:15:00+00:00",
          "2024-08-05T03:16:00+00:00",
          "2024-08-05T03:17:00+00:00",
          "2024-08-05T03:18:00+00:00",
          "2024-08-05T03:19:00+00:00",
          "2024-08-05T03:20:00+00:00",
          "2024-08-05T03:21:00+00:00",
          "2024-08-05T03:22:00+00:00",
          "2024-08-05T03:23:00+00:00",
          "2024-08-05T03:24:00+00:00",
          "2024-08-05T03:25:00+00:00",
          "2024-08-05T03:26:00+00:00",
          "2024-08-05T03:27:00+00:00",
          "2024-08-05T03:28:00+00:00",
          "2024-08-05T03:29:00+00:00",
          "2024-08-05T03:30:00+00:00",
          "2024-08-05T03:31:00+00:00",
          "2024-08-05T03:32:00+00:00",
          "2024-08-05T03:33:00+00:00",
          "2024-08-05T03:34:00+00:00",
          "2024-08-05T03:35:00+00:00",
          "2024-08-05T03:36:00+00:00",
          "2024-08-05T03:37:00+00:00",
          "2024-08-05T03:38:00+00:00",
          "2024-08-05T03:39:00+00:00",
          "2024-08-05T03:40:00+00:00",
          "2024-08-05T03:41:00+00:00",
          "2024-08-05T03:42:00+00:00",
          "2024-08-05T03:43:00+00:00",
          "2024-08-05T03:44:00+00:00",
          "2024-08-05T03:45:00+00:00",
          "2024-08-05T03:46:00+00:00",
          "2024-08-05T03:47:00+00:00",
          "2024-08-05T03:48:00+00:00",
          "2024-08-05T03:49:00+00:00",
          "2024-08-05T03:50:00+00:00",
          "2024-08-05T03:51:00+00:00",
          "2024-08-05T03:52:00+00:00",
          "2024-08-05T03:53:00+00:00",
          "2024-08-05T03:54:00+00:00",
          "2024-08-05T03:55:00+00:00",
          "2024-08-05T03:56:00+00:00",
          "2024-08-05T03:57:00+00:00",
          "2024-08-05T03:58:00+00:00",
          "2024-08-05T03:59:00+00:00",
          "2024-08-05T04:00:00+00:00",
          "2024-08-05T04:01:00+00:00",
          "2024-08-05T04:02:00+00:00",
          "2024-08-05T04:03:00+00:00",
          "2024-08-05T04:04:00+00:00",
          "2024-08-05T04:05:00+00:00",
          "2024-08-05T04:06:00+00:00",
          "2024-08-05T04:07:00+00:00",
          "2024-08-05T04:08:00+00:00",
          "2024-08-05T04:09:00+00:00",
          "2024-08-05T04:10:00+00:00",
          "2024-08-05T04:11:00+00:00",
          "2024-08-05T04:12:00+00:00",
          "2024-08-05T04:13:00+00:00",
          "2024-08-05T04:14:00+00:00",
          "2024-08-05T04:15:00+00:00",
          "2024-08-05T04:16:00+00:00",
          "2024-08-05T04:17:00+00:00",
          "2024-08-05T04:18:00+00:00",
          "2024-08-05T04:19:00+00:00",
          "2024-08-05T04:20:00+00:00",
          "2024-08-05T04:21:00+00:00",
          "2024-08-05T04:22:00+00:00",
          "2024-08-05T04:23:00+00:00",
          "2024-08-05T04:24:00+00:00",
          "2024-08-05T04:25:00+00:00",
          "2024-08-05T04:26:00+00:00",
          "2024-08-05T04:27:00+00:00",
          "2024-08-05T04:28:00+00:00",
          "2024-08-05T04:29:00+00:00",
          "2024-08-05T04:30:00+00:00",
          "2024-08-05T04:31:00+00:00",
          "2024-08-05T04:32:00+00:00",
          "2024-08-05T04:33:00+00:00",
          "2024-08-05T04:34:00+00:00",
          "2024-08-05T04:35:00+00:00",
          "2024-08-05T04:36:00+00:00",
          "2024-08-05T04:37:00+00:00",
          "2024-08-05T04:38:00+00:00",
          "2024-08-05T04:39:00+00:00",
          "2024-08-05T04:40:00+00:00",
          "2024-08-05T04:41:00+00:00",
          "2024-08-05T04:42:00+00:00",
          "2024-08-05T04:43:00+00:00",
          "2024-08-05T04:44:00+00:00",
          "2024-08-05T04:45:00+00:00",
          "2024-08-05T04:46:00+00:00",
          "2024-08-05T04:47:00+00:00",
          "2024-08-05T04:48:00+00:00",
          "2024-08-05T04:49:00+00:00",
          "2024-08-05T04:50:00+00:00",
          "2024-08-05T04:51:00+00:00",
          "2024-08-05T04:52:00+00:00",
          "2024-08-05T04:53:00+00:00",
          "2024-08-05T04:54:00+00:00",
          "2024-08-05T04:55:00+00:00",
          "2024-08-05T04:56:00+00:00",
          "2024-08-05T04:57:00+00:00",
          "2024-08-05T04:58:00+00:00",
          "2024-08-05T04:59:00+00:00",
          "2024-08-05T05:00:00+00:00",
          "2024-08-05T05:01:00+00:00",
          "2024-08-05T05:02:00+00:00",
          "2024-08-05T05:03:00+00:00",
          "2024-08-05T05:04:00+00:00",
          "2024-08-05T05:05:00+00:00",
          "2024-08-05T05:06:00+00:00",
          "2024-08-05T05:07:00+00:00",
          "2024-08-05T05:08:00+00:00",
          "2024-08-05T05:09:00+00:00",
          "2024-08-05T05:10:00+00:00",
          "2024-08-05T05:11:00+00:00",
          "2024-08-05T05:12:00+00:00",
          "2024-08-05T05:13:00+00:00",
          "2024-08-05T05:14:00+00:00",
          "2024-08-05T05:15:00+00:00",
          "2024-08-05T05:16:00+00:00",
          "2024-08-05T05:17:00+00:00",
          "2024-08-05T05:18:00+00:00",
          "2024-08-05T05:19:00+00:00",
          "2024-08-05T05:20:00+00:00",
          "2024-08-05T05:21:00+00:00",
          "2024-08-05T05:22:00+00:00",
          "2024-08-05T05:23:00+00:00",
          "2024-08-05T05:24:00+00:00",
          "2024-08-05T05:25:00+00:00",
          "2024-08-05T05:26:00+00:00",
          "2024-08-05T05:27:00+00:00",
          "2024-08-05T05:28:00+00:00",
          "2024-08-05T05:29:00+00:00",
          "2024-08-05T05:30:00+00:00",
          "2024-08-05T05:31:00+00:00",
          "2024-08-05T05:32:00+00:00",
          "2024-08-05T05:33:00+00:00",
          "2024-08-05T05:34:00+00:00",
          "2024-08-05T05:35:00+00:00",
          "2024-08-05T05:36:00+00:00",
          "2024-08-05T05:37:00+00:00",
          "2024-08-05T05:38:00+00:00",
          "2024-08-05T05:39:00+00:00",
          "2024-08-05T05:40:00+00:00",
          "2024-08-05T05:41:00+00:00",
          "2024-08-05T05:42:00+00:00",
          "2024-08-05T05:43:00+00:00",
          "2024-08-05T05:44:00+00:00",
          "2024-08-05T05:45:00+00:00",
          "2024-08-05T05:46:00+00:00",
          "2024-08-05T05:47:00+00:00",
          "2024-08-05T05:48:00+00:00",
          "2024-08-05T05:49:00+00:00",
          "2024-08-05T05:50:00+00:00",
          "2024-08-05T05:51:00+00:00",
          "2024-08-05T05:52:00+00:00",
          "2024-08-05T05:53:00+00:00",
          "2024-08-05T05:54:00+00:00",
          "2024-08-05T05:55:00+00:00",
          "2024-08-05T05:56:00+00:00",
          "2024-08-05T05:57:00+00:00",
          "2024-08-05T05:58:00+00:00",
          "2024-08-05T05:59:00+00:00",
          "2024-08-05T06:00:00+00:00",
          "2024-08-05T06:01:00+00:00",
          "2024-08-05T06:02:00+00:00",
          "2024-08-05T06:03:00+00:00",
          "2024-08-05T06:04:00+00:00",
          "2024-08-05T06:05:00+00:00",
          "2024-08-05T06:06:00+00:00",
          "2024-08-05T06:07:00+00:00",
          "2024-08-05T06:08:00+00:00",
          "2024-08-05T06:09:00+00:00",
          "2024-08-05T06:10:00+00:00",
          "2024-08-05T06:11:00+00:00",
          "2024-08-05T06:12:00+00:00",
          "2024-08-05T06:13:00+00:00",
          "2024-08-05T06:14:00+00:00",
          "2024-08-05T06:15:00+00:00",
          "2024-08-05T06:16:00+00:00",
          "2024-08-05T06:17:00+00:00",
          "2024-08-05T06:18:00+00:00",
          "2024-08-05T06:19:00+00:00",
          "2024-08-05T06:20:00+00:00",
          "2024-08-05T06:21:00+00:00",
          "2024-08-05T06:22:00+00:00",
          "2024-08-05T06:23:00+00:00",
          "2024-08-05T06:24:00+00:00",
          "2024-08-05T06:25:00+00:00",
          "2024-08-05T06:26:00+00:00",
          "2024-08-05T06:27:00+00:00",
          "2024-08-05T06:28:00+00:00",
          "2024-08-05T06:29:00+00:00",
          "2024-08-05T06:30:00+00:00",
          "2024-08-05T06:31:00+00:00",
          "2024-08-05T06:32:00+00:00",
          "2024-08-05T06:33:00+00:00",
          "2024-08-05T06:34:00+00:00",
          "2024-08-05T06:35:00+00:00",
          "2024-08-05T06:36:00+00:00",
          "2024-08-05T06:37:00+00:00",
          "2024-08-05T06:38:00+00:00",
          "2024-08-05T06:39:00+00:00",
          "2024-08-05T06:40:00+00:00",
          "2024-08-05T06:41:00+00:00",
          "2024-08-05T06:42:00+00:00",
          "2024-08-05T06:43:00+00:00",
          "2024-08-05T06:44:00+00:00",
          "2024-08-05T06:45:00+00:00",
          "2024-08-05T06:46:00+00:00",
          "2024-08-05T06:47:00+00:00",
          "2024-08-05T06:48:00+00:00",
          "2024-08-05T06:49:00+00:00",
          "2024-08-05T06:50:00+00:00",
          "2024-08-05T06:51:00+00:00",
          "2024-08-05T06:52:00+00:00",
          "2024-08-05T06:53:00+00:00",
          "2024-08-05T06:54:00+00:00",
          "2024-08-05T06:55:00+00:00",
          "2024-08-05T06:56:00+00:00",
          "2024-08-05T06:57:00+00:00",
          "2024-08-05T06:58:00+00:00",
          "2024-08-05T06:59:00+00:00",
          "2024-08-05T07:00:00+00:00",
          "2024-08-05T07:01:00+00:00",
          "2024-08-05T07:02:00+00:00",
          "2024-08-05T07:03:00+00:00",
          "2024-08-05T07:04:00+00:00",
          "2024-08-05T07:05:00+00:00",
          "2024-08-05T07:06:00+00:00",
          "2024-08-05T07:07:00+00:00",
          "2024-08-05T07:08:00+00:00",
          "2024-08-05T07:09:00+00:00",
          "2024-08-05T07:10:00+00:00",
          "2024-08-05T07:11:00+00:00",
          "2024-08-05T07:12:00+00:00",
          "2024-08-05T07:13:00+00:00",
          "2024-08-05T07:14:00+00:00",
          "2024-08-05T07:15:00+00:00",
          "2024-08-05T07:16:00+00:00",
          "2024-08-05T07:17:00+00:00",
          "2024-08-05T07:18:00+00:00",
          "2024-08-05T07:19:00+00:00",
          "2024-08-05T07:20:00+00:00",
          "2024-08-05T07:21:00+00:00",
          "2024-08-05T07:22:00+00:00",
          "2024-08-05T07:23:00+00:00",
          "2024-08-05T07:24:00+00:00",
          "2024-08-05T07:25:00+00:00",
          "2024-08-05T07:26:00+00:00",
          "2024-08-05T07:27:00+00:00",
          "2024-08-05T07:28:00+00:00",
          "2024-08-05T07:29:00+00:00",
          "2024-08-05T07:30:00+00:00",
          "2024-08-05T07:31:00+00:00",
          "2024-08-05T07:32:00+00:00",
          "2024-08-05T07:33:00+00:00",
          "2024-08-05T07:34:00+00:00",
          "2024-08-05T07:35:00+00:00",
          "2024-08-05T07:36:00+00:00",
          "2024-08-05T07:37:00+00:00",
          "2024-08-05T07:38:00+00:00",
          "2024-08-05T07:39:00+00:00",
          "2024-08-05T07:40:00+00:00",
          "2024-08-05T07:41:00+00:00",
          "2024-08-05T07:42:00+00:00",
          "2024-08-05T07:43:00+00:00",
          "2024-08-05T07:44:00+00:00",
          "2024-08-05T07:45:00+00:00",
          "2024-08-05T07:46:00+00:00",
          "2024-08-05T07:47:00+00:00",
          "2024-08-05T07:48:00+00:00",
          "2024-08-05T07:49:00+00:00",
          "2024-08-05T07:50:00+00:00",
          "2024-08-05T07:51:00+00:00",
          "2024-08-05T07:52:00+00:00",
          "2024-08-05T07:53:00+00:00",
          "2024-08-05T07:54:00+00:00",
          "2024-08-05T07:55:00+00:00",
          "2024-08-05T07:56:00+00:00",
          "2024-08-05T07:57:00+00:00",
          "2024-08-05T07:58:00+00:00",
          "2024-08-05T07:59:00+00:00",
          "2024-08-05T08:00:00+00:00",
          "2024-08-05T08:01:00+00:00",
          "2024-08-05T08:02:00+00:00",
          "2024-08-05T08:03:00+00:00",
          "2024-08-05T08:04:00+00:00",
          "2024-08-05T08:05:00+00:00",
          "2024-08-05T08:06:00+00:00",
          "2024-08-05T08:07:00+00:00",
          "2024-08-05T08:08:00+00:00",
          "2024-08-05T08:09:00+00:00",
          "2024-08-05T08:10:00+00:00",
          "2024-08-05T08:11:00+00:00",
          "2024-08-05T08:12:00+00:00",
          "2024-08-05T08:13:00+00:00",
          "2024-08-05T08:14:00+00:00",
          "2024-08-05T08:15:00+00:00",
          "2024-08-05T08:16:00+00:00",
          "2024-08-05T08:17:00+00:00",
          "2024-08-05T08:18:00+00:00",
          "2024-08-05T08:19:00+00:00",
          "2024-08-05T08:20:00+00:00",
          "2024-08-05T08:21:00+00:00",
          "2024-08-05T08:22:00+00:00",
          "2024-08-05T08:23:00+00:00",
          "2024-08-05T08:24:00+00:00",
          "2024-08-05T08:25:00+00:00",
          "2024-08-05T08:26:00+00:00",
          "2024-08-05T08:27:00+00:00",
          "2024-08-05T08:28:00+00:00",
          "2024-08-05T08:29:00+00:00",
          "2024-08-05T08:30:00+00:00",
          "2024-08-05T08:31:00+00:00",
          "2024-08-05T08:32:00+00:00",
          "2024-08-05T08:33:00+00:00",
          "2024-08-05T08:34:00+00:00",
          "2024-08-05T08:35:00+00:00",
          "2024-08-05T08:36:00+00:00",
          "2024-08-05T08:37:00+00:00",
          "2024-08-05T08:38:00+00:00",
          "2024-08-05T08:39:00+00:00",
          "2024-08-05T08:40:00+00:00",
          "2024-08-05T08:41:00+00:00",
          "2024-08-05T08:42:00+00:00",
          "2024-08-05T08:43:00+00:00",
          "2024-08-05T08:44:00+00:00",
          "2024-08-05T08:45:00+00:00"
         ],
         "type": "candlestick"
        }
       ],
       "layout": {
        "template": {
         "data": {
          "barpolar": [
           {
            "marker": {
             "line": {
              "color": "white",
              "width": 0.5
             },
             "pattern": {
              "fillmode": "overlay",
              "size": 10,
              "solidity": 0.2
             }
            },
            "type": "barpolar"
           }
          ],
          "bar": [
           {
            "error_x": {
             "color": "#2a3f5f"
            },
            "error_y": {
             "color": "#2a3f5f"
            },
            "marker": {
             "line": {
              "color": "white",
              "width": 0.5
             },
             "pattern": {
              "fillmode": "overlay",
              "size": 10,
              "solidity": 0.2
             }
            },
            "type": "bar"
           }
          ],
          "carpet": [
           {
            "aaxis": {
             "endlinecolor": "#2a3f5f",
             "gridcolor": "#C8D4E3",
             "linecolor": "#C8D4E3",
             "minorgridcolor": "#C8D4E3",
             "startlinecolor": "#2a3f5f"
            },
            "baxis": {
             "endlinecolor": "#2a3f5f",
             "gridcolor": "#C8D4E3",
             "linecolor": "#C8D4E3",
             "minorgridcolor": "#C8D4E3",
             "startlinecolor": "#2a3f5f"
            },
            "type": "carpet"
           }
          ],
          "choropleth": [
           {
            "colorbar": {
             "outlinewidth": 0,
             "ticks": ""
            },
            "type": "choropleth"
           }
          ],
          "contourcarpet": [
           {
            "colorbar": {
             "outlinewidth": 0,
             "ticks": ""
            },
            "type": "contourcarpet"
           }
          ],
          "contour": [
           {
            "colorbar": {
             "outlinewidth": 0,
             "ticks": ""
            },
            "colorscale": [
             [
              0.0,
              "#0d0887"
             ],
             [
              0.1111111111111111,
              "#46039f"
             ],
             [
              0.2222222222222222,
              "#7201a8"
             ],
             [
              0.3333333333333333,
              "#9c179e"
             ],
             [
              0.4444444444444444,
              "#bd3786"
             ],
             [
              0.5555555555555556,
              "#d8576b"
             ],
             [
              0.6666666666666666,
              "#ed7953"
             ],
             [
              0.7777777777777778,
              "#fb9f3a"
             ],
             [
              0.8888888888888888,
              "#fdca26"
             ],
             [
              1.0,
              "#f0f921"
             ]
            ],
            "type": "contour"
           }
          ],
          "heatmap": [
           {
            "colorbar": {
             "outlinewidth": 0,
             "ticks": ""
            },
            "colorscale": [
             [
              0.0,
              "#0d0887"
             ],
             [
              0.1111111111111111,
              "#46039f"
             ],
             [
              0.2222222222222222,
              "#7201a8"
             ],
             [
              0.3333333333333333,
              "#9c179e"
             ],
             [
              0.4444444444444444,
              "#bd3786"
             ],
             [
              0.5555555555555556,
              "#d8576b"
             ],
             [
              0.6666666666666666,
              "#ed7953"
             ],
             [
              0.7777777777777778,
              "#fb9f3a"
             ],
             [
              0.8888888888888888,
              "#fdca26"
             ],
             [
              1.0,
              "#f0f921"
             ]
            ],
            "type": "heatmap"
           }
          ],
          "histogram2dcontour": [
           {
            "colorbar": {
             "outlinewidth": 0,
             "ticks": ""
            },
            "colorscale": [
             [
              0.0,
              "#0d0887"
             ],
             [
              0.1111111111111111,
              "#46039f"
             ],
             [
              0.2222222222222222,
              "#7201a8"
             ],
             [
              0.3333333333333333,
              "#9c179e"
             ],
             [
              0.4444444444444444,
              "#bd3786"
             ],
             [
              0.5555555555555556,
              "#d8576b"
             ],
             [
              0.6666666666666666,
              "#ed7953"
             ],
             [
              0.7777777777777778,
              "#fb9f3a"
             ],
             [
              0.8888888888888888,
              "#fdca26"
             ],
             [
              1.0,
              "#f0f921"
             ]
            ],
            "type": "histogram2dcontour"
           }
          ],
          "histogram2d": [
           {
            "colorbar": {
             "outlinewidth": 0,
             "ticks": ""
            },
            "colorscale": [
             [
              0.0,
              "#0d0887"
             ],
             [
              0.1111111111111111,
              "#46039f"
             ],
             [
              0.2222222222222222,
              "#7201a8"
             ],
             [
              0.3333333333333333,
              "#9c179e"
             ],
             [
              0.4444444444444444,
              "#bd3786"
             ],
             [
              0.5555555555555556,
              "#d8576b"
             ],
             [
              0.6666666666666666,
              "#ed7953"
             ],
             [
              0.7777777777777778,
              "#fb9f3a"
             ],
             [
              0.8888888888888888,
              "#fdca26"
             ],
             [
              1.0,
              "#f0f921"
             ]
            ],
            "type": "histogram2d"
           }
          ],
          "histogram": [
           {
            "marker": {
             "pattern": {
              "fillmode": "overlay",
              "size": 10,
              "solidity": 0.2
             }
            },
            "type": "histogram"
           }
          ],
          "mesh3d": [
           {
            "colorbar": {
             "outlinewidth": 0,
             "ticks": ""
            },
            "type": "mesh3d"
           }
          ],
          "parcoords": [
           {
            "line": {
             "colorbar": {
              "outlinewidth": 0,
              "ticks": ""
             }
            },
            "type": "parcoords"
           }
          ],
          "pie": [
           {
            "automargin": true,
            "type": "pie"
           }
          ],
          "scatter3d": [
           {
            "line": {
             "colorbar": {
              "outlinewidth": 0,
              "ticks": ""
             }
            },
            "marker": {
             "colorbar": {
              "outlinewidth": 0,
              "ticks": ""
             }
            },
            "type": "scatter3d"
           }
          ],
          "scattercarpet": [
           {
            "marker": {
             "colorbar": {
              "outlinewidth": 0,
              "ticks": ""
             }
            },
            "type": "scattercarpet"
           }
          ],
          "scattergeo": [
           {
            "marker": {
             "colorbar": {
              "outlinewidth": 0,
              "ticks": ""
             }
            },
            "type": "scattergeo"
           }
          ],
          "scattergl": [
           {
            "marker": {
             "colorbar": {
              "outlinewidth": 0,
              "ticks": ""
             }
            },
            "type": "scattergl"
           }
          ],
          "scattermapbox": [
           {
            "marker": {
             "colorbar": {
              "outlinewidth": 0,
              "ticks": ""
             }
            },
            "type": "scattermapbox"
           }
          ],
          "scattermap": [
           {
            "marker": {
             "colorbar": {
              "outlinewidth": 0,
              "ticks": ""
             }
            },
            "type": "scattermap"
           }
          ],
          "scatterpolargl": [
           {
            "marker": {
             "colorbar": {
              "outlinewidth": 0,
              "ticks": ""
             }
            },
            "type": "scatterpolargl"
           }
          ],
          "scatterpolar": [
           {
            "marker": {
             "colorbar": {
              "outlinewidth": 0,
              "ticks": ""
             }
            },
            "type": "scatterpolar"
           }
          ],
          "scatter": [
           {
            "fillpattern": {
             "fillmode": "overlay",
             "size": 10,
             "solidity": 0.2
            },
            "type": "scatter"
           }
          ],
          "scatterternary": [
           {
            "marker": {
             "colorbar": {
              "outlinewidth": 0,
              "ticks": ""
             }
            },
            "type": "scatterternary"
           }
          ],
          "surface": [
           {
            "colorbar": {
             "outlinewidth": 0,
             "ticks": ""
            },
            "colorscale": [
             [
              0.0,
              "#0d0887"
             ],
             [
              0.1111111111111111,
              "#46039f"
             ],
             [
              0.2222222222222222,
              "#7201a8"
             ],
             [
              0.3333333333333333,
              "#9c179e"
             ],
             [
              0.4444444444444444,
              "#bd3786"
             ],
             [
              0.5555555555555556,
              "#d8576b"
             ],
             [
              0.6666666666666666,
              "#ed7953"
             ],
             [
              0.7777777777777778,
              "#fb9f3a"
             ],
             [
              0.8888888888888888,
              "#fdca26"
             ],
             [
              1.0,
              "#f0f921"
             ]
            ],
            "type": "surface"
           }
          ],
          "table": [
           {
            "cells": {
             "fill": {
              "color": "#EBF0F8"
             },
             "line": {
              "color": "white"
             }
            },
            "header": {
             "fill": {
              "color": "#C8D4E3"
             },
             "line": {
              "color": "white"
             }
            },
            "type": "table"
           }
          ]
         },
         "layout": {
          "annotationdefaults": {
           "arrowcolor": "#2a3f5f",
           "arrowhead": 0,
           "arrowwidth": 1
          },
          "autotypenumbers": "strict",
          "coloraxis": {
           "colorbar": {
            "outlinewidth": 0,
            "ticks": ""
           }
          },
          "colorscale": {
           "diverging": [
            [
             0,
             "#8e0152"
            ],
            [
             0.1,
             "#c51b7d"
            ],
            [
             0.2,
             "#de77ae"
            ],
            [
             0.3,
             "#f1b6da"
            ],
            [
             0.4,
             "#fde0ef"
            ],
            [
             0.5,
             "#f7f7f7"
            ],
            [
             0.6,
             "#e6f5d0"
            ],
            [
             0.7,
             "#b8e186"
            ],
            [
             0.8,
             "#7fbc41"
            ],
            [
             0.9,
             "#4d9221"
            ],
            [
             1,
             "#276419"
            ]
           ],
           "sequential": [
            [
             0.0,
             "#0d0887"
            ],
            [
             0.1111111111111111,
             "#46039f"
            ],
            [
             0.2222222222222222,
             "#7201a8"
            ],
            [
             0.3333333333333333,
             "#9c179e"
            ],
            [
             0.4444444444444444,
             "#bd3786"
            ],
            [
             0.5555555555555556,
             "#d8576b"
            ],
            [
             0.6666666666666666,
             "#ed7953"
            ],
            [
             0.7777777777777778,
             "#fb9f3a"
            ],
            [
             0.8888888888888888,
             "#fdca26"
            ],
            [
             1.0,
             "#f0f921"
            ]
           ],
           "sequentialminus": [
            [
             0.0,
             "#0d0887"
            ],
            [
             0.1111111111111111,
             "#46039f"
            ],
            [
             0.2222222222222222,
             "#7201a8"
            ],
            [
             0.3333333333333333,
             "#9c179e"
            ],
            [
             0.4444444444444444,
             "#bd3786"
            ],
            [
             0.5555555555555556,
             "#d8576b"
            ],
            [
             0.6666666666666666,
             "#ed7953"
            ],
            [
             0.7777777777777778,
             "#fb9f3a"
            ],
            [
             0.8888888888888888,
             "#fdca26"
            ],
            [
             1.0,
             "#f0f921"
            ]
           ]
          },
          "colorway": [
           "#636efa",
           "#EF553B",
           "#00cc96",
           "#ab63fa",
           "#FFA15A",
           "#19d3f3",
           "#FF6692",
           "#B6E880",
           "#FF97FF",
           "#FECB52"
          ],
          "font": {
           "color": "#2a3f5f"
          },
          "geo": {
           "bgcolor": "white",
           "lakecolor": "white",
           "landcolor": "white",
           "showlakes": true,
           "showland": true,
           "subunitcolor": "#C8D4E3"
          },
          "hoverlabel": {
           "align": "left"
          },
          "hovermode": "closest",
          "mapbox": {
           "style": "light"
          },
          "paper_bgcolor": "white",
          "plot_bgcolor": "white",
          "polar": {
           "angularaxis": {
            "gridcolor": "#EBF0F8",
            "linecolor": "#EBF0F8",
            "ticks": ""
           },
           "bgcolor": "white",
           "radialaxis": {
            "gridcolor": "#EBF0F8",
            "linecolor": "#EBF0F8",
            "ticks": ""
           }
          },
          "scene": {
           "xaxis": {
            "backgroundcolor": "white",
            "gridcolor": "#DFE8F3",
            "gridwidth": 2,
            "linecolor": "#EBF0F8",
            "showbackground": true,
            "ticks": "",
            "zerolinecolor": "#EBF0F8"
           },
           "yaxis": {
            "backgroundcolor": "white",
            "gridcolor": "#DFE8F3",
            "gridwidth": 2,
            "linecolor": "#EBF0F8",
            "showbackground": true,
            "ticks": "",
            "zerolinecolor": "#EBF0F8"
           },
           "zaxis": {
            "backgroundcolor": "white",
            "gridcolor": "#DFE8F3",
            "gridwidth": 2,
            "linecolor": "#EBF0F8",
            "showbackground": true,
            "ticks": "",
            "zerolinecolor": "#EBF0F8"
           }
          },
          "shapedefaults": {
           "line": {
            "color": "#2a3f5f"
           }
          },
          "ternary": {
           "aaxis": {
            "gridcolor": "#DFE8F3",
            "linecolor": "#A2B1C6",
            "ticks": ""
           },
           "baxis": {
            "gridcolor": "#DFE8F3",
            "linecolor": "#A2B1C6",
            "ticks": ""
           },
           "bgcolor": "white",
           "caxis": {
            "gridcolor": "#DFE8F3",
            "linecolor": "#A2B1C6",
            "ticks": ""
           }
          },
          "title": {
           "x": 0.05
          },
          "xaxis": {
           "automargin": true,
           "gridcolor": "#EBF0F8",
           "linecolor": "#EBF0F8",
           "ticks": "",
           "title": {
            "standoff": 15
           },
           "zerolinecolor": "#EBF0F8",
           "zerolinewidth": 2
          },
          "yaxis": {
           "automargin": true,
           "gridcolor": "#EBF0F8",
           "linecolor": "#EBF0F8",
           "ticks": "",
           "title": {
            "standoff": 15
           },
           "zerolinecolor": "#EBF0F8",
           "zerolinewidth": 2
          }
         }
        },
        "yaxis2": {
         "overlaying": "y",
         "side": "right",
         "showgrid": false,
         "title": {
          "text": "Volume"
         }
        },
        "xaxis": {
         "rangeslider": {
          "visible": false
         },
         "title": {
          "text": "Time"
         }
        },
        "title": {
         "text": "Best 12-Hour Fragment – HighVol_DownTrend"
        },
        "yaxis": {
         "title": {
          "text": "Price"
         }
        },
        "height": 600
       },
       "config": {
        "plotlyServerURL": "https://plot.ly"
       }
      }
     },
     "metadata": {},
     "output_type": "display_data"
    },
    {
     "data": {
      "application/vnd.plotly.v1+json": {
       "data": [
        {
         "close": {
          "dtype": "f8",
          "bdata": "KVyPwtkj+UBxPQrXfw75QHsUrkdxtfhA16NwPT7q+EAAAAAAQOT4QHE9CtdLA/lAUrgehY8f+UCkcD0Kcxv5QOF6FK5/JPlAj8L1KEAZ+UC4HoXrBRz5QHsUrkeRJPlAFK5H4Vo1+UAAAAAAYD/5QM3MzMzkCvlAj8L1KPD0+EApXI/Cid34QAAAAAAA0/hAj8L1KADU+EAAAAAAQOD4QHsUrkcZ1PhAmpmZmWnR+EBxPQrXf8H4QI/C9ShAyvhAcT0K1//A+EAAAAAAcK/4QOF6FK6LtvhAKVyPwnGw+EAAAAAAQLn4QAAAAADAx/hA7FG4HhHT+EBmZmZmbsP4QIXrUbjqq/hAKVyPwn2M+EAfhetRoKL4QHsUrkexu/hAAAAAAIjL+ECkcD0Kw8X4QLgehevhrPhAAAAAAICx+ECPwvUowLX4QArXo3A1ovhAH4XrUXiR+ECamZmZpYv4QAAAAAAAdPhA4XoUrvt9+EAAAAAAwGH4QHsUrkddiPhAuB6F6zGt+EA9CtejRJr4QD0K16OojvhAuB6F61mI+EAAAAAAAHD4QPYoXI8yVfhACtejcP1v+EDhehSuT3b4QMP1KFzng/hA9ihcj6qq+EDsUbgesbX4QI/C9SjsyfhAj8L1KADJ+EA9Ctej/Mn4QAAAAABA3PhArkfhejjZ+EAAAAAAwM34QAAAAACg0fhAcT0K13/c+ECPwvUoQM/4QPYoXI9mwvhAhetRuBrN+EAAAAAAoLL4QIXrUbjCrPhAcT0K17+z+EDsUbgeOb34QOxRuB6Bp/hAPQrXoySi+EAzMzMzQ5v4QOxRuB5BrPhAZmZmZmKg+EAzMzMzO8X4QEjhehTeyPhACtejcMnO+ED2KFyP3sD4QD0K16M0t/hAj8L1KICo+EBI4XoUdsH4QHsUrkftu/hASOF6FE6u+EAAAAAAAML4QKRwPQq3xvhAuB6F6/2x+EApXI/CicD4QClcj8LhqvhAmpmZmUGr+EC4HoXr8Zb4QPYoXI8mpfhAXI/C9fC3+ED2KFyPar34QHE9Cte7wPhAUrgehQvK+EB7FK5Hab74QAAAAABouvhAhetRuPqn+EAAAAAAAK74QM3MzMzkpvhAAAAAAACg+EAAAAAAZLH4QLgeheuFsvhAAAAAAMCh+EAzMzMzK5j4QIXrUbgyoPhAuB6F68mH+EBcj8L1jHD4QIXrUbgeYfhAj8L1KCxZ+EBcj8L1ZH34QArXo3DhjvhAH4XrUcCa+EDD9Shcq5n4QAAAAABogPhApHA9CvNv+EDD9ShcQ1n4QOxRuB6NZ/hAMzMzM59Y+EA9CtejuHr4QAAAAAAAfvhApHA9Cn91+EAK16NwLX74QNejcD36b/hAcT0K1+th+ECamZmZVWz4QLgehev9X/hAAAAAABBm+ECPwvUoKF34QClcj8KZY/hAFK5H4VZg+EDNzMzMVG34QB+F61EAZfhAzczMzLhi+EDhehSuK1/4QDMzMzO3XPhA16NwPaJ1+EBI4XoUdoj4QB+F61HAePhAuB6F601r+EBSuB6Fq3H4QKRwPQrvdfhAzczMzMhu+EB7FK5HaXf4QI/C9SjIhfhAAAAAANB0+EBxPQrX52f4QLgehevhc/hAPQrXo4R2+ED2KFyPJmP4QHsUrkepY/hAKVyPwnFt+EBxPQrXP3X4QFK4HoUvdPhAPQrXo9Rs+ECkcD0KF3f4QOF6FK6zd/hAw/UoXLuG+EAAAAAAAH74QB+F61FAjvhAKVyPwo2D+ECamZmZGXn4QKRwPQrvhPhAAAAAAICO+ECamZmZJaX4QGZmZmZOl/hAKVyPwkmn+ECPwvUowJ34QAAAAABAk/hAcT0K17+R+EBmZmZmRon4QAAAAADAfPhAexSuR81v+ECPwvUoJG/4QHE9CtefdPhAexSuR813+EAK16NwvYb4QI/C9SgsifhACtejcFGB+EBxPQrX23j4QB+F61GwcvhAKVyPwhGA+EAAAAAAwIH4QHsUrkcRdfhAZmZmZi5z+ED2KFyProD4QI/C9Si4hfhAZmZmZiaR+EDsUbgeTZX4QEjhehQGmPhAcT0K17+b+EBxPQrXI6r4QAAAAADAofhAj8L1KByg+EBSuB6FX534QEjhehTaqPhAPQrXo9Cm+EB7FK5HHab4QNejcD2GoPhASOF6FDKu+EApXI/Cyaz4QBSuR+FysPhAj8L1KMCu+ED2KFyPhqn4QD0K16NQrfhAXI/C9Wi1+EAAAAAAZLL4QHsUrke9uPhA9ihcj064+ECkcD0KF7b4QLgehetZufhA4XoUrr+/+EAUrkfhEs/4QAAAAACszvhACtejcN3E+ECPwvUozMv4QLgeheuByvhAKVyPwjHD+EB7FK5HGdX4QGZmZmYq0fhA9ihcj77Y+EBmZmZmSt34QFK4HoVL4/hAZmZmZkLz+EAAAAAA0Pn4QHE9CtcP6/hAzczMzJTj+EBI4XoUZtn4QClcj8Lt4fhAzczMzJzS+EDD9ShcE9P4QKRwPQr3xfhAUrgehYfO+EDsUbgeldH4QBSuR+FW0/hAexSuRwXR+EA9Ctej0NH4QGZmZmYC0vhAMzMzM6/Z+EDXo3A9Wuf4QPYoXI/S3fhArkfheuzw+EBcj8L1NO/4QD0K16Mc2vhArkfhelTf+EBmZmZmBuz4QJqZmZmB2vhArkfhelDn+ECF61G4ZuL4QB+F61HA1/hASOF6FMrG+EDNzMzMbM/4QArXo3Ad1/hAFK5H4fLZ+ECuR+F6aNr4QNejcD1i2vhAXI/C9Ujg+EAzMzMzC+H4QDMzMzPn3vhACtejcM3k+EBmZmZmvuD4QKRwPQoH3fhApHA9Cgvc+EBmZmZmPtr4QK5H4XrY2vhAH4XrUazZ+EBSuB6Fm+H4QI/C9Sg46/hAPQrXo2zm+EDNzMzMUOP4QClcj8LB0/hAw/UoXHvO+ECuR+F6XNT4QD0K16Oo1fhArkfhepzZ+ECF61G4Csj4QArXo3AhyvhAXI/C9bDJ+EBSuB6FX9H4QHE9Ctdry/hA9ihcjwbP+ECF61G4os74QGZmZmZKz/hArkfhegTM+EB7FK5H5dT4QPYoXI861vhAAAAAABDZ+EApXI/CBdP4QHE9Ctc7z/hAKVyPwv3O+ECamZmZ/cn4QD0K16NUz/hAH4XrUTDT+EAAAAAAwMz4QJqZmZlFz/hAj8L1KLDK+EAfhetRmNP4QI/C9SjAxPhAmpmZmVnH+EAAAAAACMj4QOF6FK7fzfhAZmZmZobg+EDsUbge3dP4QLgehes13/hAj8L1KEDZ+ECuR+F6dOD4QFK4HoX31/hAZmZmZr7Y+EAUrkfhPuD4QBSuR+E23fhAH4XrUYjX+EBI4XoUktv4QAAAAABY2fhAMzMzM6fO+EDD9ShcH9H4QPYoXI/S0/hAj8L1KGjO+EAAAAAAgM74QMP1KFz7z/hAZmZmZqLP+EApXI/CWdn4QIXrUbiK2/hACtejcInV+EDsUbge1dn4QBSuR+Hq3PhAZmZmZpbb+EDhehSug9D4QAAAAABAz/hAexSuR7XU+EAAAAAAQNn4QGZmZmay4vhAAAAAAPDm+EAzMzMzo+L4QArXo3BN2vhAAAAAAGDX+EAfhetRwNH4QB+F61Gc0/hArkfhepzT+EDhehSug9j4QD0K16Nw1/hAexSuRzXa+EAAAAAAQNf4QHE9CteT2vhAMzMzMwfd+EAAAAAAgOT4QM3MzMxM5vhAFK5H4Uro+ECPwvUowOf4QHsUrkfB4PhAXI/C9WTi+ED2KFyPhuf4QEjhehRW8vhAKVyPwhn1+EDXo3A90vr4QOF6FK5b/vhAj8L1KPj9+EC4HoXrBQr5QIXrUbjiFvlAFK5H4WoI+UAUrkfhkgP5QNejcD12A/lAPQrXo3z++ECPwvUogAH5QGZmZmaC//hASOF6FJL9+EBmZmZmzvb4QLgehetN9vhAH4XrUUj4+EAK16NwhfX4QD0K16O08vhApHA9Cv/2+EAAAAAAAAD5QOF6FK43APlAMzMzMwsC+UDXo3A9JgH5QD0K16Ng/vhAmpmZmZUJ+UDsUbge7Q35QHsUrkcdE/lASOF6FH4U+UDNzMzMkBb5QDMzMzMLEflArkfheigI+UBxPQrXWwX5QD0K16OkB/lAexSuR4kP+UCamZmZtRf5QAAAAAAAD/lAH4XrUYAM+UDsUbge6Qn5QI/C9SjAA/lAw/UoXM8F+UDsUbgeXRn5QArXo3A5FPlAAAAAAIAI+UAK16NwpQP5QLgehesxBflAexSuR20H+UCPwvUoAAX5QLgehevVAvlACtejcFEB+UAAAAAAwAX5QClcj8LVAvlAj8L1KED++EBmZmZmjgD5QClcj8JZ//hAj8L1KKgA+UAAAAAAwP74QPYoXI+u//hA4XoUrusD+UD2KFyPRgv5QFyPwvW0BvlAFK5H4boI+UBcj8L1eA35QNejcD3qB/lAcT0K19MJ+UCamZmZnQT5QD0K16PQCflAXI/C9bQJ+UBSuB6F6xD5QB+F61GkDPlA7FG4HqUN+UAAAAAAQAv5QI/C9ShABvlAmpmZmen9+EAK16NwZf34QI/C9Sh8+/hACtejcNX7+EAzMzMzg/z4QHE9Cter//hAexSuR00F+UBI4XoUpgf5QK5H4XqgCPlA4XoUrh8I+UD2KFyPhgP5QEjhehQOC/lAAAAAAAAF+UCPwvUoQPn4QDMzMzPj9/hAw/UoXFP2+EA9CtejXP34QHsUrkcFBflACtejcHkJ+UC4HoXrRQb5QKRwPQoLDvlASOF6FLoP+UCuR+F6qAn5QJqZmZmlBvlAAAAAANQH+UDXo3A9Rgv5QOF6FK47EPlA7FG4HtEX+UD2KFyPohH5QFK4HoVbDvlArkfhetwW+UCuR+F69BD5QAAAAACAEvlAuB6F68UI+UAAAAAAAA/5QClcj8KhFvlAj8L1KGAP+UBcj8L1IBP5QClcj8KJFflAmpmZmcUS+UD2KFyPLhX5QHsUrkcJIvlA7FG4HmEu+UBSuB6Fdzr5QK5H4XpIQ/lAUrgehc9M+UApXI/CtUv5QPYoXI/WXPlAXI/C9Yh8+UBxPQrXF4/5QOxRuB7Ft/lAXI/C9fSv+UBSuB6FI8P5QAAAAADA4PlAPQrXo1Dt+UAzMzMz7/j5QOF6FK6/HPpAAAAAAIQ1+kCF61G4ckz6QI/C9SjAYPpAhetRuKKo+kDNzMzM/Fz6QClcj8K5RPpAPQrXoxgr+kAAAAAA6D36QJqZmZklZ/pAAAAAAMB5+kBmZmZmtmX6QDMzMzMDkPpAZmZmZlqE+kDD9Shcc536QAAAAADgpfpArkfheoCj+kDsUbgeIaH6QMP1KFzDgfpAPQrXo/Rx+kDNzMzMTI76QOxRuB7ZnfpA7FG4HvGc+kCF61G49pr6QArXo3CZkvpAzczMzMx7+kCuR+F6EHT6QGZmZmZ+ZfpAH4XrUZBz+kCamZmZ2Xr6QArXo3BNZvpArkfheuRP+kAK16Nw6Vz6QGZmZmauavpAj8L1KEhs+kAK16Nw8Xf6QIXrUbiqhfpAj8L1KGyX+kBmZmZmIor6QIXrUbjmkfpA9ihcj/aI+kBcj8L1kIP6QAAAAABAffpAAAAAAMBw+kC4HoXr6WX6QAAAAABkWPpAAAAAAEhi+kBmZmZmjnX6QI/C9ShQdfpAXI/C9Xhn+kBcj8L1EF76QK5H4XrcUvpAcT0K17NY+kBSuB6Fz1r6QHE9CtfPWvpA7FG4HsVS+kDhehSu90T6QM3MzMwISfpA16NwPVpN+kDhehSu51b6QOxRuB49UvpAcT0K179X+kBcj8L1jFr6QGZmZmbqUPpAj8L1KPhG+kAzMzMzy0r6QPYoXI8OQfpACtejcHEp+kBmZmZmCif6QOF6FK5fM/pA16NwPYY4+kCkcD0K9zj6QD0K16PURvpAcT0K1xc9+kApXI/CvUX6QOxRuB75SfpAZmZmZrZJ+kAzMzMzA0r6QNejcD2mS/pA4XoUrp9D+kBmZmZmGk/6QArXo3CBVfpAcT0K1z9a+kDhehSuZ1X6QHsUrkc1U/pAj8L1KHBK+kCF61G4FlP6QD0K16OwV/pAj8L1KOha+kC4HoXrYV76QHsUrkfVaPpAcT0K18Ns+kB7FK5HsWz6QHE9Ctd/avpAhetRuOJl+kD2KFyPTmL6QArXo3C5YfpA4XoUridi+kDNzMzMaGD6QNejcD3KWPpAMzMzMydY+kA9CtejZGn6QD0K16P0ZvpA7FG4HqVn+kBxPQrXf2z6QPYoXI82YfpACtejcA1c+kDhehSuK1r6QGZmZmZ+ZfpAAAAAABhr+kBmZmZm0mj6QEjhehTSafpAhetRuDJs+kDD9ShcQ2z6QHsUrkf5aPpA4XoUrk9Y+kApXI/COVn6QIXrUbieYvpASOF6FHJj+kDhehSu12j6QPYoXI+CZPpAKVyPwqVn+kBI4XoU9mr6QM3MzMw8a/pAPQrXo2Rr+kBxPQrX/2/6QAAAAAD4b/pAuB6F65Vx+kCPwvUoAHL6QFyPwvVIbvpAAAAAAABy+kCkcD0KM2r6QI/C9SjYdPpArkfheth6+kBmZmZmHof6QEjhehQylvpAhetRuIKh+kDXo3A9npf6QMP1KFyPm/pAw/UoXKOX+kAUrkfhloL6QAAAAADwiPpAAAAAAACG+kC4HoXrSY36QKRwPQrDlPpAAAAAAFyK+kCF61G48oL6QAAAAABYifpA9ihcjz6L+kAAAAAAnIb6QIXrUbgud/pAcT0K1591+kBcj8L1KH/6QMP1KFzHcvpAUrgehatm+kB7FK5H8WX6QFyPwvX0XPpArkfheuhl+kA9Ctej4Gz6QIXrUbhqafpA9ihcjypu+kAUrkfhPmj6QEjhehRqWfpAFK5H4aZY+kBSuB6Ft1b6QArXo3BBYfpAUrgehW9X+kBSuB6Fu0T6QIXrUbiuRfpAKVyPwu1R+kDNzMzM8Fb6QI/C9SiAT/pAXI/C9Shd+kBcj8L15Fv6QGZmZmZmX/pAj8L1KCBh+kCuR+F6HGP6QAAAAAAAX/pAw/UoXANa+kBxPQrXL1r6QHsUrkeRWvpA9ihcj55m+kBI4XoUcl76QAAAAADAYfpAMzMzM5dp+kBmZmZmNmr6QEjhehQ6afpA7FG4HoFn+kDNzMzMQGb6QB+F61GkbPpApHA9Cq9g+kD2KFyPPmP6QHE9CtcfXfpASOF6FE5h+kApXI/CmVv6QK5H4Xr8WfpAXI/C9aRk+kDsUbgeyVr6QEjhehQqXfpArkfhekRe+kCPwvUouGn6QD0K16NgafpAAAAAAEBk+kBSuB6F62L6QArXo3AVZPpAcT0K189o+kCF61G4Am76QGZmZmaGbfpA7FG4HjVt+kAAAAAA4HP6QArXo3ANf/pA7FG4Hg1/+kB7FK5HEX/6QBSuR+FyifpAzczMzOyE+kB7FK5HmX/6QIXrUbiygfpAXI/C9Rh6+kDNzMzMXH36QGZmZmbug/pAexSuR3WD+kBxPQrX1336QOF6FK6jePpAuB6F65F2+kDNzMzMRHT6QFyPwvUgbPpAuB6F67Vt+kAAAAAA4HP6QOF6FK5/c/pAUrgehStz+kCkcD0Kp4H6QArXo3CVffpArkfhevx5+kDhehSuh3r6QIXrUbh6e/pA"
         },
         "decreasing": {
          "line": {
           "color": "red"
          }
         },
         "high": {
          "dtype": "f8",
          "bdata": "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"
         },
         "increasing": {
          "line": {
           "color": "lime"
          }
         },
         "low": {
          "dtype": "f8",
          "bdata": "KVyPwtkj+UDhehSuzwz5QOxRuB5xtfhAw/UoXAuv+EAfhetRHNH4QKRwPQoj3/hAcT0K128B+UD2KFyPEg35QArXo3CNFPlAAAAAAKAO+UAAAAAAQBn5QClcj8IFHPlA7FG4HpEk+UCPwvUoeDP5QD0K16PkCvlArkfhepjf+EAK16NwLdz4QMP1KFzX0PhA9ihcj27I+EBcj8L1EM/4QAAAAAAg0vhAzczMzBzL+EAAAAAAbL34QHE9CteDuvhAAAAAAEC7+EAAAAAAcK/4QB+F61Hcp/hAXI/C9Yyr+EDNzMzMbK74QAAAAAAAt/hAj8L1KODG+EBxPQrXk7/4QIXrUbjqq/hAzczMzKSE+EAK16NwdYP4QD0K16PUofhAhetRuGK4+EAAAAAAAML4QLgehevhrPhACtejcBGk+EAfhetRyKv4QPYoXI9CnfhAAAAAAECQ+EAAAAAAwHz4QHE9Ctc/cPhAAAAAAIBr+EAUrkfhkmH4QEjhehSyXPhA9ihcj/qG+ECPwvUoCJb4QAAAAABghPhAuB6F61mI+ECPwvUowGv4QJqZmZk5VPhAAAAAAGBU+EAAAAAAQG34QM3MzMxUZ/hAUrgeheeD+ECamZmZjaX4QFyPwvV0sfhAAAAAAIC9+ED2KFyPOsf4QK5H4XrAyfhACtejcJXU+ECamZmZtcP4QGZmZmb+y/hApHA9CsvI+ECF61G4Ks/4QAAAAADgvPhASOF6FFq/+EAK16NwHbL4QPYoXI+Wp/hA9ihcj8Ks+EBxPQrXv7P4QAAAAAAAp/hAmpmZmR2c+EDNzMzM7JL4QK5H4XoMmfhAAAAAAECa+ECF61G4Dp/4QClcj8Itu/hAKVyPwrHA+EDD9Shco774QD0K16M0t/hAUrgehTOn+EDD9Shck6b4QJqZmZnBuPhAcT0K18us+EBcj8L1WK74QNejcD3WvvhAuB6F6wGx+EDD9Shce6r4QD0K16PUqPhAKVyPwuGq+EC4HoXrgZb4QAAAAAAglvhAAAAAAACh+EBcj8L1jLf4QAAAAACAt/hAexSuRwm1+EB7FK5HLbz4QIXrUbiGt/hAAAAAAACn+EAUrkfh+qf4QM3MzMxYn/hAj8L1KMCV+EAAAAAAAKD4QAAAAAAAq/hA4XoUrrue+EAAAAAAgJf4QEjhehSClvhAXI/C9diF+EAfhetRtG74QMP1KFwXXvhA9ihcj3ZX+EAAAAAA4E34QOF6FK47efhAexSuR+GO+EAAAAAAAJL4QIXrUbg6f/hArkfhesRn+EAAAAAAwFj4QAAAAABAVPhAUrgehQ9Y+EDhehSui1f4QFK4HoXvefhA9ihcj0pq+EBxPQrXC274QAAAAABQb/hAH4XrUUhf+ECPwvUoVFz4QD0K16PQX/hAw/UoXLNc+EDhehSug1z4QHsUrkdZW/hApHA9Cm9U+EAUrkfhVmD4QClcj8JZXPhAj8L1KEBc+EApXI/C3VL4QGZmZmYKVPhAexSuR1VZ+EAAAAAAAHT4QAAAAABkdvhAuB6F601r+EAUrkfhEmX4QI/C9ShIavhAFK5H4Ypu+EAAAAAA4Gb4QI/C9SjAcvhAH4XrUchy+EBcj8L1yGX4QOF6FK5rZPhAmpmZmSlx+EAAAAAAQGH4QAAAAAAQWvhAw/UoXItc+EAAAAAAYGb4QAAAAACAavhAuB6F65lq+EAAAAAAQGv4QJqZmZk1bPhAw/UoXI9z+ECPwvUogH34QPYoXI/eevhAAAAAAJCB+EAzMzMzE3H4QM3MzMycdvhASOF6FEaC+ECPwvUoLI34QGZmZmZOl/hArkfheqSW+ECamZmZVZ34QBSuR+H+kfhAj8L1KECQ+EBmZmZmRon4QB+F61FsevhAAAAAAMBs+ECamZmZ2Wf4QJqZmZkRbPhAAAAAAABz+EDD9Shcv3T4QAAAAACAgPhAAAAAAAB8+EAAAAAAgHb4QOF6FK53bvhAAAAAAMBu+EDNzMzMyHj4QLgeheutcvhAw/UoXPtx+EBcj8L1GHL4QM3MzMzofvhAj8L1KLiF+EAAAAAAgI/4QOxRuB5tkfhAAAAAAICP+EAAAAAAwJv4QClcj8INmfhAzczMzMCf+ECkcD0Kv5b4QI/C9SgAnPhASOF6FCaf+EBxPQrXb6X4QM3MzMz0nPhAw/UoXAOg+EB7FK5Hkav4QClcj8LJrPhA7FG4HpWt+ED2KFyPjqX4QMP1KFzPofhAPQrXo1Ct+EAUrkfh7q34QAAAAABksvhAAAAAAGSy+ECuR+F6NLT4QAAAAADAsfhAhetRuC64+EBSuB6Fv7/4QHsUrkfJx/hAhetRuEbA+EDsUbgeqcP4QB+F61GEyPhAAAAAAEDC+EApXI/CscL4QFyPwvWAzvhAXI/C9ZjQ+EAfhetRHNX4QPYoXI9K3fhACtejcGXi+EAAAAAAAOz4QOF6FK5b5vhApHA9Ckvb+ED2KFyPltf4QEjhehRm2fhAXI/C9fzQ+ECPwvUooM/4QArXo3DVxPhA16NwPcrA+EA9CtejwMr4QMP1KFyTzPhAAAAAAADO+EDsUbgeXcj4QK5H4XrQ0fhAAAAAAIjR+EAAAAAAwNj4QFK4HoXj2/hA9ihcj9Ld+EAAAAAAAOz4QFK4HoWD1/hACtejcJnX+ECuR+F6VN/4QOxRuB6F2fhAw/UoXNfZ+EAAAAAAwOD4QI/C9SjA1/hAKVyPwpXF+EB7FK5HkcX4QOxRuB49y/hApHA9CkPU+EAAAAAAQNH4QAAAAAAA2PhAmpmZmdXW+EBI4XoUpt74QOF6FK5D2PhACtejcAHc+EAAAAAAkN74QAAAAABI2/hAAAAAAIDa+EAK16Nwldf4QB+F61FQ0/hAXI/C9cDY+EDsUbgeDdT4QDMzMzNH4fhArkfhemzm+EBxPQrXF+H4QAAAAACc0/hAMzMzM3vO+EAAAAAAgM34QLgehesFzfhA16NwPVrP+EBcj8L1nMf4QPYoXI/ux/hAhetRuHLH+EBcj8L1sMn4QHsUrkd5yPhAzczMzEzK+EAAAAAAnM34QHsUrkdVyvhAhetRuPbG+EAfhetRqMv4QOxRuB4N0fhAzczMzPzT+EApXI/CgdL4QClcj8JJzvhAXI/C9VzN+EDhehSuy8j4QArXo3D9yfhAXI/C9VTN+EAzMzMzl8j4QEjhehSmy/hAAAAAAOjJ+ECPwvUosMr4QFK4HoU7xPhAMzMzMzPC+EBcj8L10MP4QHE9CtfzxfhAAAAAACjL+EDsUbge3dP4QOxRuB7d0/hAAAAAAAzZ+EAAAAAAQNn4QIXrUbii1vhAw/UoXMPX+EDXo3A9vtj4QGZmZma+2/hApHA9CpfW+EAUrkfhatP4QHE9CteH2PhAhetRuKbO+ECPwvUoAM74QJqZmZmRzvhAexSuR0XO+ECuR+F69Mn4QAAAAACAzvhAXI/C9QzM+EDXo3A9bs/4QOF6FK5H1vhAzczMzGzV+EA9CtejnNT4QAAAAABA1PhACtejcFnb+EC4HoXrac/4QFK4HoXjzfhArkfheqzN+ECkcD0KJ9D4QI/C9ShA2fhAZmZmZrLi+EAAAAAAAOL4QOF6FK5b2fhA4XoUru/W+ECPwvUowNH4QK5H4Xo40PhAw/UoXNPQ+ECuR+F6nNP4QBSuR+G21fhA7FG4HgHX+EBcj8L15NL4QMP1KFyr0/hAAAAAAPzW+EDNzMzMVNz4QI/C9SgA4vhAUrgehSvm+EBxPQrXr+T4QHsUrkfB4PhApHA9Ckff+EBmZmZmUuD4QDMzMzOv5vhAuB6F61Xy+EAzMzMzz/P4QKRwPQpD+vhAFK5H4bb6+EAAAAAA+P34QIXrUbhOCPlAKVyPwqUH+UDsUbge2QD5QNejcD2WAflAmpmZmRH9+EAAAAAAcPv4QKRwPQqH/PhAPQrXoxz8+EBmZmZmzvb4QHE9Ctef9fhAw/UoXAv2+EB7FK5HhfX4QHE9Ctf/7vhAPQrXo7Ty+EAUrkfh/vb4QD0K16M4/vhA4XoUrjcA+UDNzMzMZAD5QD0K16Ps9vhArkfhemD++ED2KFyP9gb5QGZmZmbSC/lAAAAAABAO+UC4HoXroQ/5QD0K16NoC/lApHA9Cn8G+UBmZmZmEgT5QI/C9SisAvlAhetRuEYG+UBxPQrXVw75QAAAAAAAD/lAPQrXo4QI+UAUrkfhIgn5QK5H4XowA/lASOF6FEIB+UDD9ShczwX5QArXo3C1DflAcT0K1+8H+UDsUbgedQH5QHsUrkelA/lA9ihcj+YD+UCPwvUoAAX5QGZmZmbuAflAAAAAAID8+EA9Ctej4Pz4QM3MzMxgAPlAPQrXo4z9+EAK16NwBf74QAAAAADA+/hA4XoUrsf8+EAAAAAAwP74QHE9Ctcn/PhAhetRuFb/+EDXo3A9ngP5QAAAAABABvlAj8L1KHwG+UCF61G4ugj5QNejcD3qB/lAmpmZmY0F+UAAAAAAuAD5QClcj8KdBPlAcT0K1/cD+UAfhetRQAb5QI/C9Sh0DPlAXI/C9YQM+UCkcD0Krwn5QAAAAABABvlApHA9Cg/9+EBSuB6FG/34QAAAAADA+fhAKVyPwoX6+EApXI/Cnfn4QAAAAAA8/PhAAAAAAGz/+ECkcD0KMwT5QJqZmZnFBflAmpmZmaUH+UAAAAAAQAL5QGZmZmYWA/lAcT0K1/8E+UAfhetRBPb4QEjhehSq9/hAzczMzMz0+EDD9ShcU/b4QM3MzMxc/fhAH4XrUaQE+UBcj8L1jAX5QDMzMzP/BflAexSuR3kK+UD2KFyPjgf5QJqZmZmlBvlAXI/C9cQC+UAAAAAAwAf5QLgehetFCflAw/UoXI8P+UAfhetRwBD5QD0K16MwDflA7FG4Hq0N+UCuR+F69BD5QK5H4Xr0EPlAhetRuAYH+UApXI/CxQj5QK5H4XrgDPlAexSuRykO+UCPwvUoOA75QIXrUbgyEvlACtejcMUS+UAAAAAAEA75QMP1KFzbFPlAexSuR90d+UDsUbgeYS75QFyPwvVoOvlAH4XrUUhD+UAK16NwKUX5QOF6FK7XSvlAZmZmZtZc+UDXo3A91nz5QIXrUbgej/lAAAAAAMCs+UCkcD0KU6z5QI/C9SjMwflAAAAAAIDc+UCamZmZ9eX5QAAAAAAA9flACtejcAUb+kBI4XoUkir6QHE9CtefR/pAj8L1KMBg+kD2KFyPEk36QJqZmZmBOvpA4XoUrqcW+kCF61G40hv6QFK4HoXTNfpAmpmZmRVO+kBmZmZmtmX6QK5H4XrAV/pAAAAAAOSC+kB7FK5HRXv6QAAAAAAAkPpAzczMzHiS+kAK16NwUZH6QAAAAAAAd/pAhetRuC5u+kC4HoXrwW/6QAAAAADgiPpAexSuRxGZ+kC4HoXrBY76QFyPwvWcifpAAAAAAAB3+kAK16NwZWb6QJqZmZk9X/pApHA9Cvtk+kCF61G4anP6QAAAAAAgYfpAhetRuCJN+kCPwvUoUEv6QAAAAACAW/pAexSuR9Fk+kBSuB6FE2f6QAAAAABAc/pAhetRuF6D+kCuR+F60IL6QM3MzMyYifpApHA9CgOF+kBSuB6Fn4L6QAAAAABAffpAexSuR1Ft+kDD9Shcz2X6QGZmZmZSVfpAMzMzM1tX+kBxPQrXR2D6QKRwPQo7cfpAXI/C9Xhn+kD2KFyPxlb6QHsUrkf1UfpASOF6FJpR+kDXo3A9rlf6QJqZmZkZUPpAXI/C9cRS+kBcj8L18EP6QDMzMzOXQ/pAPQrXo/hH+kCamZmZ6Uz6QGZmZmYWTvpAXI/C9TxS+kDD9Shc21H6QGZmZmbqUPpAPQrXoxhF+kAK16NwrUL6QPYoXI8OQfpAPQrXo7Qn+kAAAAAAsBr6QHsUrkdVJfpAUrgehV8z+kAAAAAAIC/6QBSuR+H2OPpAH4XrUcg8+kAzMzMz9zv6QOxRuB4JRfpA9ihcj05G+kD2KFyP/kP6QAAAAADAQ/pACtejcE1A+kA9Ctej2EH6QNejcD0aT/pAmpmZmelS+kCuR+F6/FL6QArXo3ChTfpAzczMzJRJ+kDhehSuq0j6QOxRuB4BUvpArkfherBX+kDXo3A9/lf6QHE9CtdPXfpAexSuRwFo+kCPwvUohGr6QBSuR+F+YvpAw/UoXNNl+kBmZmZmTmL6QM3MzMx4YfpAPQrXo9Bb+kAAAAAATGD6QPYoXI+uVvpAcT0K19tS+kAzMzMzJ1j6QFyPwvUoZPpA9ihcj/Zh+kBI4XoUEmf6QFyPwvWsX/pAmpmZmWlb+kDsUbgeAVr6QArXo3CNWfpA4XoUrh9l+kDXo3A90mj6QMP1KFyDZfpAuB6F69lo+kDNzMzMGGb6QHsUrkf5aPpApHA9CmdX+kDsUbgejVf6QClcj8I5WfpAj8L1KABe+kDNzMzMeGH6QHsUrkc1ZPpA4XoUrp9j+kApXI/CpWf6QB+F61GUafpAPQrXo4hp+kBSuB6Fy2f6QBSuR+EibPpAFK5H4Spu+kCuR+F6JG36QFK4HoU3bfpAzczMzChu+kAfhetRlGn6QHE9CtevafpAZmZmZhJ0+kApXI/CcXr6QArXo3DFhPpAH4XrUayU+kCuR+F6qJb6QDMzMzMTl/pAhetRuEaW+kAUrkfhloL6QM3MzMy0efpAAAAAAACG+kCkcD0Kl4L6QB+F61EYivpAcT0K11uK+kCF61G48oL6QJqZmZmJgvpA4XoUruOG+kD2KFyPMoL6QB+F61FoavpAcT0K1591+kAAAAAAoHX6QDMzMzPHcvpAAAAAAABj+kBcj8L1uF76QDMzMzPPW/pAXI/C9fRc+kCamZmZQWT6QAAAAABAZfpA9ihcj2pp+kBcj8L1sGX6QAAAAACwVPpAw/UoXPtP+kDXo3A97lP6QMP1KFy3VvpA16NwPYJV+kAAAAAAAET6QAAAAADAQfpAhetRuK5F+kC4HoXrAVD6QAAAAACAT/pAAAAAAIBP+kDNzMzM5Fv6QNejcD3iW/pAAAAAAIBc+kDXo3A9ll/6QAAAAAAAXvpAzczMzHhZ+kBmZmZmYlT6QAAAAACAVfpAAAAAAPBY+kC4HoXrcV76QEjhehRyXvpAmpmZmT1f+kAzMzMz02b6QArXo3DZZvpAAAAAAMBm+kAAAAAAgGP6QM3MzMxAZvpAUrgehdtf+kB7FK5HEV76QI/C9ShIW/pAKVyPwhVb+kDsUbgehVv6QD0K16N0WPpArkfhevxZ+kAUrkfhYln6QClcj8LFWPpAAAAAAIBc+kCuR+F6RF76QK5H4XpgafpAAAAAAEBk+kApXI/CzWH6QOF6FK6fYfpA4XoUrp9h+kBxPQrXz2j6QLgeheudavpA4XoUrstp+kDsUbgeNW36QGZmZmYCcfpApHA9Cqt2+kB7FK5HLX76QArXo3ARf/pAj8L1KICD+kBmZmZmmn36QAAAAAAIf/pAmpmZmTV4+kC4HoXrVXn6QD0K16PQfPpAMzMzM0d9+kApXI/C4Xz6QJqZmZmdePpAw/UoXA92+kAAAAAAGG/6QDMzMzMza/pA4XoUruNm+kAUrkfhRmv6QHE9CtcTbfpAw/UoXCtz+kDD9ShcK3P6QI/C9SjAfPpAH4XrUfx5+kCamZmZrXj6QHE9CtezcvpA"
         },
         "name": "Price",
         "open": {
          "dtype": "f8",
          "bdata": "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"
         },
         "x": [
          "2025-01-19T22:46:00+00:00",
          "2025-01-19T22:47:00+00:00",
          "2025-01-19T22:48:00+00:00",
          "2025-01-19T22:49:00+00:00",
          "2025-01-19T22:50:00+00:00",
          "2025-01-19T22:51:00+00:00",
          "2025-01-19T22:52:00+00:00",
          "2025-01-19T22:53:00+00:00",
          "2025-01-19T22:54:00+00:00",
          "2025-01-19T22:55:00+00:00",
          "2025-01-19T22:56:00+00:00",
          "2025-01-19T22:57:00+00:00",
          "2025-01-19T22:58:00+00:00",
          "2025-01-19T22:59:00+00:00",
          "2025-01-19T23:00:00+00:00",
          "2025-01-19T23:01:00+00:00",
          "2025-01-19T23:02:00+00:00",
          "2025-01-19T23:03:00+00:00",
          "2025-01-19T23:04:00+00:00",
          "2025-01-19T23:05:00+00:00",
          "2025-01-19T23:06:00+00:00",
          "2025-01-19T23:07:00+00:00",
          "2025-01-19T23:08:00+00:00",
          "2025-01-19T23:09:00+00:00",
          "2025-01-19T23:10:00+00:00",
          "2025-01-19T23:11:00+00:00",
          "2025-01-19T23:12:00+00:00",
          "2025-01-19T23:13:00+00:00",
          "2025-01-19T23:14:00+00:00",
          "2025-01-19T23:15:00+00:00",
          "2025-01-19T23:16:00+00:00",
          "2025-01-19T23:17:00+00:00",
          "2025-01-19T23:18:00+00:00",
          "2025-01-19T23:19:00+00:00",
          "2025-01-19T23:20:00+00:00",
          "2025-01-19T23:21:00+00:00",
          "2025-01-19T23:22:00+00:00",
          "2025-01-19T23:23:00+00:00",
          "2025-01-19T23:24:00+00:00",
          "2025-01-19T23:25:00+00:00",
          "2025-01-19T23:26:00+00:00",
          "2025-01-19T23:27:00+00:00",
          "2025-01-19T23:28:00+00:00",
          "2025-01-19T23:29:00+00:00",
          "2025-01-19T23:30:00+00:00",
          "2025-01-19T23:31:00+00:00",
          "2025-01-19T23:32:00+00:00",
          "2025-01-19T23:33:00+00:00",
          "2025-01-19T23:34:00+00:00",
          "2025-01-19T23:35:00+00:00",
          "2025-01-19T23:36:00+00:00",
          "2025-01-19T23:37:00+00:00",
          "2025-01-19T23:38:00+00:00",
          "2025-01-19T23:39:00+00:00",
          "2025-01-19T23:40:00+00:00",
          "2025-01-19T23:41:00+00:00",
          "2025-01-19T23:42:00+00:00",
          "2025-01-19T23:43:00+00:00",
          "2025-01-19T23:44:00+00:00",
          "2025-01-19T23:45:00+00:00",
          "2025-01-19T23:46:00+00:00",
          "2025-01-19T23:47:00+00:00",
          "2025-01-19T23:48:00+00:00",
          "2025-01-19T23:49:00+00:00",
          "2025-01-19T23:50:00+00:00",
          "2025-01-19T23:51:00+00:00",
          "2025-01-19T23:52:00+00:00",
          "2025-01-19T23:53:00+00:00",
          "2025-01-19T23:54:00+00:00",
          "2025-01-19T23:55:00+00:00",
          "2025-01-19T23:56:00+00:00",
          "2025-01-19T23:57:00+00:00",
          "2025-01-19T23:58:00+00:00",
          "2025-01-19T23:59:00+00:00",
          "2025-01-20T00:00:00+00:00",
          "2025-01-20T00:01:00+00:00",
          "2025-01-20T00:02:00+00:00",
          "2025-01-20T00:03:00+00:00",
          "2025-01-20T00:04:00+00:00",
          "2025-01-20T00:05:00+00:00",
          "2025-01-20T00:06:00+00:00",
          "2025-01-20T00:07:00+00:00",
          "2025-01-20T00:08:00+00:00",
          "2025-01-20T00:09:00+00:00",
          "2025-01-20T00:10:00+00:00",
          "2025-01-20T00:11:00+00:00",
          "2025-01-20T00:12:00+00:00",
          "2025-01-20T00:13:00+00:00",
          "2025-01-20T00:14:00+00:00",
          "2025-01-20T00:15:00+00:00",
          "2025-01-20T00:16:00+00:00",
          "2025-01-20T00:17:00+00:00",
          "2025-01-20T00:18:00+00:00",
          "2025-01-20T00:19:00+00:00",
          "2025-01-20T00:20:00+00:00",
          "2025-01-20T00:21:00+00:00",
          "2025-01-20T00:22:00+00:00",
          "2025-01-20T00:23:00+00:00",
          "2025-01-20T00:24:00+00:00",
          "2025-01-20T00:25:00+00:00",
          "2025-01-20T00:26:00+00:00",
          "2025-01-20T00:27:00+00:00",
          "2025-01-20T00:28:00+00:00",
          "2025-01-20T00:29:00+00:00",
          "2025-01-20T00:30:00+00:00",
          "2025-01-20T00:31:00+00:00",
          "2025-01-20T00:32:00+00:00",
          "2025-01-20T00:33:00+00:00",
          "2025-01-20T00:34:00+00:00",
          "2025-01-20T00:35:00+00:00",
          "2025-01-20T00:36:00+00:00",
          "2025-01-20T00:37:00+00:00",
          "2025-01-20T00:38:00+00:00",
          "2025-01-20T00:39:00+00:00",
          "2025-01-20T00:40:00+00:00",
          "2025-01-20T00:41:00+00:00",
          "2025-01-20T00:42:00+00:00",
          "2025-01-20T00:43:00+00:00",
          "2025-01-20T00:44:00+00:00",
          "2025-01-20T00:45:00+00:00",
          "2025-01-20T00:46:00+00:00",
          "2025-01-20T00:47:00+00:00",
          "2025-01-20T00:48:00+00:00",
          "2025-01-20T00:49:00+00:00",
          "2025-01-20T00:50:00+00:00",
          "2025-01-20T00:51:00+00:00",
          "2025-01-20T00:52:00+00:00",
          "2025-01-20T00:53:00+00:00",
          "2025-01-20T00:54:00+00:00",
          "2025-01-20T00:55:00+00:00",
          "2025-01-20T00:56:00+00:00",
          "2025-01-20T00:57:00+00:00",
          "2025-01-20T00:58:00+00:00",
          "2025-01-20T00:59:00+00:00",
          "2025-01-20T01:00:00+00:00",
          "2025-01-20T01:01:00+00:00",
          "2025-01-20T01:02:00+00:00",
          "2025-01-20T01:03:00+00:00",
          "2025-01-20T01:04:00+00:00",
          "2025-01-20T01:05:00+00:00",
          "2025-01-20T01:06:00+00:00",
          "2025-01-20T01:07:00+00:00",
          "2025-01-20T01:08:00+00:00",
          "2025-01-20T01:09:00+00:00",
          "2025-01-20T01:10:00+00:00",
          "2025-01-20T01:11:00+00:00",
          "2025-01-20T01:12:00+00:00",
          "2025-01-20T01:13:00+00:00",
          "2025-01-20T01:14:00+00:00",
          "2025-01-20T01:15:00+00:00",
          "2025-01-20T01:16:00+00:00",
          "2025-01-20T01:17:00+00:00",
          "2025-01-20T01:18:00+00:00",
          "2025-01-20T01:19:00+00:00",
          "2025-01-20T01:20:00+00:00",
          "2025-01-20T01:21:00+00:00",
          "2025-01-20T01:22:00+00:00",
          "2025-01-20T01:23:00+00:00",
          "2025-01-20T01:24:00+00:00",
          "2025-01-20T01:25:00+00:00",
          "2025-01-20T01:26:00+00:00",
          "2025-01-20T01:27:00+00:00",
          "2025-01-20T01:28:00+00:00",
          "2025-01-20T01:29:00+00:00",
          "2025-01-20T01:30:00+00:00",
          "2025-01-20T01:31:00+00:00",
          "2025-01-20T01:32:00+00:00",
          "2025-01-20T01:33:00+00:00",
          "2025-01-20T01:34:00+00:00",
          "2025-01-20T01:35:00+00:00",
          "2025-01-20T01:36:00+00:00",
          "2025-01-20T01:37:00+00:00",
          "2025-01-20T01:38:00+00:00",
          "2025-01-20T01:39:00+00:00",
          "2025-01-20T01:40:00+00:00",
          "2025-01-20T01:41:00+00:00",
          "2025-01-20T01:42:00+00:00",
          "2025-01-20T01:43:00+00:00",
          "2025-01-20T01:44:00+00:00",
          "2025-01-20T01:45:00+00:00",
          "2025-01-20T01:46:00+00:00",
          "2025-01-20T01:47:00+00:00",
          "2025-01-20T01:48:00+00:00",
          "2025-01-20T01:49:00+00:00",
          "2025-01-20T01:50:00+00:00",
          "2025-01-20T01:51:00+00:00",
          "2025-01-20T01:52:00+00:00",
          "2025-01-20T01:53:00+00:00",
          "2025-01-20T01:54:00+00:00",
          "2025-01-20T01:55:00+00:00",
          "2025-01-20T01:56:00+00:00",
          "2025-01-20T01:57:00+00:00",
          "2025-01-20T01:58:00+00:00",
          "2025-01-20T01:59:00+00:00",
          "2025-01-20T02:00:00+00:00",
          "2025-01-20T02:01:00+00:00",
          "2025-01-20T02:02:00+00:00",
          "2025-01-20T02:03:00+00:00",
          "2025-01-20T02:04:00+00:00",
          "2025-01-20T02:05:00+00:00",
          "2025-01-20T02:06:00+00:00",
          "2025-01-20T02:07:00+00:00",
          "2025-01-20T02:08:00+00:00",
          "2025-01-20T02:09:00+00:00",
          "2025-01-20T02:10:00+00:00",
          "2025-01-20T02:11:00+00:00",
          "2025-01-20T02:12:00+00:00",
          "2025-01-20T02:13:00+00:00",
          "2025-01-20T02:14:00+00:00",
          "2025-01-20T02:15:00+00:00",
          "2025-01-20T02:16:00+00:00",
          "2025-01-20T02:17:00+00:00",
          "2025-01-20T02:18:00+00:00",
          "2025-01-20T02:19:00+00:00",
          "2025-01-20T02:20:00+00:00",
          "2025-01-20T02:21:00+00:00",
          "2025-01-20T02:22:00+00:00",
          "2025-01-20T02:23:00+00:00",
          "2025-01-20T02:24:00+00:00",
          "2025-01-20T02:25:00+00:00",
          "2025-01-20T02:26:00+00:00",
          "2025-01-20T02:27:00+00:00",
          "2025-01-20T02:28:00+00:00",
          "2025-01-20T02:29:00+00:00",
          "2025-01-20T02:30:00+00:00",
          "2025-01-20T02:31:00+00:00",
          "2025-01-20T02:32:00+00:00",
          "2025-01-20T02:33:00+00:00",
          "2025-01-20T02:34:00+00:00",
          "2025-01-20T02:35:00+00:00",
          "2025-01-20T02:36:00+00:00",
          "2025-01-20T02:37:00+00:00",
          "2025-01-20T02:38:00+00:00",
          "2025-01-20T02:39:00+00:00",
          "2025-01-20T02:40:00+00:00",
          "2025-01-20T02:41:00+00:00",
          "2025-01-20T02:42:00+00:00",
          "2025-01-20T02:43:00+00:00",
          "2025-01-20T02:44:00+00:00",
          "2025-01-20T02:45:00+00:00",
          "2025-01-20T02:46:00+00:00",
          "2025-01-20T02:47:00+00:00",
          "2025-01-20T02:48:00+00:00",
          "2025-01-20T02:49:00+00:00",
          "2025-01-20T02:50:00+00:00",
          "2025-01-20T02:51:00+00:00",
          "2025-01-20T02:52:00+00:00",
          "2025-01-20T02:53:00+00:00",
          "2025-01-20T02:54:00+00:00",
          "2025-01-20T02:55:00+00:00",
          "2025-01-20T02:56:00+00:00",
          "2025-01-20T02:57:00+00:00",
          "2025-01-20T02:58:00+00:00",
          "2025-01-20T02:59:00+00:00",
          "2025-01-20T03:00:00+00:00",
          "2025-01-20T03:01:00+00:00",
          "2025-01-20T03:02:00+00:00",
          "2025-01-20T03:03:00+00:00",
          "2025-01-20T03:04:00+00:00",
          "2025-01-20T03:05:00+00:00",
          "2025-01-20T03:06:00+00:00",
          "2025-01-20T03:07:00+00:00",
          "2025-01-20T03:08:00+00:00",
          "2025-01-20T03:09:00+00:00",
          "2025-01-20T03:10:00+00:00",
          "2025-01-20T03:11:00+00:00",
          "2025-01-20T03:12:00+00:00",
          "2025-01-20T03:13:00+00:00",
          "2025-01-20T03:14:00+00:00",
          "2025-01-20T03:15:00+00:00",
          "2025-01-20T03:16:00+00:00",
          "2025-01-20T03:17:00+00:00",
          "2025-01-20T03:18:00+00:00",
          "2025-01-20T03:19:00+00:00",
          "2025-01-20T03:20:00+00:00",
          "2025-01-20T03:21:00+00:00",
          "2025-01-20T03:22:00+00:00",
          "2025-01-20T03:23:00+00:00",
          "2025-01-20T03:24:00+00:00",
          "2025-01-20T03:25:00+00:00",
          "2025-01-20T03:26:00+00:00",
          "2025-01-20T03:27:00+00:00",
          "2025-01-20T03:28:00+00:00",
          "2025-01-20T03:29:00+00:00",
          "2025-01-20T03:30:00+00:00",
          "2025-01-20T03:31:00+00:00",
          "2025-01-20T03:32:00+00:00",
          "2025-01-20T03:33:00+00:00",
          "2025-01-20T03:34:00+00:00",
          "2025-01-20T03:35:00+00:00",
          "2025-01-20T03:36:00+00:00",
          "2025-01-20T03:37:00+00:00",
          "2025-01-20T03:38:00+00:00",
          "2025-01-20T03:39:00+00:00",
          "2025-01-20T03:40:00+00:00",
          "2025-01-20T03:41:00+00:00",
          "2025-01-20T03:42:00+00:00",
          "2025-01-20T03:43:00+00:00",
          "2025-01-20T03:44:00+00:00",
          "2025-01-20T03:45:00+00:00",
          "2025-01-20T03:46:00+00:00",
          "2025-01-20T03:47:00+00:00",
          "2025-01-20T03:48:00+00:00",
          "2025-01-20T03:49:00+00:00",
          "2025-01-20T03:50:00+00:00",
          "2025-01-20T03:51:00+00:00",
          "2025-01-20T03:52:00+00:00",
          "2025-01-20T03:53:00+00:00",
          "2025-01-20T03:54:00+00:00",
          "2025-01-20T03:55:00+00:00",
          "2025-01-20T03:56:00+00:00",
          "2025-01-20T03:57:00+00:00",
          "2025-01-20T03:58:00+00:00",
          "2025-01-20T03:59:00+00:00",
          "2025-01-20T04:00:00+00:00",
          "2025-01-20T04:01:00+00:00",
          "2025-01-20T04:02:00+00:00",
          "2025-01-20T04:03:00+00:00",
          "2025-01-20T04:04:00+00:00",
          "2025-01-20T04:05:00+00:00",
          "2025-01-20T04:06:00+00:00",
          "2025-01-20T04:07:00+00:00",
          "2025-01-20T04:08:00+00:00",
          "2025-01-20T04:09:00+00:00",
          "2025-01-20T04:10:00+00:00",
          "2025-01-20T04:11:00+00:00",
          "2025-01-20T04:12:00+00:00",
          "2025-01-20T04:13:00+00:00",
          "2025-01-20T04:14:00+00:00",
          "2025-01-20T04:15:00+00:00",
          "2025-01-20T04:16:00+00:00",
          "2025-01-20T04:17:00+00:00",
          "2025-01-20T04:18:00+00:00",
          "2025-01-20T04:19:00+00:00",
          "2025-01-20T04:20:00+00:00",
          "2025-01-20T04:21:00+00:00",
          "2025-01-20T04:22:00+00:00",
          "2025-01-20T04:23:00+00:00",
          "2025-01-20T04:24:00+00:00",
          "2025-01-20T04:25:00+00:00",
          "2025-01-20T04:26:00+00:00",
          "2025-01-20T04:27:00+00:00",
          "2025-01-20T04:28:00+00:00",
          "2025-01-20T04:29:00+00:00",
          "2025-01-20T04:30:00+00:00",
          "2025-01-20T04:31:00+00:00",
          "2025-01-20T04:32:00+00:00",
          "2025-01-20T04:33:00+00:00",
          "2025-01-20T04:34:00+00:00",
          "2025-01-20T04:35:00+00:00",
          "2025-01-20T04:36:00+00:00",
          "2025-01-20T04:37:00+00:00",
          "2025-01-20T04:38:00+00:00",
          "2025-01-20T04:39:00+00:00",
          "2025-01-20T04:40:00+00:00",
          "2025-01-20T04:41:00+00:00",
          "2025-01-20T04:42:00+00:00",
          "2025-01-20T04:43:00+00:00",
          "2025-01-20T04:44:00+00:00",
          "2025-01-20T04:45:00+00:00",
          "2025-01-20T04:46:00+00:00",
          "2025-01-20T04:47:00+00:00",
          "2025-01-20T04:48:00+00:00",
          "2025-01-20T04:49:00+00:00",
          "2025-01-20T04:50:00+00:00",
          "2025-01-20T04:51:00+00:00",
          "2025-01-20T04:52:00+00:00",
          "2025-01-20T04:53:00+00:00",
          "2025-01-20T04:54:00+00:00",
          "2025-01-20T04:55:00+00:00",
          "2025-01-20T04:56:00+00:00",
          "2025-01-20T04:57:00+00:00",
          "2025-01-20T04:58:00+00:00",
          "2025-01-20T04:59:00+00:00",
          "2025-01-20T05:00:00+00:00",
          "2025-01-20T05:01:00+00:00",
          "2025-01-20T05:02:00+00:00",
          "2025-01-20T05:03:00+00:00",
          "2025-01-20T05:04:00+00:00",
          "2025-01-20T05:05:00+00:00",
          "2025-01-20T05:06:00+00:00",
          "2025-01-20T05:07:00+00:00",
          "2025-01-20T05:08:00+00:00",
          "2025-01-20T05:09:00+00:00",
          "2025-01-20T05:10:00+00:00",
          "2025-01-20T05:11:00+00:00",
          "2025-01-20T05:12:00+00:00",
          "2025-01-20T05:13:00+00:00",
          "2025-01-20T05:14:00+00:00",
          "2025-01-20T05:15:00+00:00",
          "2025-01-20T05:16:00+00:00",
          "2025-01-20T05:17:00+00:00",
          "2025-01-20T05:18:00+00:00",
          "2025-01-20T05:19:00+00:00",
          "2025-01-20T05:20:00+00:00",
          "2025-01-20T05:21:00+00:00",
          "2025-01-20T05:22:00+00:00",
          "2025-01-20T05:23:00+00:00",
          "2025-01-20T05:24:00+00:00",
          "2025-01-20T05:25:00+00:00",
          "2025-01-20T05:26:00+00:00",
          "2025-01-20T05:27:00+00:00",
          "2025-01-20T05:28:00+00:00",
          "2025-01-20T05:29:00+00:00",
          "2025-01-20T05:30:00+00:00",
          "2025-01-20T05:31:00+00:00",
          "2025-01-20T05:32:00+00:00",
          "2025-01-20T05:33:00+00:00",
          "2025-01-20T05:34:00+00:00",
          "2025-01-20T05:35:00+00:00",
          "2025-01-20T05:36:00+00:00",
          "2025-01-20T05:37:00+00:00",
          "2025-01-20T05:38:00+00:00",
          "2025-01-20T05:39:00+00:00",
          "2025-01-20T05:40:00+00:00",
          "2025-01-20T05:41:00+00:00",
          "2025-01-20T05:42:00+00:00",
          "2025-01-20T05:43:00+00:00",
          "2025-01-20T05:44:00+00:00",
          "2025-01-20T05:45:00+00:00",
          "2025-01-20T05:46:00+00:00",
          "2025-01-20T05:47:00+00:00",
          "2025-01-20T05:48:00+00:00",
          "2025-01-20T05:49:00+00:00",
          "2025-01-20T05:50:00+00:00",
          "2025-01-20T05:51:00+00:00",
          "2025-01-20T05:52:00+00:00",
          "2025-01-20T05:53:00+00:00",
          "2025-01-20T05:54:00+00:00",
          "2025-01-20T05:55:00+00:00",
          "2025-01-20T05:56:00+00:00",
          "2025-01-20T05:57:00+00:00",
          "2025-01-20T05:58:00+00:00",
          "2025-01-20T05:59:00+00:00",
          "2025-01-20T06:00:00+00:00",
          "2025-01-20T06:01:00+00:00",
          "2025-01-20T06:02:00+00:00",
          "2025-01-20T06:03:00+00:00",
          "2025-01-20T06:04:00+00:00",
          "2025-01-20T06:05:00+00:00",
          "2025-01-20T06:06:00+00:00",
          "2025-01-20T06:07:00+00:00",
          "2025-01-20T06:08:00+00:00",
          "2025-01-20T06:09:00+00:00",
          "2025-01-20T06:10:00+00:00",
          "2025-01-20T06:11:00+00:00",
          "2025-01-20T06:12:00+00:00",
          "2025-01-20T06:13:00+00:00",
          "2025-01-20T06:14:00+00:00",
          "2025-01-20T06:15:00+00:00",
          "2025-01-20T06:16:00+00:00",
          "2025-01-20T06:17:00+00:00",
          "2025-01-20T06:18:00+00:00",
          "2025-01-20T06:19:00+00:00",
          "2025-01-20T06:20:00+00:00",
          "2025-01-20T06:21:00+00:00",
          "2025-01-20T06:22:00+00:00",
          "2025-01-20T06:23:00+00:00",
          "2025-01-20T06:24:00+00:00",
          "2025-01-20T06:25:00+00:00",
          "2025-01-20T06:26:00+00:00",
          "2025-01-20T06:27:00+00:00",
          "2025-01-20T06:28:00+00:00",
          "2025-01-20T06:29:00+00:00",
          "2025-01-20T06:30:00+00:00",
          "2025-01-20T06:31:00+00:00",
          "2025-01-20T06:32:00+00:00",
          "2025-01-20T06:33:00+00:00",
          "2025-01-20T06:34:00+00:00",
          "2025-01-20T06:35:00+00:00",
          "2025-01-20T06:36:00+00:00",
          "2025-01-20T06:37:00+00:00",
          "2025-01-20T06:38:00+00:00",
          "2025-01-20T06:39:00+00:00",
          "2025-01-20T06:40:00+00:00",
          "2025-01-20T06:41:00+00:00",
          "2025-01-20T06:42:00+00:00",
          "2025-01-20T06:43:00+00:00",
          "2025-01-20T06:44:00+00:00",
          "2025-01-20T06:45:00+00:00",
          "2025-01-20T06:46:00+00:00",
          "2025-01-20T06:47:00+00:00",
          "2025-01-20T06:48:00+00:00",
          "2025-01-20T06:49:00+00:00",
          "2025-01-20T06:50:00+00:00",
          "2025-01-20T06:51:00+00:00",
          "2025-01-20T06:52:00+00:00",
          "2025-01-20T06:53:00+00:00",
          "2025-01-20T06:54:00+00:00",
          "2025-01-20T06:55:00+00:00",
          "2025-01-20T06:56:00+00:00",
          "2025-01-20T06:57:00+00:00",
          "2025-01-20T06:58:00+00:00",
          "2025-01-20T06:59:00+00:00",
          "2025-01-20T07:00:00+00:00",
          "2025-01-20T07:01:00+00:00",
          "2025-01-20T07:02:00+00:00",
          "2025-01-20T07:03:00+00:00",
          "2025-01-20T07:04:00+00:00",
          "2025-01-20T07:05:00+00:00",
          "2025-01-20T07:06:00+00:00",
          "2025-01-20T07:07:00+00:00",
          "2025-01-20T07:08:00+00:00",
          "2025-01-20T07:09:00+00:00",
          "2025-01-20T07:10:00+00:00",
          "2025-01-20T07:11:00+00:00",
          "2025-01-20T07:12:00+00:00",
          "2025-01-20T07:13:00+00:00",
          "2025-01-20T07:14:00+00:00",
          "2025-01-20T07:15:00+00:00",
          "2025-01-20T07:16:00+00:00",
          "2025-01-20T07:17:00+00:00",
          "2025-01-20T07:18:00+00:00",
          "2025-01-20T07:19:00+00:00",
          "2025-01-20T07:20:00+00:00",
          "2025-01-20T07:21:00+00:00",
          "2025-01-20T07:22:00+00:00",
          "2025-01-20T07:23:00+00:00",
          "2025-01-20T07:24:00+00:00",
          "2025-01-20T07:25:00+00:00",
          "2025-01-20T07:26:00+00:00",
          "2025-01-20T07:27:00+00:00",
          "2025-01-20T07:28:00+00:00",
          "2025-01-20T07:29:00+00:00",
          "2025-01-20T07:30:00+00:00",
          "2025-01-20T07:31:00+00:00",
          "2025-01-20T07:32:00+00:00",
          "2025-01-20T07:33:00+00:00",
          "2025-01-20T07:34:00+00:00",
          "2025-01-20T07:35:00+00:00",
          "2025-01-20T07:36:00+00:00",
          "2025-01-20T07:37:00+00:00",
          "2025-01-20T07:38:00+00:00",
          "2025-01-20T07:39:00+00:00",
          "2025-01-20T07:40:00+00:00",
          "2025-01-20T07:41:00+00:00",
          "2025-01-20T07:42:00+00:00",
          "2025-01-20T07:43:00+00:00",
          "2025-01-20T07:44:00+00:00",
          "2025-01-20T07:45:00+00:00",
          "2025-01-20T07:46:00+00:00",
          "2025-01-20T07:47:00+00:00",
          "2025-01-20T07:48:00+00:00",
          "2025-01-20T07:49:00+00:00",
          "2025-01-20T07:50:00+00:00",
          "2025-01-20T07:51:00+00:00",
          "2025-01-20T07:52:00+00:00",
          "2025-01-20T07:53:00+00:00",
          "2025-01-20T07:54:00+00:00",
          "2025-01-20T07:55:00+00:00",
          "2025-01-20T07:56:00+00:00",
          "2025-01-20T07:57:00+00:00",
          "2025-01-20T07:58:00+00:00",
          "2025-01-20T07:59:00+00:00",
          "2025-01-20T08:00:00+00:00",
          "2025-01-20T08:01:00+00:00",
          "2025-01-20T08:02:00+00:00",
          "2025-01-20T08:03:00+00:00",
          "2025-01-20T08:04:00+00:00",
          "2025-01-20T08:05:00+00:00",
          "2025-01-20T08:06:00+00:00",
          "2025-01-20T08:07:00+00:00",
          "2025-01-20T08:08:00+00:00",
          "2025-01-20T08:09:00+00:00",
          "2025-01-20T08:10:00+00:00",
          "2025-01-20T08:11:00+00:00",
          "2025-01-20T08:12:00+00:00",
          "2025-01-20T08:13:00+00:00",
          "2025-01-20T08:14:00+00:00",
          "2025-01-20T08:15:00+00:00",
          "2025-01-20T08:16:00+00:00",
          "2025-01-20T08:17:00+00:00",
          "2025-01-20T08:18:00+00:00",
          "2025-01-20T08:19:00+00:00",
          "2025-01-20T08:20:00+00:00",
          "2025-01-20T08:21:00+00:00",
          "2025-01-20T08:22:00+00:00",
          "2025-01-20T08:23:00+00:00",
          "2025-01-20T08:24:00+00:00",
          "2025-01-20T08:25:00+00:00",
          "2025-01-20T08:26:00+00:00",
          "2025-01-20T08:27:00+00:00",
          "2025-01-20T08:28:00+00:00",
          "2025-01-20T08:29:00+00:00",
          "2025-01-20T08:30:00+00:00",
          "2025-01-20T08:31:00+00:00",
          "2025-01-20T08:32:00+00:00",
          "2025-01-20T08:33:00+00:00",
          "2025-01-20T08:34:00+00:00",
          "2025-01-20T08:35:00+00:00",
          "2025-01-20T08:36:00+00:00",
          "2025-01-20T08:37:00+00:00",
          "2025-01-20T08:38:00+00:00",
          "2025-01-20T08:39:00+00:00",
          "2025-01-20T08:40:00+00:00",
          "2025-01-20T08:41:00+00:00",
          "2025-01-20T08:42:00+00:00",
          "2025-01-20T08:43:00+00:00",
          "2025-01-20T08:44:00+00:00",
          "2025-01-20T08:45:00+00:00",
          "2025-01-20T08:46:00+00:00",
          "2025-01-20T08:47:00+00:00",
          "2025-01-20T08:48:00+00:00",
          "2025-01-20T08:49:00+00:00",
          "2025-01-20T08:50:00+00:00",
          "2025-01-20T08:51:00+00:00",
          "2025-01-20T08:52:00+00:00",
          "2025-01-20T08:53:00+00:00",
          "2025-01-20T08:54:00+00:00",
          "2025-01-20T08:55:00+00:00",
          "2025-01-20T08:56:00+00:00",
          "2025-01-20T08:57:00+00:00",
          "2025-01-20T08:58:00+00:00",
          "2025-01-20T08:59:00+00:00",
          "2025-01-20T09:00:00+00:00",
          "2025-01-20T09:01:00+00:00",
          "2025-01-20T09:02:00+00:00",
          "2025-01-20T09:03:00+00:00",
          "2025-01-20T09:04:00+00:00",
          "2025-01-20T09:05:00+00:00",
          "2025-01-20T09:06:00+00:00",
          "2025-01-20T09:07:00+00:00",
          "2025-01-20T09:08:00+00:00",
          "2025-01-20T09:09:00+00:00",
          "2025-01-20T09:10:00+00:00",
          "2025-01-20T09:11:00+00:00",
          "2025-01-20T09:12:00+00:00",
          "2025-01-20T09:13:00+00:00",
          "2025-01-20T09:14:00+00:00",
          "2025-01-20T09:15:00+00:00",
          "2025-01-20T09:16:00+00:00",
          "2025-01-20T09:17:00+00:00",
          "2025-01-20T09:18:00+00:00",
          "2025-01-20T09:19:00+00:00",
          "2025-01-20T09:20:00+00:00",
          "2025-01-20T09:21:00+00:00",
          "2025-01-20T09:22:00+00:00",
          "2025-01-20T09:23:00+00:00",
          "2025-01-20T09:24:00+00:00",
          "2025-01-20T09:25:00+00:00",
          "2025-01-20T09:26:00+00:00",
          "2025-01-20T09:27:00+00:00",
          "2025-01-20T09:28:00+00:00",
          "2025-01-20T09:29:00+00:00",
          "2025-01-20T09:30:00+00:00",
          "2025-01-20T09:31:00+00:00",
          "2025-01-20T09:32:00+00:00",
          "2025-01-20T09:33:00+00:00",
          "2025-01-20T09:34:00+00:00",
          "2025-01-20T09:35:00+00:00",
          "2025-01-20T09:36:00+00:00",
          "2025-01-20T09:37:00+00:00",
          "2025-01-20T09:38:00+00:00",
          "2025-01-20T09:39:00+00:00",
          "2025-01-20T09:40:00+00:00",
          "2025-01-20T09:41:00+00:00",
          "2025-01-20T09:42:00+00:00",
          "2025-01-20T09:43:00+00:00",
          "2025-01-20T09:44:00+00:00",
          "2025-01-20T09:45:00+00:00",
          "2025-01-20T09:46:00+00:00",
          "2025-01-20T09:47:00+00:00",
          "2025-01-20T09:48:00+00:00",
          "2025-01-20T09:49:00+00:00",
          "2025-01-20T09:50:00+00:00",
          "2025-01-20T09:51:00+00:00",
          "2025-01-20T09:52:00+00:00",
          "2025-01-20T09:53:00+00:00",
          "2025-01-20T09:54:00+00:00",
          "2025-01-20T09:55:00+00:00",
          "2025-01-20T09:56:00+00:00",
          "2025-01-20T09:57:00+00:00",
          "2025-01-20T09:58:00+00:00",
          "2025-01-20T09:59:00+00:00",
          "2025-01-20T10:00:00+00:00",
          "2025-01-20T10:01:00+00:00",
          "2025-01-20T10:02:00+00:00",
          "2025-01-20T10:03:00+00:00",
          "2025-01-20T10:04:00+00:00",
          "2025-01-20T10:05:00+00:00",
          "2025-01-20T10:06:00+00:00",
          "2025-01-20T10:07:00+00:00",
          "2025-01-20T10:08:00+00:00",
          "2025-01-20T10:09:00+00:00",
          "2025-01-20T10:10:00+00:00",
          "2025-01-20T10:11:00+00:00",
          "2025-01-20T10:12:00+00:00",
          "2025-01-20T10:13:00+00:00",
          "2025-01-20T10:14:00+00:00",
          "2025-01-20T10:15:00+00:00",
          "2025-01-20T10:16:00+00:00",
          "2025-01-20T10:17:00+00:00",
          "2025-01-20T10:18:00+00:00",
          "2025-01-20T10:19:00+00:00",
          "2025-01-20T10:20:00+00:00",
          "2025-01-20T10:21:00+00:00",
          "2025-01-20T10:22:00+00:00",
          "2025-01-20T10:23:00+00:00",
          "2025-01-20T10:24:00+00:00",
          "2025-01-20T10:25:00+00:00",
          "2025-01-20T10:26:00+00:00",
          "2025-01-20T10:27:00+00:00",
          "2025-01-20T10:28:00+00:00",
          "2025-01-20T10:29:00+00:00",
          "2025-01-20T10:30:00+00:00",
          "2025-01-20T10:31:00+00:00",
          "2025-01-20T10:32:00+00:00",
          "2025-01-20T10:33:00+00:00",
          "2025-01-20T10:34:00+00:00",
          "2025-01-20T10:35:00+00:00",
          "2025-01-20T10:36:00+00:00",
          "2025-01-20T10:37:00+00:00",
          "2025-01-20T10:38:00+00:00",
          "2025-01-20T10:39:00+00:00",
          "2025-01-20T10:40:00+00:00",
          "2025-01-20T10:41:00+00:00",
          "2025-01-20T10:42:00+00:00",
          "2025-01-20T10:43:00+00:00",
          "2025-01-20T10:44:00+00:00",
          "2025-01-20T10:45:00+00:00"
         ],
         "type": "candlestick"
        }
       ],
       "layout": {
        "template": {
         "data": {
          "barpolar": [
           {
            "marker": {
             "line": {
              "color": "white",
              "width": 0.5
             },
             "pattern": {
              "fillmode": "overlay",
              "size": 10,
              "solidity": 0.2
             }
            },
            "type": "barpolar"
           }
          ],
          "bar": [
           {
            "error_x": {
             "color": "#2a3f5f"
            },
            "error_y": {
             "color": "#2a3f5f"
            },
            "marker": {
             "line": {
              "color": "white",
              "width": 0.5
             },
             "pattern": {
              "fillmode": "overlay",
              "size": 10,
              "solidity": 0.2
             }
            },
            "type": "bar"
           }
          ],
          "carpet": [
           {
            "aaxis": {
             "endlinecolor": "#2a3f5f",
             "gridcolor": "#C8D4E3",
             "linecolor": "#C8D4E3",
             "minorgridcolor": "#C8D4E3",
             "startlinecolor": "#2a3f5f"
            },
            "baxis": {
             "endlinecolor": "#2a3f5f",
             "gridcolor": "#C8D4E3",
             "linecolor": "#C8D4E3",
             "minorgridcolor": "#C8D4E3",
             "startlinecolor": "#2a3f5f"
            },
            "type": "carpet"
           }
          ],
          "choropleth": [
           {
            "colorbar": {
             "outlinewidth": 0,
             "ticks": ""
            },
            "type": "choropleth"
           }
          ],
          "contourcarpet": [
           {
            "colorbar": {
             "outlinewidth": 0,
             "ticks": ""
            },
            "type": "contourcarpet"
           }
          ],
          "contour": [
           {
            "colorbar": {
             "outlinewidth": 0,
             "ticks": ""
            },
            "colorscale": [
             [
              0.0,
              "#0d0887"
             ],
             [
              0.1111111111111111,
              "#46039f"
             ],
             [
              0.2222222222222222,
              "#7201a8"
             ],
             [
              0.3333333333333333,
              "#9c179e"
             ],
             [
              0.4444444444444444,
              "#bd3786"
             ],
             [
              0.5555555555555556,
              "#d8576b"
             ],
             [
              0.6666666666666666,
              "#ed7953"
             ],
             [
              0.7777777777777778,
              "#fb9f3a"
             ],
             [
              0.8888888888888888,
              "#fdca26"
             ],
             [
              1.0,
              "#f0f921"
             ]
            ],
            "type": "contour"
           }
          ],
          "heatmap": [
           {
            "colorbar": {
             "outlinewidth": 0,
             "ticks": ""
            },
            "colorscale": [
             [
              0.0,
              "#0d0887"
             ],
             [
              0.1111111111111111,
              "#46039f"
             ],
             [
              0.2222222222222222,
              "#7201a8"
             ],
             [
              0.3333333333333333,
              "#9c179e"
             ],
             [
              0.4444444444444444,
              "#bd3786"
             ],
             [
              0.5555555555555556,
              "#d8576b"
             ],
             [
              0.6666666666666666,
              "#ed7953"
             ],
             [
              0.7777777777777778,
              "#fb9f3a"
             ],
             [
              0.8888888888888888,
              "#fdca26"
             ],
             [
              1.0,
              "#f0f921"
             ]
            ],
            "type": "heatmap"
           }
          ],
          "histogram2dcontour": [
           {
            "colorbar": {
             "outlinewidth": 0,
             "ticks": ""
            },
            "colorscale": [
             [
              0.0,
              "#0d0887"
             ],
             [
              0.1111111111111111,
              "#46039f"
             ],
             [
              0.2222222222222222,
              "#7201a8"
             ],
             [
              0.3333333333333333,
              "#9c179e"
             ],
             [
              0.4444444444444444,
              "#bd3786"
             ],
             [
              0.5555555555555556,
              "#d8576b"
             ],
             [
              0.6666666666666666,
              "#ed7953"
             ],
             [
              0.7777777777777778,
              "#fb9f3a"
             ],
             [
              0.8888888888888888,
              "#fdca26"
             ],
             [
              1.0,
              "#f0f921"
             ]
            ],
            "type": "histogram2dcontour"
           }
          ],
          "histogram2d": [
           {
            "colorbar": {
             "outlinewidth": 0,
             "ticks": ""
            },
            "colorscale": [
             [
              0.0,
              "#0d0887"
             ],
             [
              0.1111111111111111,
              "#46039f"
             ],
             [
              0.2222222222222222,
              "#7201a8"
             ],
             [
              0.3333333333333333,
              "#9c179e"
             ],
             [
              0.4444444444444444,
              "#bd3786"
             ],
             [
              0.5555555555555556,
              "#d8576b"
             ],
             [
              0.6666666666666666,
              "#ed7953"
             ],
             [
              0.7777777777777778,
              "#fb9f3a"
             ],
             [
              0.8888888888888888,
              "#fdca26"
             ],
             [
              1.0,
              "#f0f921"
             ]
            ],
            "type": "histogram2d"
           }
          ],
          "histogram": [
           {
            "marker": {
             "pattern": {
              "fillmode": "overlay",
              "size": 10,
              "solidity": 0.2
             }
            },
            "type": "histogram"
           }
          ],
          "mesh3d": [
           {
            "colorbar": {
             "outlinewidth": 0,
             "ticks": ""
            },
            "type": "mesh3d"
           }
          ],
          "parcoords": [
           {
            "line": {
             "colorbar": {
              "outlinewidth": 0,
              "ticks": ""
             }
            },
            "type": "parcoords"
           }
          ],
          "pie": [
           {
            "automargin": true,
            "type": "pie"
           }
          ],
          "scatter3d": [
           {
            "line": {
             "colorbar": {
              "outlinewidth": 0,
              "ticks": ""
             }
            },
            "marker": {
             "colorbar": {
              "outlinewidth": 0,
              "ticks": ""
             }
            },
            "type": "scatter3d"
           }
          ],
          "scattercarpet": [
           {
            "marker": {
             "colorbar": {
              "outlinewidth": 0,
              "ticks": ""
             }
            },
            "type": "scattercarpet"
           }
          ],
          "scattergeo": [
           {
            "marker": {
             "colorbar": {
              "outlinewidth": 0,
              "ticks": ""
             }
            },
            "type": "scattergeo"
           }
          ],
          "scattergl": [
           {
            "marker": {
             "colorbar": {
              "outlinewidth": 0,
              "ticks": ""
             }
            },
            "type": "scattergl"
           }
          ],
          "scattermapbox": [
           {
            "marker": {
             "colorbar": {
              "outlinewidth": 0,
              "ticks": ""
             }
            },
            "type": "scattermapbox"
           }
          ],
          "scattermap": [
           {
            "marker": {
             "colorbar": {
              "outlinewidth": 0,
              "ticks": ""
             }
            },
            "type": "scattermap"
           }
          ],
          "scatterpolargl": [
           {
            "marker": {
             "colorbar": {
              "outlinewidth": 0,
              "ticks": ""
             }
            },
            "type": "scatterpolargl"
           }
          ],
          "scatterpolar": [
           {
            "marker": {
             "colorbar": {
              "outlinewidth": 0,
              "ticks": ""
             }
            },
            "type": "scatterpolar"
           }
          ],
          "scatter": [
           {
            "fillpattern": {
             "fillmode": "overlay",
             "size": 10,
             "solidity": 0.2
            },
            "type": "scatter"
           }
          ],
          "scatterternary": [
           {
            "marker": {
             "colorbar": {
              "outlinewidth": 0,
              "ticks": ""
             }
            },
            "type": "scatterternary"
           }
          ],
          "surface": [
           {
            "colorbar": {
             "outlinewidth": 0,
             "ticks": ""
            },
            "colorscale": [
             [
              0.0,
              "#0d0887"
             ],
             [
              0.1111111111111111,
              "#46039f"
             ],
             [
              0.2222222222222222,
              "#7201a8"
             ],
             [
              0.3333333333333333,
              "#9c179e"
             ],
             [
              0.4444444444444444,
              "#bd3786"
             ],
             [
              0.5555555555555556,
              "#d8576b"
             ],
             [
              0.6666666666666666,
              "#ed7953"
             ],
             [
              0.7777777777777778,
              "#fb9f3a"
             ],
             [
              0.8888888888888888,
              "#fdca26"
             ],
             [
              1.0,
              "#f0f921"
             ]
            ],
            "type": "surface"
           }
          ],
          "table": [
           {
            "cells": {
             "fill": {
              "color": "#EBF0F8"
             },
             "line": {
              "color": "white"
             }
            },
            "header": {
             "fill": {
              "color": "#C8D4E3"
             },
             "line": {
              "color": "white"
             }
            },
            "type": "table"
           }
          ]
         },
         "layout": {
          "annotationdefaults": {
           "arrowcolor": "#2a3f5f",
           "arrowhead": 0,
           "arrowwidth": 1
          },
          "autotypenumbers": "strict",
          "coloraxis": {
           "colorbar": {
            "outlinewidth": 0,
            "ticks": ""
           }
          },
          "colorscale": {
           "diverging": [
            [
             0,
             "#8e0152"
            ],
            [
             0.1,
             "#c51b7d"
            ],
            [
             0.2,
             "#de77ae"
            ],
            [
             0.3,
             "#f1b6da"
            ],
            [
             0.4,
             "#fde0ef"
            ],
            [
             0.5,
             "#f7f7f7"
            ],
            [
             0.6,
             "#e6f5d0"
            ],
            [
             0.7,
             "#b8e186"
            ],
            [
             0.8,
             "#7fbc41"
            ],
            [
             0.9,
             "#4d9221"
            ],
            [
             1,
             "#276419"
            ]
           ],
           "sequential": [
            [
             0.0,
             "#0d0887"
            ],
            [
             0.1111111111111111,
             "#46039f"
            ],
            [
             0.2222222222222222,
             "#7201a8"
            ],
            [
             0.3333333333333333,
             "#9c179e"
            ],
            [
             0.4444444444444444,
             "#bd3786"
            ],
            [
             0.5555555555555556,
             "#d8576b"
            ],
            [
             0.6666666666666666,
             "#ed7953"
            ],
            [
             0.7777777777777778,
             "#fb9f3a"
            ],
            [
             0.8888888888888888,
             "#fdca26"
            ],
            [
             1.0,
             "#f0f921"
            ]
           ],
           "sequentialminus": [
            [
             0.0,
             "#0d0887"
            ],
            [
             0.1111111111111111,
             "#46039f"
            ],
            [
             0.2222222222222222,
             "#7201a8"
            ],
            [
             0.3333333333333333,
             "#9c179e"
            ],
            [
             0.4444444444444444,
             "#bd3786"
            ],
            [
             0.5555555555555556,
             "#d8576b"
            ],
            [
             0.6666666666666666,
             "#ed7953"
            ],
            [
             0.7777777777777778,
             "#fb9f3a"
            ],
            [
             0.8888888888888888,
             "#fdca26"
            ],
            [
             1.0,
             "#f0f921"
            ]
           ]
          },
          "colorway": [
           "#636efa",
           "#EF553B",
           "#00cc96",
           "#ab63fa",
           "#FFA15A",
           "#19d3f3",
           "#FF6692",
           "#B6E880",
           "#FF97FF",
           "#FECB52"
          ],
          "font": {
           "color": "#2a3f5f"
          },
          "geo": {
           "bgcolor": "white",
           "lakecolor": "white",
           "landcolor": "white",
           "showlakes": true,
           "showland": true,
           "subunitcolor": "#C8D4E3"
          },
          "hoverlabel": {
           "align": "left"
          },
          "hovermode": "closest",
          "mapbox": {
           "style": "light"
          },
          "paper_bgcolor": "white",
          "plot_bgcolor": "white",
          "polar": {
           "angularaxis": {
            "gridcolor": "#EBF0F8",
            "linecolor": "#EBF0F8",
            "ticks": ""
           },
           "bgcolor": "white",
           "radialaxis": {
            "gridcolor": "#EBF0F8",
            "linecolor": "#EBF0F8",
            "ticks": ""
           }
          },
          "scene": {
           "xaxis": {
            "backgroundcolor": "white",
            "gridcolor": "#DFE8F3",
            "gridwidth": 2,
            "linecolor": "#EBF0F8",
            "showbackground": true,
            "ticks": "",
            "zerolinecolor": "#EBF0F8"
           },
           "yaxis": {
            "backgroundcolor": "white",
            "gridcolor": "#DFE8F3",
            "gridwidth": 2,
            "linecolor": "#EBF0F8",
            "showbackground": true,
            "ticks": "",
            "zerolinecolor": "#EBF0F8"
           },
           "zaxis": {
            "backgroundcolor": "white",
            "gridcolor": "#DFE8F3",
            "gridwidth": 2,
            "linecolor": "#EBF0F8",
            "showbackground": true,
            "ticks": "",
            "zerolinecolor": "#EBF0F8"
           }
          },
          "shapedefaults": {
           "line": {
            "color": "#2a3f5f"
           }
          },
          "ternary": {
           "aaxis": {
            "gridcolor": "#DFE8F3",
            "linecolor": "#A2B1C6",
            "ticks": ""
           },
           "baxis": {
            "gridcolor": "#DFE8F3",
            "linecolor": "#A2B1C6",
            "ticks": ""
           },
           "bgcolor": "white",
           "caxis": {
            "gridcolor": "#DFE8F3",
            "linecolor": "#A2B1C6",
            "ticks": ""
           }
          },
          "title": {
           "x": 0.05
          },
          "xaxis": {
           "automargin": true,
           "gridcolor": "#EBF0F8",
           "linecolor": "#EBF0F8",
           "ticks": "",
           "title": {
            "standoff": 15
           },
           "zerolinecolor": "#EBF0F8",
           "zerolinewidth": 2
          },
          "yaxis": {
           "automargin": true,
           "gridcolor": "#EBF0F8",
           "linecolor": "#EBF0F8",
           "ticks": "",
           "title": {
            "standoff": 15
           },
           "zerolinecolor": "#EBF0F8",
           "zerolinewidth": 2
          }
         }
        },
        "yaxis2": {
         "overlaying": "y",
         "side": "right",
         "showgrid": false,
         "title": {
          "text": "Volume"
         }
        },
        "xaxis": {
         "rangeslider": {
          "visible": false
         },
         "title": {
          "text": "Time"
         }
        },
        "title": {
         "text": "Best 12-Hour Fragment – HighVol_UpTrend"
        },
        "yaxis": {
         "title": {
          "text": "Price"
         }
        },
        "height": 600
       },
       "config": {
        "plotlyServerURL": "https://plot.ly"
       }
      }
     },
     "metadata": {},
     "output_type": "display_data"
    },
    {
     "data": {
      "application/vnd.plotly.v1+json": {
       "data": [
        {
         "close": {
          "dtype": "f8",
          "bdata": "KVyPwr0x+kC4HoXrvTH6QLgehetFMfpAuB6F60Ux+kBI4XoURjH6QEjhehRGMfpAcT0K17Mv+kCF61G4pjD6QIXrUbimMPpAFK5H4aYw+kAUrkfhpjD6QIXrUbimMPpAhetRuKYw+kD2KFyPpjD6QGZmZmZ6MPpAAAAAAEwx+kBxPQrXSzH6QFyPwvV4MfpAAAAAANAw+kCF61G4wjD6QKRwPQqPMPpASOF6FGYw+kBI4XoUZjD6QLgehetlMPpAuB6F62Uw+kC4HoXrZTD6QLgehetlMPpASOF6FGYw+kBI4XoUZjD6QEjhehRmMPpAuB6F62Uw+kC4HoXrZTD6QLgehetlMPpAcT0K1ycx+kAAAAAAKDH6QHE9CtcnMfpAcT0K1ycx+kAAAAAAKDH6QAAAAACgMfpAAAAAAKAx+kAAAAAAoDH6QHE9CtefMfpAj8L1KKAx+kCPwvUooDH6QI/C9SigMfpAj8L1KKAx+kAUrkfhVjH6QBSuR+FWMfpAhetRuFYx+kCF61G4VjH6QIXrUbhWMfpAAAAAAKAx+kBxPQrX9zH6QLgehevVNPpA16NwPa40+kBI4XoUrjT6QNejcD2uNPpA16NwPa40+kBI4XoUrjT6QEjhehSuNPpAMzMzM880+kDD9ShczzT6QDMzMzPPNPpAw/UoXM80+kAzMzMzzzT6QDMzMzPPNPpAMzMzM880+kDD9ShczzT6QNejcD3WNvpAZmZmZtY2+kBmZmZm1jb6QGZmZmbWNvpAZmZmZtY2+kDXo3A91jb6QNejcD3WNvpAZmZmZtY2+kDXo3A91jb6QNejcD3WNvpA16NwPdY2+kDXo3A91jb6QNejcD3WNvpAuB6F60U2+kC4HoXrRTb6QClcj8JFNvpAuB6F60U2+kC4HoXrRTb6QJqZmZlFNvpAFK5H4fI1+kAAAAAAYDX6QGZmZmayM/pArkfherAy+kAfhetR4DH6QK5H4XrgMfpArkfheuAx+kAfhetR4DH6QB+F61HgMfpAH4XrUeAx+kCuR+F64DH6QI/C9SjYMfpAj8L1KNgx+kAfhetR2DH6QKRwPQrHMfpApHA9Cscx+kAzMzMzxzH6QDMzMzPHMfpApHA9Cscx+kCkcD0KxzH6QKRwPQrHMfpAcT0K1z8z+kAAAAAATDP6QAAAAABMM/pAAAAAAEwz+kCPwvUoTDP6QMP1KFxPM/pAUrgehU8z+kDD9ShcTzP6QFK4HoVPM/pAw/UoXE8z+kBSuB6FTzP6QMP1KFxPM/pAw/UoXE8z+kDD9ShcTzP6QB+F61EkM/pAj8L1KJQy+kAfhetRDDT6QArXo3ARNfpAmpmZmRE1+kDXo3A9OjX6QNejcD06NfpAexSuR9U0+kAK16Nw1TT6QHsUrkfVNPpAexSuR9U0+kAK16Nw1TT6QFyPwvWsNfpAXI/C9aw1+kBcj8L1rDX6QBSuR+HWNPpA9ihcjxo1+kD2KFyPGjX6QPYoXI8aNfpA9ihcjxo1+kD2KFyPGjX6QKRwPQoHNPpApHA9Cgc0+kAUrkfhBjT6QBSuR+EGNPpAFK5H4QY0+kAUrkfhBjT6QBSuR+EGNPpApHA9Cp8z+kDD9Shc8zL6QKRwPQpXMfpAFK5H4VYx+kCkcD0KVzH6QBSuR+FWMfpAAAAAAMAv+kDD9Shciy/6QI/C9ShUL/pAH4XrUTwv+kAAAAAA0C76QAAAAAAALPpAAAAAAAAs+kB7FK5H/Sr6QD0K16P8J/pAH4XrUVQm+kCuR+F6cCb6QHE9Ctc/J/pAFK5H4fom+kBmZmZmwiT6QK5H4XrAJfpAAAAAAMAl+kBxPQrX3yf6QHE9CtffJ/pA9ihcjyon+kC4HoXr7Sb6QLgehevtJvpAuB6F6+0m+kB7FK5HoSb6QHsUrkehJvpAj8L1KJgm+kCPwvUomCb6QI/C9SiYJvpAj8L1KJgm+kCPwvUomCb6QAAAAACYJvpAAAAAAJgm+kCPwvUomCb6QHE9CteXJvpAUrgehZcm+kDD9Shc/yX6QAAAAADQJfpAPQrXo9wl+kCuR+F63CX6QKRwPQoLJvpApHA9Cgsm+kCkcD0KCyb6QKRwPQoLJvpApHA9Cgsm+kCkcD0KCyb6QBSuR+EKJvpAFK5H4Qom+kAUrkfhCib6QJqZmZlxJvpAH4XrUaAm+kAUrkfheif6QKRwPQp7J/pAUrgehaMo+kAzMzMziyr6QFK4HoWrKvpAcT0K1+8q+kBxPQrX7yr6QHE9CtfvKvpAcT0K1+8q+kAzMzMzmyz6QHE9CtfvLPpAAAAAAPAs+kBxPQrX7yz6QPYoXI/eLfpAZmZmZt4t+kD2KFyPbi36QArXo3ClL/pAzczMzJAu+kCamZmZcS76QArXo3BxLvpAAAAAAJwv+kAAAAAAnC/6QMP1KFxzLfpAhetRuC4t+kAfhetR0Cz6QB+F61HQLPpAMzMzM3Mt+kCPwvUo0Cz6QClcj8KBLPpAKVyPwoEs+kC4HoXrgSz6QClcj8KBLPpAuB6F64Es+kC4HoXrgSz6QLgeheuBLPpAuB6F64Es+kApXI/CgSz6QClcj8KBLPpAuB6F64Es+kApXI/CgSz6QClcj8KBLPpAKVyPwoEs+kBcj8L1TCz6QM3MzMxMLPpAXI/C9Uws+kBcj8L1TCz6QM3MzMxMLPpAzczMzEws+kDNzMzMTCz6QM3MzMxMLPpAXI/C9Uws+kBcj8L1TCz6QHsUrkfFLPpAKVyPwukt+kApXI/C6S36QClcj8LpLfpACtejcG0u+kCamZmZbS76QArXo3BtLvpACtejcG0u+kAK16NwbS76QArXo3BtLvpACtejcG0u+kCamZmZbS76QArXo3BtLvpACtejcG0u+kCamZmZbS76QJqZmZltLvpAzczMzEws+kBcj8L1TCz6QM3MzMxMLPpAzczMzEws+kDNzMzMTCz6QM3MzMxMLPpAXI/C9Uws+kDNzMzMTCz6QM3MzMxMLPpAzczMzEws+kBSuB6FYyv6QFyPwvVMLPpApHA9Clcs+kC4HoXr0S36QOF6FK4nLvpAcT0K128u+kAAAAAAcC76QHE9CtdvLvpAAAAAACQu+kAAAAAA0C76QFK4HoVrMPpAUrgehWsw+kBSuB6FazD6QFK4HoVrMPpA4XoUrmsw+kCPwvUoNDH6QFyPwvUIM/pAw/UoXKc0+kC4HoXr+TL6QOF6FK47MfpAUrgehYcy+kDhehSuhzL6QFyPwvXEMvpA9ihcjz4z+kCkcD0KAzP6QKRwPQoDM/pAhetRuA40+kAAAAAAwDX6QJqZmZkJQPpAmpmZmdk/+kCuR+F6lDv6QK5H4XrAPvpAhetRuHY++kBSuB6FNz76QMP1KFw3PvpAw/UoXLM7+kCuR+F6pDz6QLgehetlP/pA7FG4HgVA+kCPwvUowD76QIXrUbj+PPpA7FG4HkE5+kBI4XoU9jf6QArXo3ApOPpAAAAAAPg4+kDhehSudzr6QAAAAACAOPpASOF6FIo3+kCPwvUogDf6QHE9CtfPN/pAj8L1KEA3+kBmZmZmVjP6QB+F61HgM/pAuB6F6wk0+kAAAAAAUDP6QAAAAABQM/pAH4XrUegy+kAAAAAAsDD6QB+F61GQMvpAMzMzMzcz+kAzMzMzNzP6QAAAAAB4N/pAXI/C9UA4+kAAAAAA6Dj6QHE9CtfnOPpAZmZmZgY5+kDXo3A9Bjn6QB+F61FsOfpAcT0K19c4+kBxPQrX1zj6QGZmZmYiNvpAmpmZmVUy+kCuR+F6XDH6QAAAAACwMPpAKVyPwtky+kApXI/C2TL6QB+F61F8MfpAj8L1KIAw+kAAAAAAsDD6QI/C9SiwMPpAAAAAALAw+kAAAAAAsDD6QM3MzMxwMfpAXI/C9XAx+kDNzMzMcDH6QOxRuB7FMPpAexSuR8Uw+kDsUbgexTD6QEjhehTqMPpACtejcP0x+kAK16Nw/TH6QHE9CtdPMvpAcT0K108y+kAAAAAAUDL6QHE9CtdPMvpAAAAAAFAy+kBI4XoU8jH6QEjhehTyMfpAKVyPwpEz+kAUrkfhsjT6QBSuR+GyNPpApHA9CrM0+kBxPQrXjzb6QLgehetxNvpAuB6F63E2+kC4HoXrcTb6QLgehetxNvpAAAAAAEg1+kAAAAAASDX6QAAAAABINfpAj8L1KEg1+kAAAAAASDX6QMP1KFw3M/pAAAAAAFAy+kCamZmZUTP6QI/C9ShgNPpAH4XrUWA0+kAfhetRYDT6QHE9Ctf3M/pAj8L1KMAz+kCPwvUowDP6QFyPwvUgM/pAXI/C9SAz+kA9CtejuDX6QClcj8JNNvpAuB6F6002+kApXI/CTTb6QD0K16PYNfpAUrgehWM3+kBSuB6FYzf6QMP1KFxjN/pAKVyPwok4+kBxPQrXizn6QKRwPQpHOfpA7FG4HgE6+kAAAAAAVDn6QHE9CtdTOfpAAAAAAHg4+kBxPQrXdzj6QFK4HoUrO/pAAAAAAMA++kApXI/CoUD6QPYoXI/yPvpA9ihcjwY/+kCamZmZlUD6QFyPwvUQPvpAPQrXo7Q8+kCPwvUoxD36QAAAAADAPfpA9ihcj7I8+kC4HoXrkTz6QNejcD3mO/pAH4XrUZA7+kAUrkfhSjr6QB+F61EkOvpAj8L1KIA4+kAAAAAAgDj6QIXrUbiCOfpAFK5H4YI5+kCkcD0Kuzj6QKRwPQq7OPpAAAAAAIA4+kAUrkfh9jf6QAAAAADIN/pAuB6F63k4+kD2KFyPjjn6QHE9Ctf/OfpA7FG4HtU5+kBcj8L11Dn6QPYoXI/+OPpASOF6FIY4+kBI4XoUhjj6QLgeheuFOPpASOF6FIY4+kDhehSuQzj6QOF6FK5DOPpAcT0K10M4+kDhehSuQzj6QHE9Ctd3OvpAj8L1KIA4+kAAAAAASDX6QFK4HoWzNfpAUrgehXM2+kBmZmZmVjP6QHE9CtdPMvpAcT0K108y+kAAAAAAUDL6QPYoXI+qMvpA9ihcj6oy+kD2KFyPqjL6QPYoXI+qMvpAhetRuKoy+kBSuB6FUzL6QI/C9SjAMfpAj8L1KMAx+kAAAAAAwDH6QAAAAADAMfpAj8L1KEAx+kCPwvUosDD6QD0K16PwL/pArkfhevAv+kCPwvUo8C/6QI/C9SjwL/pAj8L1KPAv+kBmZmZmyi/6QNejcD3KL/pAmpmZmYkx+kCamZmZLTP6QDMzMzM3M/pAw/UoXDcz+kAAAAAAYDP6QHE9CtdfM/pAAAAAAGAz+kDhehSu+zL6QOF6FK77MvpAcT0K1/sy+kBxPQrX+zL6QPYoXI+qMvpA9ihcj6oy+kAzMzMzQzL6QKRwPQpDMvpAcT0K1/sy+kDhehSu+zL6QOF6FK77MvpAcT0K1/sy+kDhehSu+zL6QHE9Ctf7MvpAcT0K1/sy+kC4HoXrgTP6QClcj8KBM/pAuB6F67U0+kBI4XoUtjT6QLgeheu1NPpASOF6FLY0+kCPwvUo4DP6QAAAAABAMvpAj8L1KEAy+kCPwvUoQDL6QAAAAABAMvpAj8L1KEAy+kCPwvUoQDL6QI/C9ShAMvpAAAAAAEAy+kAAAAAAQDL6QAAAAABAMvpAj8L1KLAx+kA9CtejHDH6QM3MzMwcMfpAPQrXoxwx+kB7FK5HyS/6QArXo3DJL/pAuB6F62kw+kA9CtejQDD6QAAAAACUL/pAAAAAAHAv+kCPwvUocC/6QLgehes5L/pAuB6F6zkv+kBcj8L1IC/6QFyPwvUgL/pAXI/C9SAv+kDD9ShcHy/6QMP1KFwfL/pAUrgehR8v+kDD9ShcHy/6QMP1KFwfL/pAmpmZmQku+kCamZmZCS76QClcj8IJLvpAKVyPwgku+kBxPQrXmy36QLgehes1LfpASOF6FDYt+kCF61G4Li36QIXrUbguLfpAFK5H4S4t+kCF61G4Li36QIXrUbguLfpAhetRuC4t+kAUrkfhLi36QBSuR+EuLfpAhetRuC4t+kDNzMzMKC36QFK4HoVjK/pAw/UoXGMr+kAfhetRbCr6QEjhehQqKfpAuB6F6ykp+kCPwvUo/Cv6QFK4HoXPK/pArkfheiQr+kA9CtejJCv6QEjhehSiK/pASOF6FKIr+kCuR+F66Cz6QOxRuB45LfpAXI/C9Tgt+kBcj8L1tC36QFyPwvW0LfpAZmZmZjYu+kBmZmZmNi76QFyPwvW0LfpA7FG4HrUt+kDsUbgetS36QM3MzMwMLfpAzczMzAwt+kBcj8L1DC36QI/C9SiALPpAMzMzMzss+kDD9ShcOyz6QDMzMzM7LPpAMzMzMzss+kAzMzMzOyz6QM3MzMwMLfpAKVyPwt0r+kAAAAAAOCv6QAAAAAA4K/pAcT0K1zcr+kBxPQrXNyv6QAAAAAA4K/pAzczMzKwr+kBcj8L1rCv6QMP1KFw7LPpAMzMzMzss+kDD9ShcOyz6QMP1KFw7LPpAw/UoXDss+kAzMzMzOyz6QDMzMzM7LPpAMzMzMzss+kAfhetRGCr6QB+F61EYKvpArkfhehgq+kAfhetRGCr6QEjhehSeKvpAuB6F650q+kDsUbgeaSv6QHE9CtffK/pAexSuRwEt+kAK16NwAS36QHE9Ctc/LfpAcT0K1z8t+kAAAAAAQC36QHE9Ctc/LfpAAAAAAEAt+kAAAAAAoCv6QFK4HoUDLPpACtejcJks+kAAAAAA4Cz6QHE9CtffLPpAAAAAAOAs+kAAAAAA4Cz6QAAAAADgLPpAAAAAAOAs+kBxPQrX3yz6QAAAAADgLPpAcT0K108u+kC4HoXreS/6QLgehet5L/pAuB6F63kv+kApXI/CeS/6QClcj8J5L/pAXI/C9fgx+kBxPQrXPzL6QAAAAABAMvpAZmZmZj4x+kAzMzMzazH6QDMzMzNrMfpApHA9Cmsx+kCkcD0KazH6QOF6FK6LMPpAKVyPwn0w+kApXI/CfTD6QClcj8J9MPpAKVyPwuUv+kAAAAAAdDD6QHE9CtdzMPpAj8L1KOwu+kAAAAAAeC76QAAAAAB4LvpAexSuRz0u+kBxPQrXDzD6QNejcD2WMPpAcT0K1ycx+kD2KFyPJjL6QKRwPQoPM/pAFK5H4Q4z+kCkcD0KDzP6QBSuR+EOM/pAFK5H4Q4z+kBI4XoUNjT6QArXo3AdNfpA16NwPaI0+kBSuB6FEzT6QLgeheutNfpAAAAAAFg2+kAAAAAAwDP6QKRwPQrvNPpAcT0K1780+kAAAAAAwDT6QAAAAADANPpAzczMzFQy+kAAAAAAsDD6QI/C9SiwMPpAH4XrUXww+kApXI/CpS/6QAAAAADQL/pAzczMzEQw+kC4HoXrsTH6QHE9Ctc/MvpAKVyPwg0x+kApXI/CDTH6QHsUrkdRMfpAj8L1KPgx+kDsUbgenTL6QOxRuB6dMvpA9ihcjwIy+kDD9ShcRzL6QFK4HoVHMvpAw/UoXEcy+kDD9ShcRzL6QMP1KFxHMvpAw/UoXEcy+kDD9ShcRzL6QFK4HoVHMvpAZmZmZlYz+kB7FK5HxTP6QFyPwvWMM/pACtejcDE0+kAK16NwMTT6QJqZmZkxNPpAmpmZmTE0+kBxPQrXvzT6QHE9CtcXNvpAFK5H4Zo2+kCF61G4mjb6QBSuR+GaNvpA"
         },
         "decreasing": {
          "line": {
           "color": "red"
          }
         },
         "high": {
          "dtype": "f8",
          "bdata": "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"
         },
         "increasing": {
          "line": {
           "color": "lime"
          }
         },
         "low": {
          "dtype": "f8",
          "bdata": "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"
         },
         "name": "Price",
         "open": {
          "dtype": "f8",
          "bdata": "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"
         },
         "x": [
          "2025-06-28T10:46:00+00:00",
          "2025-06-28T10:47:00+00:00",
          "2025-06-28T10:48:00+00:00",
          "2025-06-28T10:49:00+00:00",
          "2025-06-28T10:50:00+00:00",
          "2025-06-28T10:51:00+00:00",
          "2025-06-28T10:52:00+00:00",
          "2025-06-28T10:53:00+00:00",
          "2025-06-28T10:54:00+00:00",
          "2025-06-28T10:55:00+00:00",
          "2025-06-28T10:56:00+00:00",
          "2025-06-28T10:57:00+00:00",
          "2025-06-28T10:58:00+00:00",
          "2025-06-28T10:59:00+00:00",
          "2025-06-28T11:00:00+00:00",
          "2025-06-28T11:01:00+00:00",
          "2025-06-28T11:02:00+00:00",
          "2025-06-28T11:03:00+00:00",
          "2025-06-28T11:04:00+00:00",
          "2025-06-28T11:05:00+00:00",
          "2025-06-28T11:06:00+00:00",
          "2025-06-28T11:07:00+00:00",
          "2025-06-28T11:08:00+00:00",
          "2025-06-28T11:09:00+00:00",
          "2025-06-28T11:10:00+00:00",
          "2025-06-28T11:11:00+00:00",
          "2025-06-28T11:12:00+00:00",
          "2025-06-28T11:13:00+00:00",
          "2025-06-28T11:14:00+00:00",
          "2025-06-28T11:15:00+00:00",
          "2025-06-28T11:16:00+00:00",
          "2025-06-28T11:17:00+00:00",
          "2025-06-28T11:18:00+00:00",
          "2025-06-28T11:19:00+00:00",
          "2025-06-28T11:20:00+00:00",
          "2025-06-28T11:21:00+00:00",
          "2025-06-28T11:22:00+00:00",
          "2025-06-28T11:23:00+00:00",
          "2025-06-28T11:24:00+00:00",
          "2025-06-28T11:25:00+00:00",
          "2025-06-28T11:26:00+00:00",
          "2025-06-28T11:27:00+00:00",
          "2025-06-28T11:28:00+00:00",
          "2025-06-28T11:29:00+00:00",
          "2025-06-28T11:30:00+00:00",
          "2025-06-28T11:31:00+00:00",
          "2025-06-28T11:32:00+00:00",
          "2025-06-28T11:33:00+00:00",
          "2025-06-28T11:34:00+00:00",
          "2025-06-28T11:35:00+00:00",
          "2025-06-28T11:36:00+00:00",
          "2025-06-28T11:37:00+00:00",
          "2025-06-28T11:38:00+00:00",
          "2025-06-28T11:39:00+00:00",
          "2025-06-28T11:40:00+00:00",
          "2025-06-28T11:41:00+00:00",
          "2025-06-28T11:42:00+00:00",
          "2025-06-28T11:43:00+00:00",
          "2025-06-28T11:44:00+00:00",
          "2025-06-28T11:45:00+00:00",
          "2025-06-28T11:46:00+00:00",
          "2025-06-28T11:47:00+00:00",
          "2025-06-28T11:48:00+00:00",
          "2025-06-28T11:49:00+00:00",
          "2025-06-28T11:50:00+00:00",
          "2025-06-28T11:51:00+00:00",
          "2025-06-28T11:52:00+00:00",
          "2025-06-28T11:53:00+00:00",
          "2025-06-28T11:54:00+00:00",
          "2025-06-28T11:55:00+00:00",
          "2025-06-28T11:56:00+00:00",
          "2025-06-28T11:57:00+00:00",
          "2025-06-28T11:58:00+00:00",
          "2025-06-28T11:59:00+00:00",
          "2025-06-28T12:00:00+00:00",
          "2025-06-28T12:01:00+00:00",
          "2025-06-28T12:02:00+00:00",
          "2025-06-28T12:03:00+00:00",
          "2025-06-28T12:04:00+00:00",
          "2025-06-28T12:05:00+00:00",
          "2025-06-28T12:06:00+00:00",
          "2025-06-28T12:07:00+00:00",
          "2025-06-28T12:08:00+00:00",
          "2025-06-28T12:09:00+00:00",
          "2025-06-28T12:10:00+00:00",
          "2025-06-28T12:11:00+00:00",
          "2025-06-28T12:12:00+00:00",
          "2025-06-28T12:13:00+00:00",
          "2025-06-28T12:14:00+00:00",
          "2025-06-28T12:15:00+00:00",
          "2025-06-28T12:16:00+00:00",
          "2025-06-28T12:17:00+00:00",
          "2025-06-28T12:18:00+00:00",
          "2025-06-28T12:19:00+00:00",
          "2025-06-28T12:20:00+00:00",
          "2025-06-28T12:21:00+00:00",
          "2025-06-28T12:22:00+00:00",
          "2025-06-28T12:23:00+00:00",
          "2025-06-28T12:24:00+00:00",
          "2025-06-28T12:25:00+00:00",
          "2025-06-28T12:26:00+00:00",
          "2025-06-28T12:27:00+00:00",
          "2025-06-28T12:28:00+00:00",
          "2025-06-28T12:29:00+00:00",
          "2025-06-28T12:30:00+00:00",
          "2025-06-28T12:31:00+00:00",
          "2025-06-28T12:32:00+00:00",
          "2025-06-28T12:33:00+00:00",
          "2025-06-28T12:34:00+00:00",
          "2025-06-28T12:35:00+00:00",
          "2025-06-28T12:36:00+00:00",
          "2025-06-28T12:37:00+00:00",
          "2025-06-28T12:38:00+00:00",
          "2025-06-28T12:39:00+00:00",
          "2025-06-28T12:40:00+00:00",
          "2025-06-28T12:41:00+00:00",
          "2025-06-28T12:42:00+00:00",
          "2025-06-28T12:43:00+00:00",
          "2025-06-28T12:44:00+00:00",
          "2025-06-28T12:45:00+00:00",
          "2025-06-28T12:46:00+00:00",
          "2025-06-28T12:47:00+00:00",
          "2025-06-28T12:48:00+00:00",
          "2025-06-28T12:49:00+00:00",
          "2025-06-28T12:50:00+00:00",
          "2025-06-28T12:51:00+00:00",
          "2025-06-28T12:52:00+00:00",
          "2025-06-28T12:53:00+00:00",
          "2025-06-28T12:54:00+00:00",
          "2025-06-28T12:55:00+00:00",
          "2025-06-28T12:56:00+00:00",
          "2025-06-28T12:57:00+00:00",
          "2025-06-28T12:58:00+00:00",
          "2025-06-28T12:59:00+00:00",
          "2025-06-28T13:00:00+00:00",
          "2025-06-28T13:01:00+00:00",
          "2025-06-28T13:02:00+00:00",
          "2025-06-28T13:03:00+00:00",
          "2025-06-28T13:04:00+00:00",
          "2025-06-28T13:05:00+00:00",
          "2025-06-28T13:06:00+00:00",
          "2025-06-28T13:07:00+00:00",
          "2025-06-28T13:08:00+00:00",
          "2025-06-28T13:09:00+00:00",
          "2025-06-28T13:10:00+00:00",
          "2025-06-28T13:11:00+00:00",
          "2025-06-28T13:12:00+00:00",
          "2025-06-28T13:13:00+00:00",
          "2025-06-28T13:14:00+00:00",
          "2025-06-28T13:15:00+00:00",
          "2025-06-28T13:16:00+00:00",
          "2025-06-28T13:17:00+00:00",
          "2025-06-28T13:18:00+00:00",
          "2025-06-28T13:19:00+00:00",
          "2025-06-28T13:20:00+00:00",
          "2025-06-28T13:21:00+00:00",
          "2025-06-28T13:22:00+00:00",
          "2025-06-28T13:23:00+00:00",
          "2025-06-28T13:24:00+00:00",
          "2025-06-28T13:25:00+00:00",
          "2025-06-28T13:26:00+00:00",
          "2025-06-28T13:27:00+00:00",
          "2025-06-28T13:28:00+00:00",
          "2025-06-28T13:29:00+00:00",
          "2025-06-28T13:30:00+00:00",
          "2025-06-28T13:31:00+00:00",
          "2025-06-28T13:32:00+00:00",
          "2025-06-28T13:33:00+00:00",
          "2025-06-28T13:34:00+00:00",
          "2025-06-28T13:35:00+00:00",
          "2025-06-28T13:36:00+00:00",
          "2025-06-28T13:37:00+00:00",
          "2025-06-28T13:38:00+00:00",
          "2025-06-28T13:39:00+00:00",
          "2025-06-28T13:40:00+00:00",
          "2025-06-28T13:41:00+00:00",
          "2025-06-28T13:42:00+00:00",
          "2025-06-28T13:43:00+00:00",
          "2025-06-28T13:44:00+00:00",
          "2025-06-28T13:45:00+00:00",
          "2025-06-28T13:46:00+00:00",
          "2025-06-28T13:47:00+00:00",
          "2025-06-28T13:48:00+00:00",
          "2025-06-28T13:49:00+00:00",
          "2025-06-28T13:50:00+00:00",
          "2025-06-28T13:51:00+00:00",
          "2025-06-28T13:52:00+00:00",
          "2025-06-28T13:53:00+00:00",
          "2025-06-28T13:54:00+00:00",
          "2025-06-28T13:55:00+00:00",
          "2025-06-28T13:56:00+00:00",
          "2025-06-28T13:57:00+00:00",
          "2025-06-28T13:58:00+00:00",
          "2025-06-28T13:59:00+00:00",
          "2025-06-28T14:00:00+00:00",
          "2025-06-28T14:01:00+00:00",
          "2025-06-28T14:02:00+00:00",
          "2025-06-28T14:03:00+00:00",
          "2025-06-28T14:04:00+00:00",
          "2025-06-28T14:05:00+00:00",
          "2025-06-28T14:06:00+00:00",
          "2025-06-28T14:07:00+00:00",
          "2025-06-28T14:08:00+00:00",
          "2025-06-28T14:09:00+00:00",
          "2025-06-28T14:10:00+00:00",
          "2025-06-28T14:11:00+00:00",
          "2025-06-28T14:12:00+00:00",
          "2025-06-28T14:13:00+00:00",
          "2025-06-28T14:14:00+00:00",
          "2025-06-28T14:15:00+00:00",
          "2025-06-28T14:16:00+00:00",
          "2025-06-28T14:17:00+00:00",
          "2025-06-28T14:18:00+00:00",
          "2025-06-28T14:19:00+00:00",
          "2025-06-28T14:20:00+00:00",
          "2025-06-28T14:21:00+00:00",
          "2025-06-28T14:22:00+00:00",
          "2025-06-28T14:23:00+00:00",
          "2025-06-28T14:24:00+00:00",
          "2025-06-28T14:25:00+00:00",
          "2025-06-28T14:26:00+00:00",
          "2025-06-28T14:27:00+00:00",
          "2025-06-28T14:28:00+00:00",
          "2025-06-28T14:29:00+00:00",
          "2025-06-28T14:30:00+00:00",
          "2025-06-28T14:31:00+00:00",
          "2025-06-28T14:32:00+00:00",
          "2025-06-28T14:33:00+00:00",
          "2025-06-28T14:34:00+00:00",
          "2025-06-28T14:35:00+00:00",
          "2025-06-28T14:36:00+00:00",
          "2025-06-28T14:37:00+00:00",
          "2025-06-28T14:38:00+00:00",
          "2025-06-28T14:39:00+00:00",
          "2025-06-28T14:40:00+00:00",
          "2025-06-28T14:41:00+00:00",
          "2025-06-28T14:42:00+00:00",
          "2025-06-28T14:43:00+00:00",
          "2025-06-28T14:44:00+00:00",
          "2025-06-28T14:45:00+00:00",
          "2025-06-28T14:46:00+00:00",
          "2025-06-28T14:47:00+00:00",
          "2025-06-28T14:48:00+00:00",
          "2025-06-28T14:49:00+00:00",
          "2025-06-28T14:50:00+00:00",
          "2025-06-28T14:51:00+00:00",
          "2025-06-28T14:52:00+00:00",
          "2025-06-28T14:53:00+00:00",
          "2025-06-28T14:54:00+00:00",
          "2025-06-28T14:55:00+00:00",
          "2025-06-28T14:56:00+00:00",
          "2025-06-28T14:57:00+00:00",
          "2025-06-28T14:58:00+00:00",
          "2025-06-28T14:59:00+00:00",
          "2025-06-28T15:00:00+00:00",
          "2025-06-28T15:01:00+00:00",
          "2025-06-28T15:02:00+00:00",
          "2025-06-28T15:03:00+00:00",
          "2025-06-28T15:04:00+00:00",
          "2025-06-28T15:05:00+00:00",
          "2025-06-28T15:06:00+00:00",
          "2025-06-28T15:07:00+00:00",
          "2025-06-28T15:08:00+00:00",
          "2025-06-28T15:09:00+00:00",
          "2025-06-28T15:10:00+00:00",
          "2025-06-28T15:11:00+00:00",
          "2025-06-28T15:12:00+00:00",
          "2025-06-28T15:13:00+00:00",
          "2025-06-28T15:14:00+00:00",
          "2025-06-28T15:15:00+00:00",
          "2025-06-28T15:16:00+00:00",
          "2025-06-28T15:17:00+00:00",
          "2025-06-28T15:18:00+00:00",
          "2025-06-28T15:19:00+00:00",
          "2025-06-28T15:20:00+00:00",
          "2025-06-28T15:21:00+00:00",
          "2025-06-28T15:22:00+00:00",
          "2025-06-28T15:23:00+00:00",
          "2025-06-28T15:24:00+00:00",
          "2025-06-28T15:25:00+00:00",
          "2025-06-28T15:26:00+00:00",
          "2025-06-28T15:27:00+00:00",
          "2025-06-28T15:28:00+00:00",
          "2025-06-28T15:29:00+00:00",
          "2025-06-28T15:30:00+00:00",
          "2025-06-28T15:31:00+00:00",
          "2025-06-28T15:32:00+00:00",
          "2025-06-28T15:33:00+00:00",
          "2025-06-28T15:34:00+00:00",
          "2025-06-28T15:35:00+00:00",
          "2025-06-28T15:36:00+00:00",
          "2025-06-28T15:37:00+00:00",
          "2025-06-28T15:38:00+00:00",
          "2025-06-28T15:39:00+00:00",
          "2025-06-28T15:40:00+00:00",
          "2025-06-28T15:41:00+00:00",
          "2025-06-28T15:42:00+00:00",
          "2025-06-28T15:43:00+00:00",
          "2025-06-28T15:44:00+00:00",
          "2025-06-28T15:45:00+00:00",
          "2025-06-28T15:46:00+00:00",
          "2025-06-28T15:47:00+00:00",
          "2025-06-28T15:48:00+00:00",
          "2025-06-28T15:49:00+00:00",
          "2025-06-28T15:50:00+00:00",
          "2025-06-28T15:51:00+00:00",
          "2025-06-28T15:52:00+00:00",
          "2025-06-28T15:53:00+00:00",
          "2025-06-28T15:54:00+00:00",
          "2025-06-28T15:55:00+00:00",
          "2025-06-28T15:56:00+00:00",
          "2025-06-28T15:57:00+00:00",
          "2025-06-28T15:58:00+00:00",
          "2025-06-28T15:59:00+00:00",
          "2025-06-28T16:00:00+00:00",
          "2025-06-28T16:01:00+00:00",
          "2025-06-28T16:02:00+00:00",
          "2025-06-28T16:03:00+00:00",
          "2025-06-28T16:04:00+00:00",
          "2025-06-28T16:05:00+00:00",
          "2025-06-28T16:06:00+00:00",
          "2025-06-28T16:07:00+00:00",
          "2025-06-28T16:08:00+00:00",
          "2025-06-28T16:09:00+00:00",
          "2025-06-28T16:10:00+00:00",
          "2025-06-28T16:11:00+00:00",
          "2025-06-28T16:12:00+00:00",
          "2025-06-28T16:13:00+00:00",
          "2025-06-28T16:14:00+00:00",
          "2025-06-28T16:15:00+00:00",
          "2025-06-28T16:16:00+00:00",
          "2025-06-28T16:17:00+00:00",
          "2025-06-28T16:18:00+00:00",
          "2025-06-28T16:19:00+00:00",
          "2025-06-28T16:20:00+00:00",
          "2025-06-28T16:21:00+00:00",
          "2025-06-28T16:22:00+00:00",
          "2025-06-28T16:23:00+00:00",
          "2025-06-28T16:24:00+00:00",
          "2025-06-28T16:25:00+00:00",
          "2025-06-28T16:26:00+00:00",
          "2025-06-28T16:27:00+00:00",
          "2025-06-28T16:28:00+00:00",
          "2025-06-28T16:29:00+00:00",
          "2025-06-28T16:30:00+00:00",
          "2025-06-28T16:31:00+00:00",
          "2025-06-28T16:32:00+00:00",
          "2025-06-28T16:33:00+00:00",
          "2025-06-28T16:34:00+00:00",
          "2025-06-28T16:35:00+00:00",
          "2025-06-28T16:36:00+00:00",
          "2025-06-28T16:37:00+00:00",
          "2025-06-28T16:38:00+00:00",
          "2025-06-28T16:39:00+00:00",
          "2025-06-28T16:40:00+00:00",
          "2025-06-28T16:41:00+00:00",
          "2025-06-28T16:42:00+00:00",
          "2025-06-28T16:43:00+00:00",
          "2025-06-28T16:44:00+00:00",
          "2025-06-28T16:45:00+00:00",
          "2025-06-28T16:46:00+00:00",
          "2025-06-28T16:47:00+00:00",
          "2025-06-28T16:48:00+00:00",
          "2025-06-28T16:49:00+00:00",
          "2025-06-28T16:50:00+00:00",
          "2025-06-28T16:51:00+00:00",
          "2025-06-28T16:52:00+00:00",
          "2025-06-28T16:53:00+00:00",
          "2025-06-28T16:54:00+00:00",
          "2025-06-28T16:55:00+00:00",
          "2025-06-28T16:56:00+00:00",
          "2025-06-28T16:57:00+00:00",
          "2025-06-28T16:58:00+00:00",
          "2025-06-28T16:59:00+00:00",
          "2025-06-28T17:00:00+00:00",
          "2025-06-28T17:01:00+00:00",
          "2025-06-28T17:02:00+00:00",
          "2025-06-28T17:03:00+00:00",
          "2025-06-28T17:04:00+00:00",
          "2025-06-28T17:05:00+00:00",
          "2025-06-28T17:06:00+00:00",
          "2025-06-28T17:07:00+00:00",
          "2025-06-28T17:08:00+00:00",
          "2025-06-28T17:09:00+00:00",
          "2025-06-28T17:10:00+00:00",
          "2025-06-28T17:11:00+00:00",
          "2025-06-28T17:12:00+00:00",
          "2025-06-28T17:13:00+00:00",
          "2025-06-28T17:14:00+00:00",
          "2025-06-28T17:15:00+00:00",
          "2025-06-28T17:16:00+00:00",
          "2025-06-28T17:17:00+00:00",
          "2025-06-28T17:18:00+00:00",
          "2025-06-28T17:19:00+00:00",
          "2025-06-28T17:20:00+00:00",
          "2025-06-28T17:21:00+00:00",
          "2025-06-28T17:22:00+00:00",
          "2025-06-28T17:23:00+00:00",
          "2025-06-28T17:24:00+00:00",
          "2025-06-28T17:25:00+00:00",
          "2025-06-28T17:26:00+00:00",
          "2025-06-28T17:27:00+00:00",
          "2025-06-28T17:28:00+00:00",
          "2025-06-28T17:29:00+00:00",
          "2025-06-28T17:30:00+00:00",
          "2025-06-28T17:31:00+00:00",
          "2025-06-28T17:32:00+00:00",
          "2025-06-28T17:33:00+00:00",
          "2025-06-28T17:34:00+00:00",
          "2025-06-28T17:35:00+00:00",
          "2025-06-28T17:36:00+00:00",
          "2025-06-28T17:37:00+00:00",
          "2025-06-28T17:38:00+00:00",
          "2025-06-28T17:39:00+00:00",
          "2025-06-28T17:40:00+00:00",
          "2025-06-28T17:41:00+00:00",
          "2025-06-28T17:42:00+00:00",
          "2025-06-28T17:43:00+00:00",
          "2025-06-28T17:44:00+00:00",
          "2025-06-28T17:45:00+00:00",
          "2025-06-28T17:46:00+00:00",
          "2025-06-28T17:47:00+00:00",
          "2025-06-28T17:48:00+00:00",
          "2025-06-28T17:49:00+00:00",
          "2025-06-28T17:50:00+00:00",
          "2025-06-28T17:51:00+00:00",
          "2025-06-28T17:52:00+00:00",
          "2025-06-28T17:53:00+00:00",
          "2025-06-28T17:54:00+00:00",
          "2025-06-28T17:55:00+00:00",
          "2025-06-28T17:56:00+00:00",
          "2025-06-28T17:57:00+00:00",
          "2025-06-28T17:58:00+00:00",
          "2025-06-28T17:59:00+00:00",
          "2025-06-28T18:00:00+00:00",
          "2025-06-28T18:01:00+00:00",
          "2025-06-28T18:02:00+00:00",
          "2025-06-28T18:03:00+00:00",
          "2025-06-28T18:04:00+00:00",
          "2025-06-28T18:05:00+00:00",
          "2025-06-28T18:06:00+00:00",
          "2025-06-28T18:07:00+00:00",
          "2025-06-28T18:08:00+00:00",
          "2025-06-28T18:09:00+00:00",
          "2025-06-28T18:10:00+00:00",
          "2025-06-28T18:11:00+00:00",
          "2025-06-28T18:12:00+00:00",
          "2025-06-28T18:13:00+00:00",
          "2025-06-28T18:14:00+00:00",
          "2025-06-28T18:15:00+00:00",
          "2025-06-28T18:16:00+00:00",
          "2025-06-28T18:17:00+00:00",
          "2025-06-28T18:18:00+00:00",
          "2025-06-28T18:19:00+00:00",
          "2025-06-28T18:20:00+00:00",
          "2025-06-28T18:21:00+00:00",
          "2025-06-28T18:22:00+00:00",
          "2025-06-28T18:23:00+00:00",
          "2025-06-28T18:24:00+00:00",
          "2025-06-28T18:25:00+00:00",
          "2025-06-28T18:26:00+00:00",
          "2025-06-28T18:27:00+00:00",
          "2025-06-28T18:28:00+00:00",
          "2025-06-28T18:29:00+00:00",
          "2025-06-28T18:30:00+00:00",
          "2025-06-28T18:31:00+00:00",
          "2025-06-28T18:32:00+00:00",
          "2025-06-28T18:33:00+00:00",
          "2025-06-28T18:34:00+00:00",
          "2025-06-28T18:35:00+00:00",
          "2025-06-28T18:36:00+00:00",
          "2025-06-28T18:37:00+00:00",
          "2025-06-28T18:38:00+00:00",
          "2025-06-28T18:39:00+00:00",
          "2025-06-28T18:40:00+00:00",
          "2025-06-28T18:41:00+00:00",
          "2025-06-28T18:42:00+00:00",
          "2025-06-28T18:43:00+00:00",
          "2025-06-28T18:44:00+00:00",
          "2025-06-28T18:45:00+00:00",
          "2025-06-28T18:46:00+00:00",
          "2025-06-28T18:47:00+00:00",
          "2025-06-28T18:48:00+00:00",
          "2025-06-28T18:49:00+00:00",
          "2025-06-28T18:50:00+00:00",
          "2025-06-28T18:51:00+00:00",
          "2025-06-28T18:52:00+00:00",
          "2025-06-28T18:53:00+00:00",
          "2025-06-28T18:54:00+00:00",
          "2025-06-28T18:55:00+00:00",
          "2025-06-28T18:56:00+00:00",
          "2025-06-28T18:57:00+00:00",
          "2025-06-28T18:58:00+00:00",
          "2025-06-28T18:59:00+00:00",
          "2025-06-28T19:00:00+00:00",
          "2025-06-28T19:01:00+00:00",
          "2025-06-28T19:02:00+00:00",
          "2025-06-28T19:03:00+00:00",
          "2025-06-28T19:04:00+00:00",
          "2025-06-28T19:05:00+00:00",
          "2025-06-28T19:06:00+00:00",
          "2025-06-28T19:07:00+00:00",
          "2025-06-28T19:08:00+00:00",
          "2025-06-28T19:09:00+00:00",
          "2025-06-28T19:10:00+00:00",
          "2025-06-28T19:11:00+00:00",
          "2025-06-28T19:12:00+00:00",
          "2025-06-28T19:13:00+00:00",
          "2025-06-28T19:14:00+00:00",
          "2025-06-28T19:15:00+00:00",
          "2025-06-28T19:16:00+00:00",
          "2025-06-28T19:17:00+00:00",
          "2025-06-28T19:18:00+00:00",
          "2025-06-28T19:19:00+00:00",
          "2025-06-28T19:20:00+00:00",
          "2025-06-28T19:21:00+00:00",
          "2025-06-28T19:22:00+00:00",
          "2025-06-28T19:23:00+00:00",
          "2025-06-28T19:24:00+00:00",
          "2025-06-28T19:25:00+00:00",
          "2025-06-28T19:26:00+00:00",
          "2025-06-28T19:27:00+00:00",
          "2025-06-28T19:28:00+00:00",
          "2025-06-28T19:29:00+00:00",
          "2025-06-28T19:30:00+00:00",
          "2025-06-28T19:31:00+00:00",
          "2025-06-28T19:32:00+00:00",
          "2025-06-28T19:33:00+00:00",
          "2025-06-28T19:34:00+00:00",
          "2025-06-28T19:35:00+00:00",
          "2025-06-28T19:36:00+00:00",
          "2025-06-28T19:37:00+00:00",
          "2025-06-28T19:38:00+00:00",
          "2025-06-28T19:39:00+00:00",
          "2025-06-28T19:40:00+00:00",
          "2025-06-28T19:41:00+00:00",
          "2025-06-28T19:42:00+00:00",
          "2025-06-28T19:43:00+00:00",
          "2025-06-28T19:44:00+00:00",
          "2025-06-28T19:45:00+00:00",
          "2025-06-28T19:46:00+00:00",
          "2025-06-28T19:47:00+00:00",
          "2025-06-28T19:48:00+00:00",
          "2025-06-28T19:49:00+00:00",
          "2025-06-28T19:50:00+00:00",
          "2025-06-28T19:51:00+00:00",
          "2025-06-28T19:52:00+00:00",
          "2025-06-28T19:53:00+00:00",
          "2025-06-28T19:54:00+00:00",
          "2025-06-28T19:55:00+00:00",
          "2025-06-28T19:56:00+00:00",
          "2025-06-28T19:57:00+00:00",
          "2025-06-28T19:58:00+00:00",
          "2025-06-28T19:59:00+00:00",
          "2025-06-28T20:00:00+00:00",
          "2025-06-28T20:01:00+00:00",
          "2025-06-28T20:02:00+00:00",
          "2025-06-28T20:03:00+00:00",
          "2025-06-28T20:04:00+00:00",
          "2025-06-28T20:05:00+00:00",
          "2025-06-28T20:06:00+00:00",
          "2025-06-28T20:07:00+00:00",
          "2025-06-28T20:08:00+00:00",
          "2025-06-28T20:09:00+00:00",
          "2025-06-28T20:10:00+00:00",
          "2025-06-28T20:11:00+00:00",
          "2025-06-28T20:12:00+00:00",
          "2025-06-28T20:13:00+00:00",
          "2025-06-28T20:14:00+00:00",
          "2025-06-28T20:15:00+00:00",
          "2025-06-28T20:16:00+00:00",
          "2025-06-28T20:17:00+00:00",
          "2025-06-28T20:18:00+00:00",
          "2025-06-28T20:19:00+00:00",
          "2025-06-28T20:20:00+00:00",
          "2025-06-28T20:21:00+00:00",
          "2025-06-28T20:22:00+00:00",
          "2025-06-28T20:23:00+00:00",
          "2025-06-28T20:24:00+00:00",
          "2025-06-28T20:25:00+00:00",
          "2025-06-28T20:26:00+00:00",
          "2025-06-28T20:27:00+00:00",
          "2025-06-28T20:28:00+00:00",
          "2025-06-28T20:29:00+00:00",
          "2025-06-28T20:30:00+00:00",
          "2025-06-28T20:31:00+00:00",
          "2025-06-28T20:32:00+00:00",
          "2025-06-28T20:33:00+00:00",
          "2025-06-28T20:34:00+00:00",
          "2025-06-28T20:35:00+00:00",
          "2025-06-28T20:36:00+00:00",
          "2025-06-28T20:37:00+00:00",
          "2025-06-28T20:38:00+00:00",
          "2025-06-28T20:39:00+00:00",
          "2025-06-28T20:40:00+00:00",
          "2025-06-28T20:41:00+00:00",
          "2025-06-28T20:42:00+00:00",
          "2025-06-28T20:43:00+00:00",
          "2025-06-28T20:44:00+00:00",
          "2025-06-28T20:45:00+00:00",
          "2025-06-28T20:46:00+00:00",
          "2025-06-28T20:47:00+00:00",
          "2025-06-28T20:48:00+00:00",
          "2025-06-28T20:49:00+00:00",
          "2025-06-28T20:50:00+00:00",
          "2025-06-28T20:51:00+00:00",
          "2025-06-28T20:52:00+00:00",
          "2025-06-28T20:53:00+00:00",
          "2025-06-28T20:54:00+00:00",
          "2025-06-28T20:55:00+00:00",
          "2025-06-28T20:56:00+00:00",
          "2025-06-28T20:57:00+00:00",
          "2025-06-28T20:58:00+00:00",
          "2025-06-28T20:59:00+00:00",
          "2025-06-28T21:00:00+00:00",
          "2025-06-28T21:01:00+00:00",
          "2025-06-28T21:02:00+00:00",
          "2025-06-28T21:03:00+00:00",
          "2025-06-28T21:04:00+00:00",
          "2025-06-28T21:05:00+00:00",
          "2025-06-28T21:06:00+00:00",
          "2025-06-28T21:07:00+00:00",
          "2025-06-28T21:08:00+00:00",
          "2025-06-28T21:09:00+00:00",
          "2025-06-28T21:10:00+00:00",
          "2025-06-28T21:11:00+00:00",
          "2025-06-28T21:12:00+00:00",
          "2025-06-28T21:13:00+00:00",
          "2025-06-28T21:14:00+00:00",
          "2025-06-28T21:15:00+00:00",
          "2025-06-28T21:16:00+00:00",
          "2025-06-28T21:17:00+00:00",
          "2025-06-28T21:18:00+00:00",
          "2025-06-28T21:19:00+00:00",
          "2025-06-28T21:20:00+00:00",
          "2025-06-28T21:21:00+00:00",
          "2025-06-28T21:22:00+00:00",
          "2025-06-28T21:23:00+00:00",
          "2025-06-28T21:24:00+00:00",
          "2025-06-28T21:25:00+00:00",
          "2025-06-28T21:26:00+00:00",
          "2025-06-28T21:27:00+00:00",
          "2025-06-28T21:28:00+00:00",
          "2025-06-28T21:29:00+00:00",
          "2025-06-28T21:30:00+00:00",
          "2025-06-28T21:31:00+00:00",
          "2025-06-28T21:32:00+00:00",
          "2025-06-28T21:33:00+00:00",
          "2025-06-28T21:34:00+00:00",
          "2025-06-28T21:35:00+00:00",
          "2025-06-28T21:36:00+00:00",
          "2025-06-28T21:37:00+00:00",
          "2025-06-28T21:38:00+00:00",
          "2025-06-28T21:39:00+00:00",
          "2025-06-28T21:40:00+00:00",
          "2025-06-28T21:41:00+00:00",
          "2025-06-28T21:42:00+00:00",
          "2025-06-28T21:43:00+00:00",
          "2025-06-28T21:44:00+00:00",
          "2025-06-28T21:45:00+00:00",
          "2025-06-28T21:46:00+00:00",
          "2025-06-28T21:47:00+00:00",
          "2025-06-28T21:48:00+00:00",
          "2025-06-28T21:49:00+00:00",
          "2025-06-28T21:50:00+00:00",
          "2025-06-28T21:51:00+00:00",
          "2025-06-28T21:52:00+00:00",
          "2025-06-28T21:53:00+00:00",
          "2025-06-28T21:54:00+00:00",
          "2025-06-28T21:55:00+00:00",
          "2025-06-28T21:56:00+00:00",
          "2025-06-28T21:57:00+00:00",
          "2025-06-28T21:58:00+00:00",
          "2025-06-28T21:59:00+00:00",
          "2025-06-28T22:00:00+00:00",
          "2025-06-28T22:01:00+00:00",
          "2025-06-28T22:02:00+00:00",
          "2025-06-28T22:03:00+00:00",
          "2025-06-28T22:04:00+00:00",
          "2025-06-28T22:05:00+00:00",
          "2025-06-28T22:06:00+00:00",
          "2025-06-28T22:07:00+00:00",
          "2025-06-28T22:08:00+00:00",
          "2025-06-28T22:09:00+00:00",
          "2025-06-28T22:10:00+00:00",
          "2025-06-28T22:11:00+00:00",
          "2025-06-28T22:12:00+00:00",
          "2025-06-28T22:13:00+00:00",
          "2025-06-28T22:14:00+00:00",
          "2025-06-28T22:15:00+00:00",
          "2025-06-28T22:16:00+00:00",
          "2025-06-28T22:17:00+00:00",
          "2025-06-28T22:18:00+00:00",
          "2025-06-28T22:19:00+00:00",
          "2025-06-28T22:20:00+00:00",
          "2025-06-28T22:21:00+00:00",
          "2025-06-28T22:22:00+00:00",
          "2025-06-28T22:23:00+00:00",
          "2025-06-28T22:24:00+00:00",
          "2025-06-28T22:25:00+00:00",
          "2025-06-28T22:26:00+00:00",
          "2025-06-28T22:27:00+00:00",
          "2025-06-28T22:28:00+00:00",
          "2025-06-28T22:29:00+00:00",
          "2025-06-28T22:30:00+00:00",
          "2025-06-28T22:31:00+00:00",
          "2025-06-28T22:32:00+00:00",
          "2025-06-28T22:33:00+00:00",
          "2025-06-28T22:34:00+00:00",
          "2025-06-28T22:35:00+00:00",
          "2025-06-28T22:36:00+00:00",
          "2025-06-28T22:37:00+00:00",
          "2025-06-28T22:38:00+00:00",
          "2025-06-28T22:39:00+00:00",
          "2025-06-28T22:40:00+00:00",
          "2025-06-28T22:41:00+00:00",
          "2025-06-28T22:42:00+00:00",
          "2025-06-28T22:43:00+00:00",
          "2025-06-28T22:44:00+00:00",
          "2025-06-28T22:45:00+00:00"
         ],
         "type": "candlestick"
        }
       ],
       "layout": {
        "template": {
         "data": {
          "barpolar": [
           {
            "marker": {
             "line": {
              "color": "white",
              "width": 0.5
             },
             "pattern": {
              "fillmode": "overlay",
              "size": 10,
              "solidity": 0.2
             }
            },
            "type": "barpolar"
           }
          ],
          "bar": [
           {
            "error_x": {
             "color": "#2a3f5f"
            },
            "error_y": {
             "color": "#2a3f5f"
            },
            "marker": {
             "line": {
              "color": "white",
              "width": 0.5
             },
             "pattern": {
              "fillmode": "overlay",
              "size": 10,
              "solidity": 0.2
             }
            },
            "type": "bar"
           }
          ],
          "carpet": [
           {
            "aaxis": {
             "endlinecolor": "#2a3f5f",
             "gridcolor": "#C8D4E3",
             "linecolor": "#C8D4E3",
             "minorgridcolor": "#C8D4E3",
             "startlinecolor": "#2a3f5f"
            },
            "baxis": {
             "endlinecolor": "#2a3f5f",
             "gridcolor": "#C8D4E3",
             "linecolor": "#C8D4E3",
             "minorgridcolor": "#C8D4E3",
             "startlinecolor": "#2a3f5f"
            },
            "type": "carpet"
           }
          ],
          "choropleth": [
           {
            "colorbar": {
             "outlinewidth": 0,
             "ticks": ""
            },
            "type": "choropleth"
           }
          ],
          "contourcarpet": [
           {
            "colorbar": {
             "outlinewidth": 0,
             "ticks": ""
            },
            "type": "contourcarpet"
           }
          ],
          "contour": [
           {
            "colorbar": {
             "outlinewidth": 0,
             "ticks": ""
            },
            "colorscale": [
             [
              0.0,
              "#0d0887"
             ],
             [
              0.1111111111111111,
              "#46039f"
             ],
             [
              0.2222222222222222,
              "#7201a8"
             ],
             [
              0.3333333333333333,
              "#9c179e"
             ],
             [
              0.4444444444444444,
              "#bd3786"
             ],
             [
              0.5555555555555556,
              "#d8576b"
             ],
             [
              0.6666666666666666,
              "#ed7953"
             ],
             [
              0.7777777777777778,
              "#fb9f3a"
             ],
             [
              0.8888888888888888,
              "#fdca26"
             ],
             [
              1.0,
              "#f0f921"
             ]
            ],
            "type": "contour"
           }
          ],
          "heatmap": [
           {
            "colorbar": {
             "outlinewidth": 0,
             "ticks": ""
            },
            "colorscale": [
             [
              0.0,
              "#0d0887"
             ],
             [
              0.1111111111111111,
              "#46039f"
             ],
             [
              0.2222222222222222,
              "#7201a8"
             ],
             [
              0.3333333333333333,
              "#9c179e"
             ],
             [
              0.4444444444444444,
              "#bd3786"
             ],
             [
              0.5555555555555556,
              "#d8576b"
             ],
             [
              0.6666666666666666,
              "#ed7953"
             ],
             [
              0.7777777777777778,
              "#fb9f3a"
             ],
             [
              0.8888888888888888,
              "#fdca26"
             ],
             [
              1.0,
              "#f0f921"
             ]
            ],
            "type": "heatmap"
           }
          ],
          "histogram2dcontour": [
           {
            "colorbar": {
             "outlinewidth": 0,
             "ticks": ""
            },
            "colorscale": [
             [
              0.0,
              "#0d0887"
             ],
             [
              0.1111111111111111,
              "#46039f"
             ],
             [
              0.2222222222222222,
              "#7201a8"
             ],
             [
              0.3333333333333333,
              "#9c179e"
             ],
             [
              0.4444444444444444,
              "#bd3786"
             ],
             [
              0.5555555555555556,
              "#d8576b"
             ],
             [
              0.6666666666666666,
              "#ed7953"
             ],
             [
              0.7777777777777778,
              "#fb9f3a"
             ],
             [
              0.8888888888888888,
              "#fdca26"
             ],
             [
              1.0,
              "#f0f921"
             ]
            ],
            "type": "histogram2dcontour"
           }
          ],
          "histogram2d": [
           {
            "colorbar": {
             "outlinewidth": 0,
             "ticks": ""
            },
            "colorscale": [
             [
              0.0,
              "#0d0887"
             ],
             [
              0.1111111111111111,
              "#46039f"
             ],
             [
              0.2222222222222222,
              "#7201a8"
             ],
             [
              0.3333333333333333,
              "#9c179e"
             ],
             [
              0.4444444444444444,
              "#bd3786"
             ],
             [
              0.5555555555555556,
              "#d8576b"
             ],
             [
              0.6666666666666666,
              "#ed7953"
             ],
             [
              0.7777777777777778,
              "#fb9f3a"
             ],
             [
              0.8888888888888888,
              "#fdca26"
             ],
             [
              1.0,
              "#f0f921"
             ]
            ],
            "type": "histogram2d"
           }
          ],
          "histogram": [
           {
            "marker": {
             "pattern": {
              "fillmode": "overlay",
              "size": 10,
              "solidity": 0.2
             }
            },
            "type": "histogram"
           }
          ],
          "mesh3d": [
           {
            "colorbar": {
             "outlinewidth": 0,
             "ticks": ""
            },
            "type": "mesh3d"
           }
          ],
          "parcoords": [
           {
            "line": {
             "colorbar": {
              "outlinewidth": 0,
              "ticks": ""
             }
            },
            "type": "parcoords"
           }
          ],
          "pie": [
           {
            "automargin": true,
            "type": "pie"
           }
          ],
          "scatter3d": [
           {
            "line": {
             "colorbar": {
              "outlinewidth": 0,
              "ticks": ""
             }
            },
            "marker": {
             "colorbar": {
              "outlinewidth": 0,
              "ticks": ""
             }
            },
            "type": "scatter3d"
           }
          ],
          "scattercarpet": [
           {
            "marker": {
             "colorbar": {
              "outlinewidth": 0,
              "ticks": ""
             }
            },
            "type": "scattercarpet"
           }
          ],
          "scattergeo": [
           {
            "marker": {
             "colorbar": {
              "outlinewidth": 0,
              "ticks": ""
             }
            },
            "type": "scattergeo"
           }
          ],
          "scattergl": [
           {
            "marker": {
             "colorbar": {
              "outlinewidth": 0,
              "ticks": ""
             }
            },
            "type": "scattergl"
           }
          ],
          "scattermapbox": [
           {
            "marker": {
             "colorbar": {
              "outlinewidth": 0,
              "ticks": ""
             }
            },
            "type": "scattermapbox"
           }
          ],
          "scattermap": [
           {
            "marker": {
             "colorbar": {
              "outlinewidth": 0,
              "ticks": ""
             }
            },
            "type": "scattermap"
           }
          ],
          "scatterpolargl": [
           {
            "marker": {
             "colorbar": {
              "outlinewidth": 0,
              "ticks": ""
             }
            },
            "type": "scatterpolargl"
           }
          ],
          "scatterpolar": [
           {
            "marker": {
             "colorbar": {
              "outlinewidth": 0,
              "ticks": ""
             }
            },
            "type": "scatterpolar"
           }
          ],
          "scatter": [
           {
            "fillpattern": {
             "fillmode": "overlay",
             "size": 10,
             "solidity": 0.2
            },
            "type": "scatter"
           }
          ],
          "scatterternary": [
           {
            "marker": {
             "colorbar": {
              "outlinewidth": 0,
              "ticks": ""
             }
            },
            "type": "scatterternary"
           }
          ],
          "surface": [
           {
            "colorbar": {
             "outlinewidth": 0,
             "ticks": ""
            },
            "colorscale": [
             [
              0.0,
              "#0d0887"
             ],
             [
              0.1111111111111111,
              "#46039f"
             ],
             [
              0.2222222222222222,
              "#7201a8"
             ],
             [
              0.3333333333333333,
              "#9c179e"
             ],
             [
              0.4444444444444444,
              "#bd3786"
             ],
             [
              0.5555555555555556,
              "#d8576b"
             ],
             [
              0.6666666666666666,
              "#ed7953"
             ],
             [
              0.7777777777777778,
              "#fb9f3a"
             ],
             [
              0.8888888888888888,
              "#fdca26"
             ],
             [
              1.0,
              "#f0f921"
             ]
            ],
            "type": "surface"
           }
          ],
          "table": [
           {
            "cells": {
             "fill": {
              "color": "#EBF0F8"
             },
             "line": {
              "color": "white"
             }
            },
            "header": {
             "fill": {
              "color": "#C8D4E3"
             },
             "line": {
              "color": "white"
             }
            },
            "type": "table"
           }
          ]
         },
         "layout": {
          "annotationdefaults": {
           "arrowcolor": "#2a3f5f",
           "arrowhead": 0,
           "arrowwidth": 1
          },
          "autotypenumbers": "strict",
          "coloraxis": {
           "colorbar": {
            "outlinewidth": 0,
            "ticks": ""
           }
          },
          "colorscale": {
           "diverging": [
            [
             0,
             "#8e0152"
            ],
            [
             0.1,
             "#c51b7d"
            ],
            [
             0.2,
             "#de77ae"
            ],
            [
             0.3,
             "#f1b6da"
            ],
            [
             0.4,
             "#fde0ef"
            ],
            [
             0.5,
             "#f7f7f7"
            ],
            [
             0.6,
             "#e6f5d0"
            ],
            [
             0.7,
             "#b8e186"
            ],
            [
             0.8,
             "#7fbc41"
            ],
            [
             0.9,
             "#4d9221"
            ],
            [
             1,
             "#276419"
            ]
           ],
           "sequential": [
            [
             0.0,
             "#0d0887"
            ],
            [
             0.1111111111111111,
             "#46039f"
            ],
            [
             0.2222222222222222,
             "#7201a8"
            ],
            [
             0.3333333333333333,
             "#9c179e"
            ],
            [
             0.4444444444444444,
             "#bd3786"
            ],
            [
             0.5555555555555556,
             "#d8576b"
            ],
            [
             0.6666666666666666,
             "#ed7953"
            ],
            [
             0.7777777777777778,
             "#fb9f3a"
            ],
            [
             0.8888888888888888,
             "#fdca26"
            ],
            [
             1.0,
             "#f0f921"
            ]
           ],
           "sequentialminus": [
            [
             0.0,
             "#0d0887"
            ],
            [
             0.1111111111111111,
             "#46039f"
            ],
            [
             0.2222222222222222,
             "#7201a8"
            ],
            [
             0.3333333333333333,
             "#9c179e"
            ],
            [
             0.4444444444444444,
             "#bd3786"
            ],
            [
             0.5555555555555556,
             "#d8576b"
            ],
            [
             0.6666666666666666,
             "#ed7953"
            ],
            [
             0.7777777777777778,
             "#fb9f3a"
            ],
            [
             0.8888888888888888,
             "#fdca26"
            ],
            [
             1.0,
             "#f0f921"
            ]
           ]
          },
          "colorway": [
           "#636efa",
           "#EF553B",
           "#00cc96",
           "#ab63fa",
           "#FFA15A",
           "#19d3f3",
           "#FF6692",
           "#B6E880",
           "#FF97FF",
           "#FECB52"
          ],
          "font": {
           "color": "#2a3f5f"
          },
          "geo": {
           "bgcolor": "white",
           "lakecolor": "white",
           "landcolor": "white",
           "showlakes": true,
           "showland": true,
           "subunitcolor": "#C8D4E3"
          },
          "hoverlabel": {
           "align": "left"
          },
          "hovermode": "closest",
          "mapbox": {
           "style": "light"
          },
          "paper_bgcolor": "white",
          "plot_bgcolor": "white",
          "polar": {
           "angularaxis": {
            "gridcolor": "#EBF0F8",
            "linecolor": "#EBF0F8",
            "ticks": ""
           },
           "bgcolor": "white",
           "radialaxis": {
            "gridcolor": "#EBF0F8",
            "linecolor": "#EBF0F8",
            "ticks": ""
           }
          },
          "scene": {
           "xaxis": {
            "backgroundcolor": "white",
            "gridcolor": "#DFE8F3",
            "gridwidth": 2,
            "linecolor": "#EBF0F8",
            "showbackground": true,
            "ticks": "",
            "zerolinecolor": "#EBF0F8"
           },
           "yaxis": {
            "backgroundcolor": "white",
            "gridcolor": "#DFE8F3",
            "gridwidth": 2,
            "linecolor": "#EBF0F8",
            "showbackground": true,
            "ticks": "",
            "zerolinecolor": "#EBF0F8"
           },
           "zaxis": {
            "backgroundcolor": "white",
            "gridcolor": "#DFE8F3",
            "gridwidth": 2,
            "linecolor": "#EBF0F8",
            "showbackground": true,
            "ticks": "",
            "zerolinecolor": "#EBF0F8"
           }
          },
          "shapedefaults": {
           "line": {
            "color": "#2a3f5f"
           }
          },
          "ternary": {
           "aaxis": {
            "gridcolor": "#DFE8F3",
            "linecolor": "#A2B1C6",
            "ticks": ""
           },
           "baxis": {
            "gridcolor": "#DFE8F3",
            "linecolor": "#A2B1C6",
            "ticks": ""
           },
           "bgcolor": "white",
           "caxis": {
            "gridcolor": "#DFE8F3",
            "linecolor": "#A2B1C6",
            "ticks": ""
           }
          },
          "title": {
           "x": 0.05
          },
          "xaxis": {
           "automargin": true,
           "gridcolor": "#EBF0F8",
           "linecolor": "#EBF0F8",
           "ticks": "",
           "title": {
            "standoff": 15
           },
           "zerolinecolor": "#EBF0F8",
           "zerolinewidth": 2
          },
          "yaxis": {
           "automargin": true,
           "gridcolor": "#EBF0F8",
           "linecolor": "#EBF0F8",
           "ticks": "",
           "title": {
            "standoff": 15
           },
           "zerolinecolor": "#EBF0F8",
           "zerolinewidth": 2
          }
         }
        },
        "yaxis2": {
         "overlaying": "y",
         "side": "right",
         "showgrid": false,
         "title": {
          "text": "Volume"
         }
        },
        "xaxis": {
         "rangeslider": {
          "visible": false
         },
         "title": {
          "text": "Time"
         }
        },
        "title": {
         "text": "Best 12-Hour Fragment – Sideways"
        },
        "yaxis": {
         "title": {
          "text": "Price"
         }
        },
        "height": 600
       },
       "config": {
        "plotlyServerURL": "https://plot.ly"
       }
      }
     },
     "metadata": {},
     "output_type": "display_data"
    },
    {
     "data": {
      "application/vnd.plotly.v1+json": {
       "data": [
        {
         "close": {
          "dtype": "f8",
          "bdata": "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"
         },
         "decreasing": {
          "line": {
           "color": "red"
          }
         },
         "high": {
          "dtype": "f8",
          "bdata": "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"
         },
         "increasing": {
          "line": {
           "color": "lime"
          }
         },
         "low": {
          "dtype": "f8",
          "bdata": "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"
         },
         "name": "Price",
         "open": {
          "dtype": "f8",
          "bdata": "j8L1KKCM+kBxPQrX3436QM3MzMzgjfpAzczMzOyN+kAAAAAAYI36QLgehevdiPpAuB6F622K+kAzMzMzt4f6QK5H4Xosh/pAhetRuB6I+kAAAAAAkIn6QClcj8LJivpAZmZmZpaJ+kDXo3A9lon6QM3MzMycivpAexSuR4GJ+kBI4XoU7ob6QBSuR+H6hPpA16NwPdKC+kDD9Shc54H6QI/C9ShIgfpAexSuR016+kA9CtejOHr6QHE9CtfffPpAKVyPwi1/+kBI4XoUanz6QLgehevFevpA7FG4HhF9+kAAAAAAkHz6QPYoXI+yffpA7FG4HrF/+kA9CtejQH76QLgehesFhPpA9ihcjzqD+kBcj8L1MIf6QClcj8JNhfpAj8L1KEiE+kCuR+F6pIX6QOxRuB4VhvpArkfheqCH+kAUrkfhbon6QI/C9SggifpA4XoUrh+J+kA9CtejXIj6QK5H4XpciPpArkfheoSI+kAAAAAAwIn6QLgehevJiPpArkfhehiM+kDD9ShcQ4v6QI/C9SjAifpAw/UoXPOK+kAUrkfhIov6QAAAAADgjPpAcT0K19+M+kC4HoXrBY36QJqZmZlhjfpAZmZmZtaN+kDXo3A91o36QFK4HoV/jfpAAAAAAOyN+kAzMzMzg4z6QPYoXI/ii/pAhetRuB6I+kAK16Nw6Yf6QPYoXI8ahPpAMzMzM1eE+kBxPQrXK4D6QHE9CtcbgPpAMzMzM9t/+kCPwvUoQIH6QJqZmZmFffpA7FG4Ho1/+kCPwvUogH76QIXrUbjefPpAexSuR/F6+kDXo3A9rnr6QOF6FK7jevpAmpmZmZl6+kAK16NwSXv6QK5H4XpcfPpAj8L1KLB7+kD2KFyPPn/6QHE9CteLfvpAFK5H4Z6A+kCF61G4noD6QD0K16OkgPpAzczMzAiB+kD2KFyPxoH6QPYoXI+2gfpAmpmZmX2A+kCuR+F6rH76QPYoXI9yf/pAXI/C9SCD+kAK16NwuYX6QI/C9ShkhvpAj8L1KPCB+kBI4XoUOoP6QAAAAACkgvpAmpmZmVmD+kCPwvUoUIP6QBSuR+FugvpA16NwPdKC+kA9CtejgIL6QHE9Cte/gvpAAAAAAMCC+kAK16NwCYT6QM3MzMyMhfpAZmZmZk6F+kAK16NwWYX6QHE9CtfThfpApHA9CjOF+kBcj8L1/IL6QHE9CtcrgPpA16NwPcp++kCPwvUoOH/6QI/C9Sg4f/pA7FG4HiWA+kBcj8L1JID6QBSuR+F2hPpAexSuRymC+kAK16NweYH6QOxRuB4pgvpAexSuRymC+kAK16Nw2YP6QIXrUbhag/pACtejcKWB+kAK16NwpYH6QK5H4Xpkf/pAexSuRzl/+kCPwvUogH76QFyPwvWIfPpAUrgehd96+kBI4XoUInr6QHE9Ctf/e/pAH4XrUch8+kAAAAAAQH36QNejcD22ffpA9ihcj65/+kBxPQrXP4L6QMP1KFw3gfpAAAAAAJB/+kCPwvUoQH36QAAAAABAffpAXI/C9Qh8+kAAAAAAAHz6QB+F61GEe/pAMzMzM8N7+kAAAAAA0Hv6QFyPwvW8e/pAPQrXowB6+kAAAAAAwHj6QAAAAADAePpAAAAAAEh7+kD2KFyPdnr6QIXrUbh2evpAAAAAAMB6+kBxPQrXf3z6QAAAAABsfvpAFK5H4a5++kBcj8L1gH36QOxRuB4JfPpAw/UoXN96+kDD9Shc33r6QDMzMzPfevpAw/UoXN96+kCkcD0K33r6QFK4HoW7e/pA4XoUrrt7+kAAAAAAAH/6QAAAAADAf/pAAAAAAMB/+kAAAAAAwH/6QHE9Cte/f/pA4XoUrut9+kA9Ctej6H36QK5H4XroffpAcT0K189++kAAAAAA0H76QHE9CtfPfvpAcT0K189++kBxPQrXz376QJqZmZl1fPpAKVyPwnV8+kBxPQrXf376QB+F61H4fvpAH4XrUfh++kDhehSuw3/6QHE9CtdPgPpAcT0K10+A+kApXI/CwX36QPYoXI++ffpA9ihcj759+kBxPQrXe336QHE9Ctd7ffpAH4XrURx8+kCPwvUouHz6QGZmZma+ffpAH4XrUeR9+kAUrkfhHn76QKRwPQoffvpAAAAAAJh++kAAAAAAmH76QFK4HoVrf/pAH4XrUWx9+kAfhetRbH36QOxRuB4lffpAw/UoXC98+kBI4XoU+nz6QAAAAAAkffpAUrgehfd9+kBSuB6F9336QNejcD1SffpAZmZmZsJ7+kCF61G4gnv6QDMzMzOrefpAAAAAAKB5+kCPwvUocHn6QB+F61GQePpAH4XrUZB4+kAAAAAASHr6QPYoXI/uePpA4XoUrkd6+kDsUbge5Xn6QFyPwvXkefpA7FG4HuV5+kDsUbge5Xn6QOF6FK6LefpAzczMzMh4+kDNzMzMyHj6QM3MzMzIePpAPQrXo8h4+kDNzMzMyHj6QD0K16PIePpAMzMzM8N4+kAK16NwwXj6QClcj8KJd/pAj8L1KNB1+kCPwvUoAHX6QAAAAAAAdfpAj8L1KAB1+kAAAAAAAHX6QI/C9SgAdfpAj8L1KAB1+kBmZmZmynb6QD0K16PMd/pAj8L1KBR0+kDD9Shcr3b6QPYoXI+udvpA9ihcj652+kAAAAAA4HL6QNejcD1ucvpArkfhejBx+kDXo3A9HnH6QOF6FK6vcfpAMzMzM0Nx+kCamZmZMXH6QAAAAADgc/pAAAAAAIB0+kDD9ShcV3T6QOxRuB5ldfpA7FG4HsF0+kCPwvUoGHT6QI/C9SgYdPpAH4XrURh0+kAfhetRGHT6QK5H4XoYdPpArkfhehh0+kBxPQrXH3T6QLgeheshdfpAuB6F6yF1+kAK16NwYXP6QArXo3Bhc/pACtejcGFz+kCamZmZYXP6QJqZmZlhc/pAFK5H4T5y+kDXo3A96nL6QOxRuB7JcvpA7FG4HnFy+kCPwvUo0HH6QI/C9SjQcfpAzczMzARy+kDXo3A9PnH6QOF6FK4rcfpAH4XrUfhs+kAfhetR+Gz6QClcj8LZbPpAKVyPwjVs+kDNzMzMGGr6QB+F61GQafpAw/UoXANq+kBSuB6Fp2j6QD0K16NIavpAKVyPwpFr+kApXI/C2Wz6QB+F61FobfpAZmZmZi5u+kDNzMzMrGz6QDMzMzNbbPpAw/UoXFts+kBxPQrXP276QM3MzMwUbvpAj8L1KOBs+kDXo3A9omr6QOF6FK6jbPpAPQrXo0hq+kBxPQrXv2v6QAAAAADAa/pAhetRuHJs+kCkcD0Kq276QNejcD2ecPpA16NwPZ5w+kD2KFyPim/6QPYoXI+Kb/pAAAAAANxt+kCuR+F60G36QArXo3B9b/pAZmZmZkZw+kCPwvUocG/6QFK4HoWTbvpAcT0K189v+kBxPQrXz2/6QBSuR+FybvpAhetRuMpt+kAAAAAAQG76QM3MzMzMbfpAXI/C9UBt+kDhehSuW2z6QK5H4XosbPpA16NwPRJs+kDNzMzMSGr6QFK4HoVTaPpAUrgehVNo+kBSuB6FU2j6QEjhehSKafpASOF6FIpp+kCF61G4Ymn6QDMzMzNTafpAj8L1KEBp+kCF61G4umf6QKRwPQqraPpAMzMzM6to+kAUrkfhymj6QArXo3DhZvpAKVyPwhFo+kCPwvUoAGj6QAAAAAB4aPpAUrgehbto+kCPwvUoAGj6QAAAAACwZ/pAcT0K189g+kBI4XoUql/6QI/C9Sj4WfpAAAAAAABW+kCPwvUokFP6QFyPwvXkUvpAPQrXo6xO+kDhehSu41P6QOxRuB49UPpAMzMzMztP+kBI4XoUYkn6QNejcD1eSvpA16NwPV5K+kDXo3A94kX6QOF6FK4bRfpAZmZmZhZD+kCF61G4Ckn6QOF6FK7DRPpAj8L1KNBC+kCkcD0KB0X6QMP1KFzDRvpA16NwPbJF+kCPwvUoqET6QOF6FK47Q/pAj8L1KCBD+kApXI/CwUT6QIXrUbgqQ/pAzczMzPhA+kBI4XoUOj/6QFyPwvVkPvpA4XoUrhdB+kCPwvUoTD/6QClcj8I1QfpAj8L1KHxC+kDXo3A9fkP6QDMzMzN/Q/pAhetRuB5D+kCF61G4OkT6QM3MzMwQQ/pAcT0K1ztD+kCuR+F6WEX6QOF6FK4jSPpAcT0K1/9J+kDNzMzMhE36QGZmZmZ2S/pA4XoUrkNM+kCuR+F6IE36QK5H4XogTfpAUrgehSdN+kApXI/C8Uv6QEjhehQiTvpAXI/C9RRO+kA9CtejzEz6QM3MzMzMTPpAhetRuC5L+kAAAAAAIEv6QD0K16O0SvpAXI/C9bRI+kDXo3A9Skf6QMP1KFyDRvpAKVyPwuVG+kA9CtejQEr6QLgeheudSPpAuB6F651I+kBcj8L1NEj6QEjhehRyR/pASOF6FHJH+kC4HoXrNUj6QEjhehQGSPpAmpmZmclH+kCPwvUoeEj6QI/C9Sh4SPpAZmZmZlpJ+kBmZmZmWkn6QI/C9SggSPpAj8L1KCBI+kCPwvUoIEj6QD0K16OER/pAPQrXo4RH+kA9CtejhEf6QK5H4XqER/pAPQrXo4RH+kA9CtejhEf6QOxRuB7hRfpAj8L1KEBG+kC4HoXrqUj6QM3MzMysRPpAj8L1KMhF+kCF61G4Wkr6QJqZmZlxS/pAcT0K13dL+kCPwvUoDE36QClcj8LxS/pAMzMzM5tL+kDD9Shcm0v6QBSuR+F+SfpApHA9CktJ+kAzMzMzS0n6QDMzMzPzRfpApHA9CttE+kC4HoXr3Ub6QLgehevdRvpAAAAAAABF+kDsUbgekUP6QHE9Ctc7Q/pA16NwPdZC+kCPwvUo4EH6QI/C9SgUQfpAexSuR5VA+kB7FK5HiUD6QI/C9ShAQfpA9ihcj3JC+kBxPQrX/0X6QHE9Ctf/RfpA4XoUrudG+kCPwvUoAEX6QAAAAADAQ/pA4XoUrntD+kCF61G4PkL6QAAAAABAQfpAj8L1KEBB+kDhehSuP0H6QGZmZmY+QvpAZmZmZj5C+kBmZmZmPkL6QPYoXI8eQPpAUrgeheNA+kDD9Shc6z/6QAAAAABMQPpACtejcA1C+kCamZmZFUP6QEjhehS6QvpASOF6FLpC+kBI4XoUukL6QNejcD26QvpAmpmZmRVD+kCF61G4JkL6QK5H4Xr8QPpA4XoUrltA+kAAAAAAyD/6QK5H4XosP/pArkfheiw/+kAAAAAAwD76QNejcD2OP/pArkfhevxA+kC4HoXr5UD6QDMzMzPrPvpA16NwPbI8+kAUrkfhojz6QI/C9Sh8P/pASOF6FG5A+kAAAAAA4EH6QFyPwvUwSfpAzczMzDBJ+kDNzMzMMEn6QFyPwvW0SfpAXI/C9bRJ+kBcj8L1tEn6QM3MzMy0SfpAzczMzLRJ+kBxPQrXw0j6QLgeheuJRvpA4XoUroNG+kApXI/CLUj6QEjhehTiRfpAzczMzIhF+kAfhetRsEX6QI/C9SiwRfpAzczMzDhH+kDNzMzMnEb6QM3MzMwUSPpAmpmZmT1H+kBxPQrXH0j6QHE9CtcfSPpASOF6FA5K+kCamZmZVUn6QFyPwvXASfpArkfheoRI+kDXo3A9xkb6QKRwPQqXRfpAexSuRxFH+kAUrkfhNkb6QKRwPQo3RvpApHA9CjdG+kAUrkfhNkb6QBSuR+GWRfpAcT0K1ztD+kAAAAAAGD76QHsUrkdtPvpAMzMzM1dA+kBmZmZmEj/6QFyPwvW4PfpA9ihcj/4++kAfhetRVED6QClcj8KJP/pAMzMzM68/+kDD9ShcI0D6QMP1KFwjQPpAUrgehSNA+kDhehSuI0D6QOF6FK4jQPpAUrgehSNA+kDNzMzMyD36QK5H4XpsPfpAPQrXo2Q8+kD2KFyPej76QHsUrkeVQPpA4XoUrv8/+kAUrkfhSj/6QOF6FK7/P/pAZmZmZjY/+kD2KFyPNj/6QI/C9SjAPvpApHA9Ch89+kCkcD0KHz36QKRwPQpzPPpApHA9CnM8+kCkcD0Kczz6QAAAAABAPPpA9ihcj3Y7+kDNzMzMaDr6QFyPwvVoOvpAAAAAAOA7+kBxPQrXPzz6QHE9Ctc/PPpAzczMzMw9+kCPwvUorED6QFyPwvUAQPpAXI/C9QBA+kBcj8L1AED6QFyPwvUAQPpA7FG4HgFA+kDsUbgeAUD6QOxRuB4BQPpAXI/C9QBA+kCPwvUofD76QAAAAAB0PfpAXI/C9dQ8+kDNzMzM1Dz6QI/C9ShMP/pAuB6F66VC+kBxPQrXz0P6QHE9CtfPQ/pAmpmZmUlE+kApXI/CdUT6QLgehet1RPpAKVyPwlFF+kDhehSud0X6QLgeheuxRfpA4XoUrp9G+kDsUbgesUf6QHsUrkexR/pAexSuR7FH+kCkcD0KH0b6QBSuR+EeRvpApHA9Cs9F+kCkcD0Kz0X6QKRwPQrPRfpAAAAAAJBG+kAAAAAAkEb6QAAAAACQRvpAcT0K149G+kBSuB6Fs0b6QAAAAAAYSPpAPQrXo0hH+kA9CtejSEf6QM3MzMxIR/pAAAAAAJBG+kB7FK5HoUr6QHsUrkehSvpAhetRuOZL+kCF61G4ckz6QArXo3CBSfpAZmZmZi5L+kD2KFyPLkv6QPYoXI8uS/pA9ihcjy5L+kAUrkfhIkz6QGZmZmZWTPpAAAAAAOhL+kDXo3A9Vkz6QJqZmZnlUPpAAAAAADhS+kAzMzMzb1L6QKRwPQpvUvpAAAAAAMBS+kD2KFyPHlT6QOF6FK5jWPpAw/UoXEtW+kCamZmZJVT6QFyPwvWcVPpA9ihcj+ZU+kCPwvUokFT6QI/C9SiQVPpAXI/C9QRV+kBcj8L1BFX6QEjhehS+V/pAuB6F6yFa+kBI4XoUIlr6QFK4HoVvWfpApHA9Cr9a+kAfhetRFFv6QI/C9SgUW/pASOF6FG5Y+kBI4XoUblj6QEjhehRuWPpACtejcBVS+kCPwvUogFH6QI/C9SiAUfpAUrgehedT+kBSuB6F51P6QFK4HoXnU/pAUrgehedT+kDD9Shc51P6QArXo3A9VPpAzczMzCRV+kCF61G4QlT6QI/C9SiAUfpA9ihcj45M+kBxPQrXn0n6QNejcD3qSPpA16NwPR5I+kDXo3A9Hkj6QMP1KFxjSPpAMzMzM4NJ+kDD9Shcg0n6QAAAAABAS/pAAAAAAEBL+kA9CtejKEz6QEjhehT2SvpAw/UoXFtK+kBSuB6F70v6QB+F61GATPpApHA9CltN+kBxPQrXQ036QK5H4Xq0TPpArkfherRM+kA9CtejtEz6QD0K16O0TPpA16NwPS5P+kAzMzMzi076QAAAAAAAT/pAcT0K13NQ+kAUrkfhIlL6QFK4HoXLUvpArkfhetBR+kBxPQrXz1H6QLgehevZSfpAzczMzGhO+kBcj8L1aE76QM3MzMxoTvpA9ihcj3JN+kCuR+F6KE36QK5H4XooTfpArkfheihN+kCkcD0Ks0v6QB+F61GISPpAj8L1KABF+kCPwvUoiEj6QHE9Ctc/RvpA4XoUrj9G+kDhehSuP0f6QHE9Ctc/R/pAexSuR9FH+kDsUbge0Uf6QHsUrkfRR/pA9ihcj25I+kA9Ctej9Eb6QIXrUbjGRvpA"
         },
         "x": [
          "2025-06-30T00:46:00+00:00",
          "2025-06-30T00:47:00+00:00",
          "2025-06-30T00:48:00+00:00",
          "2025-06-30T00:49:00+00:00",
          "2025-06-30T00:50:00+00:00",
          "2025-06-30T00:51:00+00:00",
          "2025-06-30T00:52:00+00:00",
          "2025-06-30T00:53:00+00:00",
          "2025-06-30T00:54:00+00:00",
          "2025-06-30T00:55:00+00:00",
          "2025-06-30T00:56:00+00:00",
          "2025-06-30T00:57:00+00:00",
          "2025-06-30T00:58:00+00:00",
          "2025-06-30T00:59:00+00:00",
          "2025-06-30T01:00:00+00:00",
          "2025-06-30T01:01:00+00:00",
          "2025-06-30T01:02:00+00:00",
          "2025-06-30T01:03:00+00:00",
          "2025-06-30T01:04:00+00:00",
          "2025-06-30T01:05:00+00:00",
          "2025-06-30T01:06:00+00:00",
          "2025-06-30T01:07:00+00:00",
          "2025-06-30T01:08:00+00:00",
          "2025-06-30T01:09:00+00:00",
          "2025-06-30T01:10:00+00:00",
          "2025-06-30T01:11:00+00:00",
          "2025-06-30T01:12:00+00:00",
          "2025-06-30T01:13:00+00:00",
          "2025-06-30T01:14:00+00:00",
          "2025-06-30T01:15:00+00:00",
          "2025-06-30T01:16:00+00:00",
          "2025-06-30T01:17:00+00:00",
          "2025-06-30T01:18:00+00:00",
          "2025-06-30T01:19:00+00:00",
          "2025-06-30T01:20:00+00:00",
          "2025-06-30T01:21:00+00:00",
          "2025-06-30T01:22:00+00:00",
          "2025-06-30T01:23:00+00:00",
          "2025-06-30T01:24:00+00:00",
          "2025-06-30T01:25:00+00:00",
          "2025-06-30T01:26:00+00:00",
          "2025-06-30T01:27:00+00:00",
          "2025-06-30T01:28:00+00:00",
          "2025-06-30T01:29:00+00:00",
          "2025-06-30T01:30:00+00:00",
          "2025-06-30T01:31:00+00:00",
          "2025-06-30T01:32:00+00:00",
          "2025-06-30T01:33:00+00:00",
          "2025-06-30T01:34:00+00:00",
          "2025-06-30T01:35:00+00:00",
          "2025-06-30T01:36:00+00:00",
          "2025-06-30T01:37:00+00:00",
          "2025-06-30T01:38:00+00:00",
          "2025-06-30T01:39:00+00:00",
          "2025-06-30T01:40:00+00:00",
          "2025-06-30T01:41:00+00:00",
          "2025-06-30T01:42:00+00:00",
          "2025-06-30T01:43:00+00:00",
          "2025-06-30T01:44:00+00:00",
          "2025-06-30T01:45:00+00:00",
          "2025-06-30T01:46:00+00:00",
          "2025-06-30T01:47:00+00:00",
          "2025-06-30T01:48:00+00:00",
          "2025-06-30T01:49:00+00:00",
          "2025-06-30T01:50:00+00:00",
          "2025-06-30T01:51:00+00:00",
          "2025-06-30T01:52:00+00:00",
          "2025-06-30T01:53:00+00:00",
          "2025-06-30T01:54:00+00:00",
          "2025-06-30T01:55:00+00:00",
          "2025-06-30T01:56:00+00:00",
          "2025-06-30T01:57:00+00:00",
          "2025-06-30T01:58:00+00:00",
          "2025-06-30T01:59:00+00:00",
          "2025-06-30T02:00:00+00:00",
          "2025-06-30T02:01:00+00:00",
          "2025-06-30T02:02:00+00:00",
          "2025-06-30T02:03:00+00:00",
          "2025-06-30T02:04:00+00:00",
          "2025-06-30T02:05:00+00:00",
          "2025-06-30T02:06:00+00:00",
          "2025-06-30T02:07:00+00:00",
          "2025-06-30T02:08:00+00:00",
          "2025-06-30T02:09:00+00:00",
          "2025-06-30T02:10:00+00:00",
          "2025-06-30T02:11:00+00:00",
          "2025-06-30T02:12:00+00:00",
          "2025-06-30T02:13:00+00:00",
          "2025-06-30T02:14:00+00:00",
          "2025-06-30T02:15:00+00:00",
          "2025-06-30T02:16:00+00:00",
          "2025-06-30T02:17:00+00:00",
          "2025-06-30T02:18:00+00:00",
          "2025-06-30T02:19:00+00:00",
          "2025-06-30T02:20:00+00:00",
          "2025-06-30T02:21:00+00:00",
          "2025-06-30T02:22:00+00:00",
          "2025-06-30T02:23:00+00:00",
          "2025-06-30T02:24:00+00:00",
          "2025-06-30T02:25:00+00:00",
          "2025-06-30T02:26:00+00:00",
          "2025-06-30T02:27:00+00:00",
          "2025-06-30T02:28:00+00:00",
          "2025-06-30T02:29:00+00:00",
          "2025-06-30T02:30:00+00:00",
          "2025-06-30T02:31:00+00:00",
          "2025-06-30T02:32:00+00:00",
          "2025-06-30T02:33:00+00:00",
          "2025-06-30T02:34:00+00:00",
          "2025-06-30T02:35:00+00:00",
          "2025-06-30T02:36:00+00:00",
          "2025-06-30T02:37:00+00:00",
          "2025-06-30T02:38:00+00:00",
          "2025-06-30T02:39:00+00:00",
          "2025-06-30T02:40:00+00:00",
          "2025-06-30T02:41:00+00:00",
          "2025-06-30T02:42:00+00:00",
          "2025-06-30T02:43:00+00:00",
          "2025-06-30T02:44:00+00:00",
          "2025-06-30T02:45:00+00:00",
          "2025-06-30T02:46:00+00:00",
          "2025-06-30T02:47:00+00:00",
          "2025-06-30T02:48:00+00:00",
          "2025-06-30T02:49:00+00:00",
          "2025-06-30T02:50:00+00:00",
          "2025-06-30T02:51:00+00:00",
          "2025-06-30T02:52:00+00:00",
          "2025-06-30T02:53:00+00:00",
          "2025-06-30T02:54:00+00:00",
          "2025-06-30T02:55:00+00:00",
          "2025-06-30T02:56:00+00:00",
          "2025-06-30T02:57:00+00:00",
          "2025-06-30T02:58:00+00:00",
          "2025-06-30T02:59:00+00:00",
          "2025-06-30T03:00:00+00:00",
          "2025-06-30T03:01:00+00:00",
          "2025-06-30T03:02:00+00:00",
          "2025-06-30T03:03:00+00:00",
          "2025-06-30T03:04:00+00:00",
          "2025-06-30T03:05:00+00:00",
          "2025-06-30T03:06:00+00:00",
          "2025-06-30T03:07:00+00:00",
          "2025-06-30T03:08:00+00:00",
          "2025-06-30T03:09:00+00:00",
          "2025-06-30T03:10:00+00:00",
          "2025-06-30T03:11:00+00:00",
          "2025-06-30T03:12:00+00:00",
          "2025-06-30T03:13:00+00:00",
          "2025-06-30T03:14:00+00:00",
          "2025-06-30T03:15:00+00:00",
          "2025-06-30T03:16:00+00:00",
          "2025-06-30T03:17:00+00:00",
          "2025-06-30T03:18:00+00:00",
          "2025-06-30T03:19:00+00:00",
          "2025-06-30T03:20:00+00:00",
          "2025-06-30T03:21:00+00:00",
          "2025-06-30T03:22:00+00:00",
          "2025-06-30T03:23:00+00:00",
          "2025-06-30T03:24:00+00:00",
          "2025-06-30T03:25:00+00:00",
          "2025-06-30T03:26:00+00:00",
          "2025-06-30T03:27:00+00:00",
          "2025-06-30T03:28:00+00:00",
          "2025-06-30T03:29:00+00:00",
          "2025-06-30T03:30:00+00:00",
          "2025-06-30T03:31:00+00:00",
          "2025-06-30T03:32:00+00:00",
          "2025-06-30T03:33:00+00:00",
          "2025-06-30T03:34:00+00:00",
          "2025-06-30T03:35:00+00:00",
          "2025-06-30T03:36:00+00:00",
          "2025-06-30T03:37:00+00:00",
          "2025-06-30T03:38:00+00:00",
          "2025-06-30T03:39:00+00:00",
          "2025-06-30T03:40:00+00:00",
          "2025-06-30T03:41:00+00:00",
          "2025-06-30T03:42:00+00:00",
          "2025-06-30T03:43:00+00:00",
          "2025-06-30T03:44:00+00:00",
          "2025-06-30T03:45:00+00:00",
          "2025-06-30T03:46:00+00:00",
          "2025-06-30T03:47:00+00:00",
          "2025-06-30T03:48:00+00:00",
          "2025-06-30T03:49:00+00:00",
          "2025-06-30T03:50:00+00:00",
          "2025-06-30T03:51:00+00:00",
          "2025-06-30T03:52:00+00:00",
          "2025-06-30T03:53:00+00:00",
          "2025-06-30T03:54:00+00:00",
          "2025-06-30T03:55:00+00:00",
          "2025-06-30T03:56:00+00:00",
          "2025-06-30T03:57:00+00:00",
          "2025-06-30T03:58:00+00:00",
          "2025-06-30T03:59:00+00:00",
          "2025-06-30T04:00:00+00:00",
          "2025-06-30T04:01:00+00:00",
          "2025-06-30T04:02:00+00:00",
          "2025-06-30T04:03:00+00:00",
          "2025-06-30T04:04:00+00:00",
          "2025-06-30T04:05:00+00:00",
          "2025-06-30T04:06:00+00:00",
          "2025-06-30T04:07:00+00:00",
          "2025-06-30T04:08:00+00:00",
          "2025-06-30T04:09:00+00:00",
          "2025-06-30T04:10:00+00:00",
          "2025-06-30T04:11:00+00:00",
          "2025-06-30T04:12:00+00:00",
          "2025-06-30T04:13:00+00:00",
          "2025-06-30T04:14:00+00:00",
          "2025-06-30T04:15:00+00:00",
          "2025-06-30T04:16:00+00:00",
          "2025-06-30T04:17:00+00:00",
          "2025-06-30T04:18:00+00:00",
          "2025-06-30T04:19:00+00:00",
          "2025-06-30T04:20:00+00:00",
          "2025-06-30T04:21:00+00:00",
          "2025-06-30T04:22:00+00:00",
          "2025-06-30T04:23:00+00:00",
          "2025-06-30T04:24:00+00:00",
          "2025-06-30T04:25:00+00:00",
          "2025-06-30T04:26:00+00:00",
          "2025-06-30T04:27:00+00:00",
          "2025-06-30T04:28:00+00:00",
          "2025-06-30T04:29:00+00:00",
          "2025-06-30T04:30:00+00:00",
          "2025-06-30T04:31:00+00:00",
          "2025-06-30T04:32:00+00:00",
          "2025-06-30T04:33:00+00:00",
          "2025-06-30T04:34:00+00:00",
          "2025-06-30T04:35:00+00:00",
          "2025-06-30T04:36:00+00:00",
          "2025-06-30T04:37:00+00:00",
          "2025-06-30T04:38:00+00:00",
          "2025-06-30T04:39:00+00:00",
          "2025-06-30T04:40:00+00:00",
          "2025-06-30T04:41:00+00:00",
          "2025-06-30T04:42:00+00:00",
          "2025-06-30T04:43:00+00:00",
          "2025-06-30T04:44:00+00:00",
          "2025-06-30T04:45:00+00:00",
          "2025-06-30T04:46:00+00:00",
          "2025-06-30T04:47:00+00:00",
          "2025-06-30T04:48:00+00:00",
          "2025-06-30T04:49:00+00:00",
          "2025-06-30T04:50:00+00:00",
          "2025-06-30T04:51:00+00:00",
          "2025-06-30T04:52:00+00:00",
          "2025-06-30T04:53:00+00:00",
          "2025-06-30T04:54:00+00:00",
          "2025-06-30T04:55:00+00:00",
          "2025-06-30T04:56:00+00:00",
          "2025-06-30T04:57:00+00:00",
          "2025-06-30T04:58:00+00:00",
          "2025-06-30T04:59:00+00:00",
          "2025-06-30T05:00:00+00:00",
          "2025-06-30T05:01:00+00:00",
          "2025-06-30T05:02:00+00:00",
          "2025-06-30T05:03:00+00:00",
          "2025-06-30T05:04:00+00:00",
          "2025-06-30T05:05:00+00:00",
          "2025-06-30T05:06:00+00:00",
          "2025-06-30T05:07:00+00:00",
          "2025-06-30T05:08:00+00:00",
          "2025-06-30T05:09:00+00:00",
          "2025-06-30T05:10:00+00:00",
          "2025-06-30T05:11:00+00:00",
          "2025-06-30T05:12:00+00:00",
          "2025-06-30T05:13:00+00:00",
          "2025-06-30T05:14:00+00:00",
          "2025-06-30T05:15:00+00:00",
          "2025-06-30T05:16:00+00:00",
          "2025-06-30T05:17:00+00:00",
          "2025-06-30T05:18:00+00:00",
          "2025-06-30T05:19:00+00:00",
          "2025-06-30T05:20:00+00:00",
          "2025-06-30T05:21:00+00:00",
          "2025-06-30T05:22:00+00:00",
          "2025-06-30T05:23:00+00:00",
          "2025-06-30T05:24:00+00:00",
          "2025-06-30T05:25:00+00:00",
          "2025-06-30T05:26:00+00:00",
          "2025-06-30T05:27:00+00:00",
          "2025-06-30T05:28:00+00:00",
          "2025-06-30T05:29:00+00:00",
          "2025-06-30T05:30:00+00:00",
          "2025-06-30T05:31:00+00:00",
          "2025-06-30T05:32:00+00:00",
          "2025-06-30T05:33:00+00:00",
          "2025-06-30T05:34:00+00:00",
          "2025-06-30T05:35:00+00:00",
          "2025-06-30T05:36:00+00:00",
          "2025-06-30T05:37:00+00:00",
          "2025-06-30T05:38:00+00:00",
          "2025-06-30T05:39:00+00:00",
          "2025-06-30T05:40:00+00:00",
          "2025-06-30T05:41:00+00:00",
          "2025-06-30T05:42:00+00:00",
          "2025-06-30T05:43:00+00:00",
          "2025-06-30T05:44:00+00:00",
          "2025-06-30T05:45:00+00:00",
          "2025-06-30T05:46:00+00:00",
          "2025-06-30T05:47:00+00:00",
          "2025-06-30T05:48:00+00:00",
          "2025-06-30T05:49:00+00:00",
          "2025-06-30T05:50:00+00:00",
          "2025-06-30T05:51:00+00:00",
          "2025-06-30T05:52:00+00:00",
          "2025-06-30T05:53:00+00:00",
          "2025-06-30T05:54:00+00:00",
          "2025-06-30T05:55:00+00:00",
          "2025-06-30T05:56:00+00:00",
          "2025-06-30T05:57:00+00:00",
          "2025-06-30T05:58:00+00:00",
          "2025-06-30T05:59:00+00:00",
          "2025-06-30T06:00:00+00:00",
          "2025-06-30T06:01:00+00:00",
          "2025-06-30T06:02:00+00:00",
          "2025-06-30T06:03:00+00:00",
          "2025-06-30T06:04:00+00:00",
          "2025-06-30T06:05:00+00:00",
          "2025-06-30T06:06:00+00:00",
          "2025-06-30T06:07:00+00:00",
          "2025-06-30T06:08:00+00:00",
          "2025-06-30T06:09:00+00:00",
          "2025-06-30T06:10:00+00:00",
          "2025-06-30T06:11:00+00:00",
          "2025-06-30T06:12:00+00:00",
          "2025-06-30T06:13:00+00:00",
          "2025-06-30T06:14:00+00:00",
          "2025-06-30T06:15:00+00:00",
          "2025-06-30T06:16:00+00:00",
          "2025-06-30T06:17:00+00:00",
          "2025-06-30T06:18:00+00:00",
          "2025-06-30T06:19:00+00:00",
          "2025-06-30T06:20:00+00:00",
          "2025-06-30T06:21:00+00:00",
          "2025-06-30T06:22:00+00:00",
          "2025-06-30T06:23:00+00:00",
          "2025-06-30T06:24:00+00:00",
          "2025-06-30T06:25:00+00:00",
          "2025-06-30T06:26:00+00:00",
          "2025-06-30T06:27:00+00:00",
          "2025-06-30T06:28:00+00:00",
          "2025-06-30T06:29:00+00:00",
          "2025-06-30T06:30:00+00:00",
          "2025-06-30T06:31:00+00:00",
          "2025-06-30T06:32:00+00:00",
          "2025-06-30T06:33:00+00:00",
          "2025-06-30T06:34:00+00:00",
          "2025-06-30T06:35:00+00:00",
          "2025-06-30T06:36:00+00:00",
          "2025-06-30T06:37:00+00:00",
          "2025-06-30T06:38:00+00:00",
          "2025-06-30T06:39:00+00:00",
          "2025-06-30T06:40:00+00:00",
          "2025-06-30T06:41:00+00:00",
          "2025-06-30T06:42:00+00:00",
          "2025-06-30T06:43:00+00:00",
          "2025-06-30T06:44:00+00:00",
          "2025-06-30T06:45:00+00:00",
          "2025-06-30T06:46:00+00:00",
          "2025-06-30T06:47:00+00:00",
          "2025-06-30T06:48:00+00:00",
          "2025-06-30T06:49:00+00:00",
          "2025-06-30T06:50:00+00:00",
          "2025-06-30T06:51:00+00:00",
          "2025-06-30T06:52:00+00:00",
          "2025-06-30T06:53:00+00:00",
          "2025-06-30T06:54:00+00:00",
          "2025-06-30T06:55:00+00:00",
          "2025-06-30T06:56:00+00:00",
          "2025-06-30T06:57:00+00:00",
          "2025-06-30T06:58:00+00:00",
          "2025-06-30T06:59:00+00:00",
          "2025-06-30T07:00:00+00:00",
          "2025-06-30T07:01:00+00:00",
          "2025-06-30T07:02:00+00:00",
          "2025-06-30T07:03:00+00:00",
          "2025-06-30T07:04:00+00:00",
          "2025-06-30T07:05:00+00:00",
          "2025-06-30T07:06:00+00:00",
          "2025-06-30T07:07:00+00:00",
          "2025-06-30T07:08:00+00:00",
          "2025-06-30T07:09:00+00:00",
          "2025-06-30T07:10:00+00:00",
          "2025-06-30T07:11:00+00:00",
          "2025-06-30T07:12:00+00:00",
          "2025-06-30T07:13:00+00:00",
          "2025-06-30T07:14:00+00:00",
          "2025-06-30T07:15:00+00:00",
          "2025-06-30T07:16:00+00:00",
          "2025-06-30T07:17:00+00:00",
          "2025-06-30T07:18:00+00:00",
          "2025-06-30T07:19:00+00:00",
          "2025-06-30T07:20:00+00:00",
          "2025-06-30T07:21:00+00:00",
          "2025-06-30T07:22:00+00:00",
          "2025-06-30T07:23:00+00:00",
          "2025-06-30T07:24:00+00:00",
          "2025-06-30T07:25:00+00:00",
          "2025-06-30T07:26:00+00:00",
          "2025-06-30T07:27:00+00:00",
          "2025-06-30T07:28:00+00:00",
          "2025-06-30T07:29:00+00:00",
          "2025-06-30T07:30:00+00:00",
          "2025-06-30T07:31:00+00:00",
          "2025-06-30T07:32:00+00:00",
          "2025-06-30T07:33:00+00:00",
          "2025-06-30T07:34:00+00:00",
          "2025-06-30T07:35:00+00:00",
          "2025-06-30T07:36:00+00:00",
          "2025-06-30T07:37:00+00:00",
          "2025-06-30T07:38:00+00:00",
          "2025-06-30T07:39:00+00:00",
          "2025-06-30T07:40:00+00:00",
          "2025-06-30T07:41:00+00:00",
          "2025-06-30T07:42:00+00:00",
          "2025-06-30T07:43:00+00:00",
          "2025-06-30T07:44:00+00:00",
          "2025-06-30T07:45:00+00:00",
          "2025-06-30T07:46:00+00:00",
          "2025-06-30T07:47:00+00:00",
          "2025-06-30T07:48:00+00:00",
          "2025-06-30T07:49:00+00:00",
          "2025-06-30T07:50:00+00:00",
          "2025-06-30T07:51:00+00:00",
          "2025-06-30T07:52:00+00:00",
          "2025-06-30T07:53:00+00:00",
          "2025-06-30T07:54:00+00:00",
          "2025-06-30T07:55:00+00:00",
          "2025-06-30T07:56:00+00:00",
          "2025-06-30T07:57:00+00:00",
          "2025-06-30T07:58:00+00:00",
          "2025-06-30T07:59:00+00:00",
          "2025-06-30T08:00:00+00:00",
          "2025-06-30T08:01:00+00:00",
          "2025-06-30T08:02:00+00:00",
          "2025-06-30T08:03:00+00:00",
          "2025-06-30T08:04:00+00:00",
          "2025-06-30T08:05:00+00:00",
          "2025-06-30T08:06:00+00:00",
          "2025-06-30T08:07:00+00:00",
          "2025-06-30T08:08:00+00:00",
          "2025-06-30T08:09:00+00:00",
          "2025-06-30T08:10:00+00:00",
          "2025-06-30T08:11:00+00:00",
          "2025-06-30T08:12:00+00:00",
          "2025-06-30T08:13:00+00:00",
          "2025-06-30T08:14:00+00:00",
          "2025-06-30T08:15:00+00:00",
          "2025-06-30T08:16:00+00:00",
          "2025-06-30T08:17:00+00:00",
          "2025-06-30T08:18:00+00:00",
          "2025-06-30T08:19:00+00:00",
          "2025-06-30T08:20:00+00:00",
          "2025-06-30T08:21:00+00:00",
          "2025-06-30T08:22:00+00:00",
          "2025-06-30T08:23:00+00:00",
          "2025-06-30T08:24:00+00:00",
          "2025-06-30T08:25:00+00:00",
          "2025-06-30T08:26:00+00:00",
          "2025-06-30T08:27:00+00:00",
          "2025-06-30T08:28:00+00:00",
          "2025-06-30T08:29:00+00:00",
          "2025-06-30T08:30:00+00:00",
          "2025-06-30T08:31:00+00:00",
          "2025-06-30T08:32:00+00:00",
          "2025-06-30T08:33:00+00:00",
          "2025-06-30T08:34:00+00:00",
          "2025-06-30T08:35:00+00:00",
          "2025-06-30T08:36:00+00:00",
          "2025-06-30T08:37:00+00:00",
          "2025-06-30T08:38:00+00:00",
          "2025-06-30T08:39:00+00:00",
          "2025-06-30T08:40:00+00:00",
          "2025-06-30T08:41:00+00:00",
          "2025-06-30T08:42:00+00:00",
          "2025-06-30T08:43:00+00:00",
          "2025-06-30T08:44:00+00:00",
          "2025-06-30T08:45:00+00:00",
          "2025-06-30T08:46:00+00:00",
          "2025-06-30T08:47:00+00:00",
          "2025-06-30T08:48:00+00:00",
          "2025-06-30T08:49:00+00:00",
          "2025-06-30T08:50:00+00:00",
          "2025-06-30T08:51:00+00:00",
          "2025-06-30T08:52:00+00:00",
          "2025-06-30T08:53:00+00:00",
          "2025-06-30T08:54:00+00:00",
          "2025-06-30T08:55:00+00:00",
          "2025-06-30T08:56:00+00:00",
          "2025-06-30T08:57:00+00:00",
          "2025-06-30T08:58:00+00:00",
          "2025-06-30T08:59:00+00:00",
          "2025-06-30T09:00:00+00:00",
          "2025-06-30T09:01:00+00:00",
          "2025-06-30T09:02:00+00:00",
          "2025-06-30T09:03:00+00:00",
          "2025-06-30T09:04:00+00:00",
          "2025-06-30T09:05:00+00:00",
          "2025-06-30T09:06:00+00:00",
          "2025-06-30T09:07:00+00:00",
          "2025-06-30T09:08:00+00:00",
          "2025-06-30T09:09:00+00:00",
          "2025-06-30T09:10:00+00:00",
          "2025-06-30T09:11:00+00:00",
          "2025-06-30T09:12:00+00:00",
          "2025-06-30T09:13:00+00:00",
          "2025-06-30T09:14:00+00:00",
          "2025-06-30T09:15:00+00:00",
          "2025-06-30T09:16:00+00:00",
          "2025-06-30T09:17:00+00:00",
          "2025-06-30T09:18:00+00:00",
          "2025-06-30T09:19:00+00:00",
          "2025-06-30T09:20:00+00:00",
          "2025-06-30T09:21:00+00:00",
          "2025-06-30T09:22:00+00:00",
          "2025-06-30T09:23:00+00:00",
          "2025-06-30T09:24:00+00:00",
          "2025-06-30T09:25:00+00:00",
          "2025-06-30T09:26:00+00:00",
          "2025-06-30T09:27:00+00:00",
          "2025-06-30T09:28:00+00:00",
          "2025-06-30T09:29:00+00:00",
          "2025-06-30T09:30:00+00:00",
          "2025-06-30T09:31:00+00:00",
          "2025-06-30T09:32:00+00:00",
          "2025-06-30T09:33:00+00:00",
          "2025-06-30T09:34:00+00:00",
          "2025-06-30T09:35:00+00:00",
          "2025-06-30T09:36:00+00:00",
          "2025-06-30T09:37:00+00:00",
          "2025-06-30T09:38:00+00:00",
          "2025-06-30T09:39:00+00:00",
          "2025-06-30T09:40:00+00:00",
          "2025-06-30T09:41:00+00:00",
          "2025-06-30T09:42:00+00:00",
          "2025-06-30T09:43:00+00:00",
          "2025-06-30T09:44:00+00:00",
          "2025-06-30T09:45:00+00:00",
          "2025-06-30T09:46:00+00:00",
          "2025-06-30T09:47:00+00:00",
          "2025-06-30T09:48:00+00:00",
          "2025-06-30T09:49:00+00:00",
          "2025-06-30T09:50:00+00:00",
          "2025-06-30T09:51:00+00:00",
          "2025-06-30T09:52:00+00:00",
          "2025-06-30T09:53:00+00:00",
          "2025-06-30T09:54:00+00:00",
          "2025-06-30T09:55:00+00:00",
          "2025-06-30T09:56:00+00:00",
          "2025-06-30T09:57:00+00:00",
          "2025-06-30T09:58:00+00:00",
          "2025-06-30T09:59:00+00:00",
          "2025-06-30T10:00:00+00:00",
          "2025-06-30T10:01:00+00:00",
          "2025-06-30T10:02:00+00:00",
          "2025-06-30T10:03:00+00:00",
          "2025-06-30T10:04:00+00:00",
          "2025-06-30T10:05:00+00:00",
          "2025-06-30T10:06:00+00:00",
          "2025-06-30T10:07:00+00:00",
          "2025-06-30T10:08:00+00:00",
          "2025-06-30T10:09:00+00:00",
          "2025-06-30T10:10:00+00:00",
          "2025-06-30T10:11:00+00:00",
          "2025-06-30T10:12:00+00:00",
          "2025-06-30T10:13:00+00:00",
          "2025-06-30T10:14:00+00:00",
          "2025-06-30T10:15:00+00:00",
          "2025-06-30T10:16:00+00:00",
          "2025-06-30T10:17:00+00:00",
          "2025-06-30T10:18:00+00:00",
          "2025-06-30T10:19:00+00:00",
          "2025-06-30T10:20:00+00:00",
          "2025-06-30T10:21:00+00:00",
          "2025-06-30T10:22:00+00:00",
          "2025-06-30T10:23:00+00:00",
          "2025-06-30T10:24:00+00:00",
          "2025-06-30T10:25:00+00:00",
          "2025-06-30T10:26:00+00:00",
          "2025-06-30T10:27:00+00:00",
          "2025-06-30T10:28:00+00:00",
          "2025-06-30T10:29:00+00:00",
          "2025-06-30T10:30:00+00:00",
          "2025-06-30T10:31:00+00:00",
          "2025-06-30T10:32:00+00:00",
          "2025-06-30T10:33:00+00:00",
          "2025-06-30T10:34:00+00:00",
          "2025-06-30T10:35:00+00:00",
          "2025-06-30T10:36:00+00:00",
          "2025-06-30T10:37:00+00:00",
          "2025-06-30T10:38:00+00:00",
          "2025-06-30T10:39:00+00:00",
          "2025-06-30T10:40:00+00:00",
          "2025-06-30T10:41:00+00:00",
          "2025-06-30T10:42:00+00:00",
          "2025-06-30T10:43:00+00:00",
          "2025-06-30T10:44:00+00:00",
          "2025-06-30T10:45:00+00:00",
          "2025-06-30T10:46:00+00:00",
          "2025-06-30T10:47:00+00:00",
          "2025-06-30T10:48:00+00:00",
          "2025-06-30T10:49:00+00:00",
          "2025-06-30T10:50:00+00:00",
          "2025-06-30T10:51:00+00:00",
          "2025-06-30T10:52:00+00:00",
          "2025-06-30T10:53:00+00:00",
          "2025-06-30T10:54:00+00:00",
          "2025-06-30T10:55:00+00:00",
          "2025-06-30T10:56:00+00:00",
          "2025-06-30T10:57:00+00:00",
          "2025-06-30T10:58:00+00:00",
          "2025-06-30T10:59:00+00:00",
          "2025-06-30T11:00:00+00:00",
          "2025-06-30T11:01:00+00:00",
          "2025-06-30T11:02:00+00:00",
          "2025-06-30T11:03:00+00:00",
          "2025-06-30T11:04:00+00:00",
          "2025-06-30T11:05:00+00:00",
          "2025-06-30T11:06:00+00:00",
          "2025-06-30T11:07:00+00:00",
          "2025-06-30T11:08:00+00:00",
          "2025-06-30T11:09:00+00:00",
          "2025-06-30T11:10:00+00:00",
          "2025-06-30T11:11:00+00:00",
          "2025-06-30T11:12:00+00:00",
          "2025-06-30T11:13:00+00:00",
          "2025-06-30T11:14:00+00:00",
          "2025-06-30T11:15:00+00:00",
          "2025-06-30T11:16:00+00:00",
          "2025-06-30T11:17:00+00:00",
          "2025-06-30T11:18:00+00:00",
          "2025-06-30T11:19:00+00:00",
          "2025-06-30T11:20:00+00:00",
          "2025-06-30T11:21:00+00:00",
          "2025-06-30T11:22:00+00:00",
          "2025-06-30T11:23:00+00:00",
          "2025-06-30T11:24:00+00:00",
          "2025-06-30T11:25:00+00:00",
          "2025-06-30T11:26:00+00:00",
          "2025-06-30T11:27:00+00:00",
          "2025-06-30T11:28:00+00:00",
          "2025-06-30T11:29:00+00:00",
          "2025-06-30T11:30:00+00:00",
          "2025-06-30T11:31:00+00:00",
          "2025-06-30T11:32:00+00:00",
          "2025-06-30T11:33:00+00:00",
          "2025-06-30T11:34:00+00:00",
          "2025-06-30T11:35:00+00:00",
          "2025-06-30T11:36:00+00:00",
          "2025-06-30T11:37:00+00:00",
          "2025-06-30T11:38:00+00:00",
          "2025-06-30T11:39:00+00:00",
          "2025-06-30T11:40:00+00:00",
          "2025-06-30T11:41:00+00:00",
          "2025-06-30T11:42:00+00:00",
          "2025-06-30T11:43:00+00:00",
          "2025-06-30T11:44:00+00:00",
          "2025-06-30T11:45:00+00:00",
          "2025-06-30T11:46:00+00:00",
          "2025-06-30T11:47:00+00:00",
          "2025-06-30T11:48:00+00:00",
          "2025-06-30T11:49:00+00:00",
          "2025-06-30T11:50:00+00:00",
          "2025-06-30T11:51:00+00:00",
          "2025-06-30T11:52:00+00:00",
          "2025-06-30T11:53:00+00:00",
          "2025-06-30T11:54:00+00:00",
          "2025-06-30T11:55:00+00:00",
          "2025-06-30T11:56:00+00:00",
          "2025-06-30T11:57:00+00:00",
          "2025-06-30T11:58:00+00:00",
          "2025-06-30T11:59:00+00:00",
          "2025-06-30T12:00:00+00:00",
          "2025-06-30T12:01:00+00:00",
          "2025-06-30T12:02:00+00:00",
          "2025-06-30T12:03:00+00:00",
          "2025-06-30T12:04:00+00:00",
          "2025-06-30T12:05:00+00:00",
          "2025-06-30T12:06:00+00:00",
          "2025-06-30T12:07:00+00:00",
          "2025-06-30T12:08:00+00:00",
          "2025-06-30T12:09:00+00:00",
          "2025-06-30T12:10:00+00:00",
          "2025-06-30T12:11:00+00:00",
          "2025-06-30T12:12:00+00:00",
          "2025-06-30T12:13:00+00:00",
          "2025-06-30T12:14:00+00:00",
          "2025-06-30T12:15:00+00:00",
          "2025-06-30T12:16:00+00:00",
          "2025-06-30T12:17:00+00:00",
          "2025-06-30T12:18:00+00:00",
          "2025-06-30T12:19:00+00:00",
          "2025-06-30T12:20:00+00:00",
          "2025-06-30T12:21:00+00:00",
          "2025-06-30T12:22:00+00:00",
          "2025-06-30T12:23:00+00:00",
          "2025-06-30T12:24:00+00:00",
          "2025-06-30T12:25:00+00:00",
          "2025-06-30T12:26:00+00:00",
          "2025-06-30T12:27:00+00:00",
          "2025-06-30T12:28:00+00:00",
          "2025-06-30T12:29:00+00:00",
          "2025-06-30T12:30:00+00:00",
          "2025-06-30T12:31:00+00:00",
          "2025-06-30T12:32:00+00:00",
          "2025-06-30T12:33:00+00:00",
          "2025-06-30T12:34:00+00:00",
          "2025-06-30T12:35:00+00:00",
          "2025-06-30T12:36:00+00:00",
          "2025-06-30T12:37:00+00:00",
          "2025-06-30T12:38:00+00:00",
          "2025-06-30T12:39:00+00:00",
          "2025-06-30T12:40:00+00:00",
          "2025-06-30T12:41:00+00:00",
          "2025-06-30T12:42:00+00:00",
          "2025-06-30T12:43:00+00:00",
          "2025-06-30T12:44:00+00:00",
          "2025-06-30T12:45:00+00:00"
         ],
         "type": "candlestick"
        }
       ],
       "layout": {
        "template": {
         "data": {
          "barpolar": [
           {
            "marker": {
             "line": {
              "color": "white",
              "width": 0.5
             },
             "pattern": {
              "fillmode": "overlay",
              "size": 10,
              "solidity": 0.2
             }
            },
            "type": "barpolar"
           }
          ],
          "bar": [
           {
            "error_x": {
             "color": "#2a3f5f"
            },
            "error_y": {
             "color": "#2a3f5f"
            },
            "marker": {
             "line": {
              "color": "white",
              "width": 0.5
             },
             "pattern": {
              "fillmode": "overlay",
              "size": 10,
              "solidity": 0.2
             }
            },
            "type": "bar"
           }
          ],
          "carpet": [
           {
            "aaxis": {
             "endlinecolor": "#2a3f5f",
             "gridcolor": "#C8D4E3",
             "linecolor": "#C8D4E3",
             "minorgridcolor": "#C8D4E3",
             "startlinecolor": "#2a3f5f"
            },
            "baxis": {
             "endlinecolor": "#2a3f5f",
             "gridcolor": "#C8D4E3",
             "linecolor": "#C8D4E3",
             "minorgridcolor": "#C8D4E3",
             "startlinecolor": "#2a3f5f"
            },
            "type": "carpet"
           }
          ],
          "choropleth": [
           {
            "colorbar": {
             "outlinewidth": 0,
             "ticks": ""
            },
            "type": "choropleth"
           }
          ],
          "contourcarpet": [
           {
            "colorbar": {
             "outlinewidth": 0,
             "ticks": ""
            },
            "type": "contourcarpet"
           }
          ],
          "contour": [
           {
            "colorbar": {
             "outlinewidth": 0,
             "ticks": ""
            },
            "colorscale": [
             [
              0.0,
              "#0d0887"
             ],
             [
              0.1111111111111111,
              "#46039f"
             ],
             [
              0.2222222222222222,
              "#7201a8"
             ],
             [
              0.3333333333333333,
              "#9c179e"
             ],
             [
              0.4444444444444444,
              "#bd3786"
             ],
             [
              0.5555555555555556,
              "#d8576b"
             ],
             [
              0.6666666666666666,
              "#ed7953"
             ],
             [
              0.7777777777777778,
              "#fb9f3a"
             ],
             [
              0.8888888888888888,
              "#fdca26"
             ],
             [
              1.0,
              "#f0f921"
             ]
            ],
            "type": "contour"
           }
          ],
          "heatmap": [
           {
            "colorbar": {
             "outlinewidth": 0,
             "ticks": ""
            },
            "colorscale": [
             [
              0.0,
              "#0d0887"
             ],
             [
              0.1111111111111111,
              "#46039f"
             ],
             [
              0.2222222222222222,
              "#7201a8"
             ],
             [
              0.3333333333333333,
              "#9c179e"
             ],
             [
              0.4444444444444444,
              "#bd3786"
             ],
             [
              0.5555555555555556,
              "#d8576b"
             ],
             [
              0.6666666666666666,
              "#ed7953"
             ],
             [
              0.7777777777777778,
              "#fb9f3a"
             ],
             [
              0.8888888888888888,
              "#fdca26"
             ],
             [
              1.0,
              "#f0f921"
             ]
            ],
            "type": "heatmap"
           }
          ],
          "histogram2dcontour": [
           {
            "colorbar": {
             "outlinewidth": 0,
             "ticks": ""
            },
            "colorscale": [
             [
              0.0,
              "#0d0887"
             ],
             [
              0.1111111111111111,
              "#46039f"
             ],
             [
              0.2222222222222222,
              "#7201a8"
             ],
             [
              0.3333333333333333,
              "#9c179e"
             ],
             [
              0.4444444444444444,
              "#bd3786"
             ],
             [
              0.5555555555555556,
              "#d8576b"
             ],
             [
              0.6666666666666666,
              "#ed7953"
             ],
             [
              0.7777777777777778,
              "#fb9f3a"
             ],
             [
              0.8888888888888888,
              "#fdca26"
             ],
             [
              1.0,
              "#f0f921"
             ]
            ],
            "type": "histogram2dcontour"
           }
          ],
          "histogram2d": [
           {
            "colorbar": {
             "outlinewidth": 0,
             "ticks": ""
            },
            "colorscale": [
             [
              0.0,
              "#0d0887"
             ],
             [
              0.1111111111111111,
              "#46039f"
             ],
             [
              0.2222222222222222,
              "#7201a8"
             ],
             [
              0.3333333333333333,
              "#9c179e"
             ],
             [
              0.4444444444444444,
              "#bd3786"
             ],
             [
              0.5555555555555556,
              "#d8576b"
             ],
             [
              0.6666666666666666,
              "#ed7953"
             ],
             [
              0.7777777777777778,
              "#fb9f3a"
             ],
             [
              0.8888888888888888,
              "#fdca26"
             ],
             [
              1.0,
              "#f0f921"
             ]
            ],
            "type": "histogram2d"
           }
          ],
          "histogram": [
           {
            "marker": {
             "pattern": {
              "fillmode": "overlay",
              "size": 10,
              "solidity": 0.2
             }
            },
            "type": "histogram"
           }
          ],
          "mesh3d": [
           {
            "colorbar": {
             "outlinewidth": 0,
             "ticks": ""
            },
            "type": "mesh3d"
           }
          ],
          "parcoords": [
           {
            "line": {
             "colorbar": {
              "outlinewidth": 0,
              "ticks": ""
             }
            },
            "type": "parcoords"
           }
          ],
          "pie": [
           {
            "automargin": true,
            "type": "pie"
           }
          ],
          "scatter3d": [
           {
            "line": {
             "colorbar": {
              "outlinewidth": 0,
              "ticks": ""
             }
            },
            "marker": {
             "colorbar": {
              "outlinewidth": 0,
              "ticks": ""
             }
            },
            "type": "scatter3d"
           }
          ],
          "scattercarpet": [
           {
            "marker": {
             "colorbar": {
              "outlinewidth": 0,
              "ticks": ""
             }
            },
            "type": "scattercarpet"
           }
          ],
          "scattergeo": [
           {
            "marker": {
             "colorbar": {
              "outlinewidth": 0,
              "ticks": ""
             }
            },
            "type": "scattergeo"
           }
          ],
          "scattergl": [
           {
            "marker": {
             "colorbar": {
              "outlinewidth": 0,
              "ticks": ""
             }
            },
            "type": "scattergl"
           }
          ],
          "scattermapbox": [
           {
            "marker": {
             "colorbar": {
              "outlinewidth": 0,
              "ticks": ""
             }
            },
            "type": "scattermapbox"
           }
          ],
          "scattermap": [
           {
            "marker": {
             "colorbar": {
              "outlinewidth": 0,
              "ticks": ""
             }
            },
            "type": "scattermap"
           }
          ],
          "scatterpolargl": [
           {
            "marker": {
             "colorbar": {
              "outlinewidth": 0,
              "ticks": ""
             }
            },
            "type": "scatterpolargl"
           }
          ],
          "scatterpolar": [
           {
            "marker": {
             "colorbar": {
              "outlinewidth": 0,
              "ticks": ""
             }
            },
            "type": "scatterpolar"
           }
          ],
          "scatter": [
           {
            "fillpattern": {
             "fillmode": "overlay",
             "size": 10,
             "solidity": 0.2
            },
            "type": "scatter"
           }
          ],
          "scatterternary": [
           {
            "marker": {
             "colorbar": {
              "outlinewidth": 0,
              "ticks": ""
             }
            },
            "type": "scatterternary"
           }
          ],
          "surface": [
           {
            "colorbar": {
             "outlinewidth": 0,
             "ticks": ""
            },
            "colorscale": [
             [
              0.0,
              "#0d0887"
             ],
             [
              0.1111111111111111,
              "#46039f"
             ],
             [
              0.2222222222222222,
              "#7201a8"
             ],
             [
              0.3333333333333333,
              "#9c179e"
             ],
             [
              0.4444444444444444,
              "#bd3786"
             ],
             [
              0.5555555555555556,
              "#d8576b"
             ],
             [
              0.6666666666666666,
              "#ed7953"
             ],
             [
              0.7777777777777778,
              "#fb9f3a"
             ],
             [
              0.8888888888888888,
              "#fdca26"
             ],
             [
              1.0,
              "#f0f921"
             ]
            ],
            "type": "surface"
           }
          ],
          "table": [
           {
            "cells": {
             "fill": {
              "color": "#EBF0F8"
             },
             "line": {
              "color": "white"
             }
            },
            "header": {
             "fill": {
              "color": "#C8D4E3"
             },
             "line": {
              "color": "white"
             }
            },
            "type": "table"
           }
          ]
         },
         "layout": {
          "annotationdefaults": {
           "arrowcolor": "#2a3f5f",
           "arrowhead": 0,
           "arrowwidth": 1
          },
          "autotypenumbers": "strict",
          "coloraxis": {
           "colorbar": {
            "outlinewidth": 0,
            "ticks": ""
           }
          },
          "colorscale": {
           "diverging": [
            [
             0,
             "#8e0152"
            ],
            [
             0.1,
             "#c51b7d"
            ],
            [
             0.2,
             "#de77ae"
            ],
            [
             0.3,
             "#f1b6da"
            ],
            [
             0.4,
             "#fde0ef"
            ],
            [
             0.5,
             "#f7f7f7"
            ],
            [
             0.6,
             "#e6f5d0"
            ],
            [
             0.7,
             "#b8e186"
            ],
            [
             0.8,
             "#7fbc41"
            ],
            [
             0.9,
             "#4d9221"
            ],
            [
             1,
             "#276419"
            ]
           ],
           "sequential": [
            [
             0.0,
             "#0d0887"
            ],
            [
             0.1111111111111111,
             "#46039f"
            ],
            [
             0.2222222222222222,
             "#7201a8"
            ],
            [
             0.3333333333333333,
             "#9c179e"
            ],
            [
             0.4444444444444444,
             "#bd3786"
            ],
            [
             0.5555555555555556,
             "#d8576b"
            ],
            [
             0.6666666666666666,
             "#ed7953"
            ],
            [
             0.7777777777777778,
             "#fb9f3a"
            ],
            [
             0.8888888888888888,
             "#fdca26"
            ],
            [
             1.0,
             "#f0f921"
            ]
           ],
           "sequentialminus": [
            [
             0.0,
             "#0d0887"
            ],
            [
             0.1111111111111111,
             "#46039f"
            ],
            [
             0.2222222222222222,
             "#7201a8"
            ],
            [
             0.3333333333333333,
             "#9c179e"
            ],
            [
             0.4444444444444444,
             "#bd3786"
            ],
            [
             0.5555555555555556,
             "#d8576b"
            ],
            [
             0.6666666666666666,
             "#ed7953"
            ],
            [
             0.7777777777777778,
             "#fb9f3a"
            ],
            [
             0.8888888888888888,
             "#fdca26"
            ],
            [
             1.0,
             "#f0f921"
            ]
           ]
          },
          "colorway": [
           "#636efa",
           "#EF553B",
           "#00cc96",
           "#ab63fa",
           "#FFA15A",
           "#19d3f3",
           "#FF6692",
           "#B6E880",
           "#FF97FF",
           "#FECB52"
          ],
          "font": {
           "color": "#2a3f5f"
          },
          "geo": {
           "bgcolor": "white",
           "lakecolor": "white",
           "landcolor": "white",
           "showlakes": true,
           "showland": true,
           "subunitcolor": "#C8D4E3"
          },
          "hoverlabel": {
           "align": "left"
          },
          "hovermode": "closest",
          "mapbox": {
           "style": "light"
          },
          "paper_bgcolor": "white",
          "plot_bgcolor": "white",
          "polar": {
           "angularaxis": {
            "gridcolor": "#EBF0F8",
            "linecolor": "#EBF0F8",
            "ticks": ""
           },
           "bgcolor": "white",
           "radialaxis": {
            "gridcolor": "#EBF0F8",
            "linecolor": "#EBF0F8",
            "ticks": ""
           }
          },
          "scene": {
           "xaxis": {
            "backgroundcolor": "white",
            "gridcolor": "#DFE8F3",
            "gridwidth": 2,
            "linecolor": "#EBF0F8",
            "showbackground": true,
            "ticks": "",
            "zerolinecolor": "#EBF0F8"
           },
           "yaxis": {
            "backgroundcolor": "white",
            "gridcolor": "#DFE8F3",
            "gridwidth": 2,
            "linecolor": "#EBF0F8",
            "showbackground": true,
            "ticks": "",
            "zerolinecolor": "#EBF0F8"
           },
           "zaxis": {
            "backgroundcolor": "white",
            "gridcolor": "#DFE8F3",
            "gridwidth": 2,
            "linecolor": "#EBF0F8",
            "showbackground": true,
            "ticks": "",
            "zerolinecolor": "#EBF0F8"
           }
          },
          "shapedefaults": {
           "line": {
            "color": "#2a3f5f"
           }
          },
          "ternary": {
           "aaxis": {
            "gridcolor": "#DFE8F3",
            "linecolor": "#A2B1C6",
            "ticks": ""
           },
           "baxis": {
            "gridcolor": "#DFE8F3",
            "linecolor": "#A2B1C6",
            "ticks": ""
           },
           "bgcolor": "white",
           "caxis": {
            "gridcolor": "#DFE8F3",
            "linecolor": "#A2B1C6",
            "ticks": ""
           }
          },
          "title": {
           "x": 0.05
          },
          "xaxis": {
           "automargin": true,
           "gridcolor": "#EBF0F8",
           "linecolor": "#EBF0F8",
           "ticks": "",
           "title": {
            "standoff": 15
           },
           "zerolinecolor": "#EBF0F8",
           "zerolinewidth": 2
          },
          "yaxis": {
           "automargin": true,
           "gridcolor": "#EBF0F8",
           "linecolor": "#EBF0F8",
           "ticks": "",
           "title": {
            "standoff": 15
           },
           "zerolinecolor": "#EBF0F8",
           "zerolinewidth": 2
          }
         }
        },
        "yaxis2": {
         "overlaying": "y",
         "side": "right",
         "showgrid": false,
         "title": {
          "text": "Volume"
         }
        },
        "xaxis": {
         "rangeslider": {
          "visible": false
         },
         "title": {
          "text": "Time"
         }
        },
        "title": {
         "text": "Best 12-Hour Fragment – LowVol_DownTrend"
        },
        "yaxis": {
         "title": {
          "text": "Price"
         }
        },
        "height": 600
       },
       "config": {
        "plotlyServerURL": "https://plot.ly"
       }
      }
     },
     "metadata": {},
     "output_type": "display_data"
    },
    {
     "data": {
      "application/vnd.plotly.v1+json": {
       "data": [
        {
         "close": {
          "dtype": "f8",
          "bdata": "j8L1KMDS+UCF61G4ktL5QB+F61Eg0vlAH4XrUSDS+UCF61G4ftL5QK5H4XrIz/lAH4XrUcjP+UAfhetRyM/5QHsUrkfx0PlAcT0K18/Q+UA9CtejyM/5QK5H4Xp8y/lApHA9Cu/J+UBSuB6F08j5QFK4HoWDyPlAPQrXo4zF+UDsUbgeXcf5QClcj8JhxflAFK5H4fK/+UCF61G4or/5QBSuR+G6wPlAuB6F62XA+UAfhetRLMD5QArXo3BVvvlAXI/C9cy8+UBcj8L1oLn5QI/C9ShAuvlACtejcBW5+UDhehSui7r5QAAAAADMvPlAAAAAAEC/+UAUrkfhEsH5QHE9Cte/v/lAZmZmZmq++UDhehSug8H5QD0K16M4wPlA7FG4HiXB+UBmZmZmUsD5QM3MzMw4wvlAMzMzM2vB+UCkcD0Ka8H5QM3MzMz0w/lAXI/C9fTD+UC4HoXrFcL5QEjhehQWwvlAexSuR/HA+UDNzMzMOML5QM3MzMzowflApHA9CofB+UBmZmZmgr/5QAAAAACgv/lAw/UoXMe++UBSuB6Fd775QGZmZmaCv/lACtejcBG/+UD2KFyPgr/5QK5H4XpEwflAhetRuIbB+UB7FK5H6cP5QHsUrkfpw/lAexSuR+nD+UB7FK5H6cP5QI/C9SiIxvlAuB6F61nI+UBcj8L1eMf5QOxRuB55x/lA7FG4HnnH+UAK16Nwpcf5QArXo3Clx/lAhetRuA7M+UCF61G4Dsz5QNejcD0SzflA16NwPRLN+UDXo3A9Es35QFyPwvUczvlAmpmZmbHM+UD2KFyPxs75QLgehevhzflAZmZmZsbO+UCuR+F6XM35QAAAAAAozPlAPQrXo8jM+UC4HoXr3cr5QArXo3DByflAexSuR3XJ+UAAAAAAqMz5QI/C9SiwzvlA4XoUrl/P+UBmZmZmws/5QBSuR+FW0/lAj8L1KLjP+UDXo3A99s35QI/C9ShAzvlAZmZmZj7P+UDhehSuy8/5QBSuR+Giz/lApHA9CqPP+UDsUbgecdD5QMP1KFwvzPlAcT0K1xvM+UAzMzMzC8v5QFK4HoUPzflAH4XrUazO+UDD9Shca8n5QKRwPQrHx/lAcT0K1x/L+UCuR+F6KMz5QD0K16NkyvlA4XoUrhvL+UD2KFyPcsr5QHE9Ctd/yvlAAAAAAIDK+UAK16NwLcb5QEjhehTaxvlAMzMzMz/H+UAAAAAAAMj5QAAAAADgy/lAXI/C9SzJ+UBmZmZmOsj5QI/C9SiAxvlAAAAAAMDB+UAzMzMzl775QPYoXI8uv/lAcT0K15+/+UDsUbge1b/5QFK4HoWbwPlA9ihcj07A+UDXo3A9pr75QLgehespvflA16NwPa66+UBxPQrX07r5QOxRuB5FuvlAKVyPwhW6+UDNzMzMBLv5QM3MzMwEu/lACtejcJm6+UAAAAAAALv5QHE9Ctf/uvlAcT0K13+7+UAK16Nw8bz5QAAAAADQu/lAj8L1KNC7+UBmZmZmXrz5QGZmZma6u/lAcT0K13u9+UAK16NwDb35QI/C9SjMvPlAj8L1KMy8+UCuR+F6eLz5QNejcD12u/lAUrgehV+3+UBxPQrXe6z5QHE9Ctf7rPlA9ihcj4K/+UC4HoXrfcD5QHsUrkclxvlAFK5H4TLG+UA9CtejYMT5QFyPwvXkxflAw/UoXOvA+UD2KFyPPsP5QK5H4XpcxvlAMzMzMyPH+UBxPQrXJ8n5QKRwPQovyPlAXI/C9YTI+UBmZmZmwsf5QDMzMzMnx/lAw/UoXNPG+UApXI/CAcn5QLgehevtyPlAXI/C9VjJ+UDD9ShcS8z5QM3MzMw4y/lA9ihcj47K+UAzMzMzi8r5QAAAAACAz/lAj8L1KBTR+UC4HoXrRdL5QPYoXI9G0vlAH4XrUdTQ+UAfhetR1ND5QBSuR+F+0vlAj8L1KADS+UAUrkfh1tD5QHE9CtfbzflAMzMzM6vM+UCuR+F6/Mr5QOF6FK6Dy/lAhetRuKrO+UCPwvUoGND5QDMzMzPXzflAFK5H4Q7P+UAAAAAAgM/5QJqZmZmF0PlA16NwPRLN+UBcj8L10M/5QNejcD3m0flAzczMzGzP+UAK16Nw+c35QJqZmZn5zflAzczMzAzO+UAfhetR/M35QAAAAABUzflASOF6FILJ+UAUrkfh4sj5QFK4HoVfyPlAexSuR/3G+UDsUbge/cb5QKRwPQojyvlAFK5H4Y7H+UAAAAAAsMf5QIXrUbiOxvlAcT0K1/fD+UBxPQrX98P5QEjhehRqxvlAUrgehTfG+UCamZmZ8cT5QI/C9SicxflA7FG4Hg3H+UC4HoXr9cj5QI/C9Si8zPlAuB6F63XN+UCPwvUouM75QHE9CtffzvlAKVyPwl3O+UCamZmZncv5QGZmZmZiyvlAPQrXo7TK+UCamZmZncv5QOF6FK4fzPlAH4XrUVDI+UD2KFyPxsj5QEjhehR+yflA16NwPX7J+UDXo3A9fsn5QFyPwvXIzPlAXI/C9cjM+UAAAAAAQM75QEjhehR6zflAKVyPwvHO+UCamZmZPdH5QD0K16ME1PlAPQrXoyDZ+UCamZmZbdf5QBSuR+Fy1vlAj8L1KBDX+UBI4XoUWtn5QFK4HoWT2PlAj8L1KADX+UDsUbge8dj5QFK4HoXb2flA4XoUrv/b+UAzMzMzS9v5QD0K16MI2vlAw/UoXNPZ+UBcj8L1NNr5QClcj8Kh2vlAj8L1KPja+UCamZmZqdz5QHE9Ctdb3vlAhetRuPbe+UAAAAAAhN/5QGZmZmaq4PlAAAAAAJDe+UBxPQrX/+D5QPYoXI9K5flAj8L1KDDl+UDD9ShcF+X5QI/C9ShU4/lA4XoUrp/i+UCuR+F69OL5QAAAAABs4/lAzczMzMzh+UAAAAAA0OP5QAAAAAAU5PlACtejcDHo+UBxPQrX/+j5QIXrUbjm6vlAZmZmZirm+UBI4XoUpub5QAAAAACg5/lAAAAAAODm+UDsUbge3ej5QFyPwvWE6PlAw/UoXEPo+UC4HoXrEej5QPYoXI+y6PlAw/UoXGPn+UCPwvUovOb5QNejcD1W5/lAAAAAAOjq+UDsUbgeGez5QFK4HoU/7PlA9ihcj1bu+UCPwvUoHOv5QFyPwvXI6flArkfheqjr+UCuR+F6qOv5QArXo3DV6/lACtejcO3p+UC4HoXr4ev5QAAAAACA7flAAAAAAEju+UCPwvUonOv5QIXrUbgC6vlAcT0K1yfs+UB7FK5HZez5QArXo3Bl7PlAexSuR83r+UDNzMzMrOv5QM3MzMys6/lACtejcCXs+UAzMzMzK+35QAAAAAA87flAj8L1KHjt+UCPwvUo6O75QFyPwvXA7PlA9ihcj7Lr+UAK16NwJez5QFyPwvWM7PlAj8L1KEDs+UCamZmZJez5QBSuR+Fy7PlAXI/C9Qzt+UCPwvUogOr5QK5H4XoE7PlAKVyPwnXu+UApXI/Cue75QPYoXI9y6/lACtejcG3q+UAAAAAA2Oz5QM3MzMyY6flAcT0K1//q+UAzMzMzr+v5QHE9CteX6vlAAAAAAIDt+UAUrkfhDu/5QBSuR+Gq7PlAFK5H4WLt+UCkcD0KY+35QBSuR+Fi7flAcT0K1x/v+UDhehSuH+/5QNejcD0G7flAj8L1KLDq+UAAAAAA6Or5QHE9Ctfn6vlAAAAAAOjq+UDhehSu8+v5QJqZmZlp7PlAexSuRw3t+UDhehSuH+/5QOF6FK4f7/lAuB6F6zHw+UC4HoXrMfD5QLgehesx8PlAMzMzM3Px+UAzMzMzc/H5QDMzMzNz8flApHA9CnPx+UBcj8L12O75QHE9CtfP8flAcT0K1/fw+UAAAAAAQPT5QJqZmZmJ9PlArkfhejT1+UAUrkfhAvX5QAAAAABA9vlA16NwPQb4+UDXo3A9Bvj5QPYoXI+u9/lAFK5H4Qb4+UApXI/C7fj5QB+F61GY9vlAj8L1KJj2+UBmZmZmZvX5QJqZmZl99vlAKVyPwkX1+UDsUbgeJfb5QOxRuB4l9vlA7FG4HiX2+UBxPQrXE/b5QAAAAABg9PlAcT0K1//0+UBxPQrX//T5QOxRuB5h9PlA7FG4HmH0+UDsUbgeYfT5QKRwPQqPAvpACtejcOEB+kCPwvUomAL6QM3MzMzoAfpAMzMzM1v/+UAfhetRLAL6QDMzMzMrAvpAzczMzIAC+kDhehSuSwL6QI/C9ShAAPpA4XoUrkcB+kAAAAAAQAD6QFyPwvXI//lAAAAAAOj/+UAzMzMzZ/35QHE9Cte//flAAAAAAMD9+UAzMzMza/75QDMzMzNr/vlAcT0K138B+kAAAAAAgAH6QKRwPQpHAfpAMzMzM0cB+kCPwvUogAH6QAAAAABs//lAAAAAAKAB+kAAAAAAUAL6QAAAAAA0B/pASOF6FBoF+kBI4XoUGgX6QArXo3CNB/pAAAAAAHAH+kBxPQrXbwj6QIXrUbieB/pAFK5H4Z4H+kDsUbgeJQf6QOxRuB4xBvpAH4XrUQAG+kDsUbgeOQj6QOxRuB45CPpAAAAAAEAI+kBcj8L1bAb6QDMzMzNrBvpAcT0K178H+kB7FK5H7Qj6QDMzMzNTCfpA16NwPZ4J+kAAAAAAQAr6QJqZmZklC/pAj8L1KNAK+kAzMzMzOwz6QClcj8LhDvpAMzMzM4sR+kCPwvUoyBL6QIXrUbhCEPpAPQrXo+AQ+kCamZmZJRL6QJqZmZmNDvpAw/UoXL8O+kB7FK5H2Q/6QK5H4XocEPpA4XoUrusS+kB7FK5HgRL6QLgehesNFPpApHA9CiMT+kAzMzMzaxP6QArXo3DhE/pApHA9CucQ+kCkcD0KDxH6QNejcD3qD/pAw/UoXJMQ+kDXo3A9zg36QJqZmZkJDfpA9ihcj5YN+kDD9ShcAw/6QLgeheuBFPpAAAAAAMAS+kDsUbgetRT6QPYoXI+SFfpAUrgehYMW+kCamZmZlRf6QGZmZmYOGPpAmpmZmSkb+kDNzMzMxBv6QAAAAACgGvpA7FG4Hpkb+kAzMzMztxz6QPYoXI9KHvpAj8L1KDAd+kCF61G4Jhv6QM3MzMx4F/pAexSuR9EY+kAUrkfhAhv6QKRwPQrLHPpAAAAAADAd+kAUrkfhNh/6QDMzMzPfHvpAAAAAAIAf+kBSuB6Fwx36QEjhehT+HPpAcT0K18cd+kA9CtejPB/6QAAAAACAH/pAhetRuCog+kBI4XoUZiD6QPYoXI/CHfpArkfheiAd+kC4HoXrWR36QOF6FK6TH/pAXI/C9cQe+kCPwvUoOB/6QLgehetRHfpAuB6F67kb+kCPwvUoeBz6QB+F61HYHfpAw/UoXD8f+kCPwvUoBB36QGZmZmb+G/pA7FG4Hu0b+kCF61G4ohr6QGZmZmYWG/pAzczMzEwa+kCamZmZCRj6QDMzMzNTGPpAexSuR00W+kCPwvUomBf6QEjhehRyFvpAZmZmZtoW+kDNzMzMmBf6QAAAAACQGfpAAAAAAJAZ+kBxPQrXqxj6QBSuR+FqGfpAuB6F650Y+kCamZmZ+Rf6QJqZmZn5F/pAZmZmZooY+kDD9ShcWxn6QFK4HoVbGfpAzczMzPAZ+kAfhetRdB/6QKRwPQqXJfpAcT0K1x8n+kDXo3A9/iX6QMP1KFyTJvpAAAAAABQp+kAK16NwJST6QArXo3AlJPpAUrgehXsj+kB7FK5HKSX6QClcj8IlJPpAPQrXo8Ql+kAAAAAAcCb6QB+F61G0J/pAcT0K12cn+kApXI/CoSb6QGZmZmaeJvpAhetRuO4n+kD2KFyP7if6QLgehestKvpAMzMzM/sn+kCkcD0Kmyj6QAAAAABIJ/pA4XoUrjMn+kAAAAAAgCT6QHE9CtevMPpACtejcFU0+kCkcD0KQzT6QK5H4XogOPpAAAAAAPg4+kC4HoXr2Tj6QK5H4Xq4NvpAcT0K1z83+kBI4XoUyjb6QJqZmZmJNvpAzczMzFw4+kBxPQrXfzj6QAAAAACwNfpACtejcNk2+kB7FK5H2Tb6QArXo3DZOPpAMzMzM3s3+kCkcD0Kuzv6QD0K16N0PvpAzczMzBw/+kBxPQrX/0T6QFK4HoVbR/pAAAAAADRI+kDD9Shcs0b6QK5H4XqkRvpAAAAAAABF+kBSuB6FG0b6QJqZmZllRPpAFK5H4UpJ+kDXo3A97kb6QI/C9SiATPpAj8L1KOhJ+kCPwvUoYEb6QFyPwvX0RfpAKVyPwn1D+kBxPQrX30b6QKRwPQojSPpAAAAAAEBL+kBcj8L1rEr6QAAAAACQSvpAj8L1KGhK+kC4HoXrGUr6QMP1KFzLSfpAAAAAAKBK+kDD9Shc10j6QMP1KFzXSPpArkfheuxI+kD2KFyP3j/6QI/C9ShMP/pAcT0K1888+kB7FK5HhUL6QFyPwvV0RfpAFK5H4RZJ+kCkcD0KL0r6QJqZmZnVSfpAXI/C9dhM+kDNzMzM2Ez6QD0K16O0TfpAcT0K1w9N+kBxPQrXD036QIXrUbiiT/pAH4XrUYRN+kB7FK5HJUz6QLgehethSfpAcT0K159K+kDXo3A9okv6QAAAAAAASvpAXI/C9cxJ+kApXI/CwUn6QK5H4XqQSPpAKVyPwkFH+kCamZmZQUf6QFyPwvWYR/pAMzMzM7NF+kDXo3A9lkX6QPYoXI9aRfpAXI/C9dxE+kDNzMzM3ET6QDMzMzOzRfpAUrgehd9C+kAUrkfhZkT6QClcj8K1SfpAKVyPwmFK+kA9CtejuEr6QClcj8KVR/pAcT0K1yNI+kBxPQrXI0j6QAAAAADAQ/pArkfhelRD+kCamZmZAUH6QHE9Cte/Q/pA16NwPfpG+kD2KFyP/kX6QK5H4XqcRPpAPQrXo+hD+kC4HoXruUX6QAAAAAB4QvpAhetRuIJC+kApXI/CeUL6QAAAAADMQPpACtejcOVC+kB7FK5H5UL6QArXo3DFQ/pAAAAAAMxG+kDhehSur0f6QHE9CtdbSPpAUrgehVtJ+kDsUbgeJUj6QLgehesFSvpAj8L1KMBI+kBSuB6FF0n6QIXrUbhGSPpAw/UoXB9H+kDD9ShcH0f6QFK4HoUfR/pAhetRuLZH+kApXI/CIUf6QLgeheshR/pASOF6FH5G+kD2KFyPQkf6QAAAAAAgSPpAAAAAACBI+kBxPQrXH0j6QArXo3BZR/pAcT0K1x9I+kBxPQrXH0j6QJqZmZl1SPpAzczMzGBG+kA9CtejYEb6QAAAAABAS/pAcT0K1z9L+kBxPQrXQ0v6QAAAAABQS/pAXI/C9aBK+kCkcD0Kv0n6QBSuR+G+SfpArkfhelBK+kDhehSuV0z6QHE9Ctf/TPpAcT0K119O+kBxPQrXX076QJqZmZkxT/pAmpmZmTFP+kCamZmZMU/6QAAAAADwTvpAKVyPwjFP+kCamZmZMU/6QNejcD0SUPpA7FG4HlVP+kDXo3A9Gk76QPYoXI/mTvpAUrgehfdQ+kCuR+F6BE/6QNejcD2uT/pAZmZmZq5P+kBxPQrX31D6QMP1KFwbUPpA7FG4HrlO+kD2KFyPGk76QGZmZmYaTvpAMzMzM89P+kAAAAAAQFD6QAAAAABAUPpAAAAAAEBQ+kAK16NwYVH6QArXo3BhUfpA"
         },
         "decreasing": {
          "line": {
           "color": "red"
          }
         },
         "high": {
          "dtype": "f8",
          "bdata": "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"
         },
         "increasing": {
          "line": {
           "color": "lime"
          }
         },
         "low": {
          "dtype": "f8",
          "bdata": "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"
         },
         "name": "Price",
         "open": {
          "dtype": "f8",
          "bdata": "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"
         },
         "x": [
          "2025-07-01T22:46:00+00:00",
          "2025-07-01T22:47:00+00:00",
          "2025-07-01T22:48:00+00:00",
          "2025-07-01T22:49:00+00:00",
          "2025-07-01T22:50:00+00:00",
          "2025-07-01T22:51:00+00:00",
          "2025-07-01T22:52:00+00:00",
          "2025-07-01T22:53:00+00:00",
          "2025-07-01T22:54:00+00:00",
          "2025-07-01T22:55:00+00:00",
          "2025-07-01T22:56:00+00:00",
          "2025-07-01T22:57:00+00:00",
          "2025-07-01T22:58:00+00:00",
          "2025-07-01T22:59:00+00:00",
          "2025-07-01T23:00:00+00:00",
          "2025-07-01T23:01:00+00:00",
          "2025-07-01T23:02:00+00:00",
          "2025-07-01T23:03:00+00:00",
          "2025-07-01T23:04:00+00:00",
          "2025-07-01T23:05:00+00:00",
          "2025-07-01T23:06:00+00:00",
          "2025-07-01T23:07:00+00:00",
          "2025-07-01T23:08:00+00:00",
          "2025-07-01T23:09:00+00:00",
          "2025-07-01T23:10:00+00:00",
          "2025-07-01T23:11:00+00:00",
          "2025-07-01T23:12:00+00:00",
          "2025-07-01T23:13:00+00:00",
          "2025-07-01T23:14:00+00:00",
          "2025-07-01T23:15:00+00:00",
          "2025-07-01T23:16:00+00:00",
          "2025-07-01T23:17:00+00:00",
          "2025-07-01T23:18:00+00:00",
          "2025-07-01T23:19:00+00:00",
          "2025-07-01T23:20:00+00:00",
          "2025-07-01T23:21:00+00:00",
          "2025-07-01T23:22:00+00:00",
          "2025-07-01T23:23:00+00:00",
          "2025-07-01T23:24:00+00:00",
          "2025-07-01T23:25:00+00:00",
          "2025-07-01T23:26:00+00:00",
          "2025-07-01T23:27:00+00:00",
          "2025-07-01T23:28:00+00:00",
          "2025-07-01T23:29:00+00:00",
          "2025-07-01T23:30:00+00:00",
          "2025-07-01T23:31:00+00:00",
          "2025-07-01T23:32:00+00:00",
          "2025-07-01T23:33:00+00:00",
          "2025-07-01T23:34:00+00:00",
          "2025-07-01T23:35:00+00:00",
          "2025-07-01T23:36:00+00:00",
          "2025-07-01T23:37:00+00:00",
          "2025-07-01T23:38:00+00:00",
          "2025-07-01T23:39:00+00:00",
          "2025-07-01T23:40:00+00:00",
          "2025-07-01T23:41:00+00:00",
          "2025-07-01T23:42:00+00:00",
          "2025-07-01T23:43:00+00:00",
          "2025-07-01T23:44:00+00:00",
          "2025-07-01T23:45:00+00:00",
          "2025-07-01T23:46:00+00:00",
          "2025-07-01T23:47:00+00:00",
          "2025-07-01T23:48:00+00:00",
          "2025-07-01T23:49:00+00:00",
          "2025-07-01T23:50:00+00:00",
          "2025-07-01T23:51:00+00:00",
          "2025-07-01T23:52:00+00:00",
          "2025-07-01T23:53:00+00:00",
          "2025-07-01T23:54:00+00:00",
          "2025-07-01T23:55:00+00:00",
          "2025-07-01T23:56:00+00:00",
          "2025-07-01T23:57:00+00:00",
          "2025-07-01T23:58:00+00:00",
          "2025-07-01T23:59:00+00:00",
          "2025-07-02T00:00:00+00:00",
          "2025-07-02T00:01:00+00:00",
          "2025-07-02T00:02:00+00:00",
          "2025-07-02T00:03:00+00:00",
          "2025-07-02T00:04:00+00:00",
          "2025-07-02T00:05:00+00:00",
          "2025-07-02T00:06:00+00:00",
          "2025-07-02T00:07:00+00:00",
          "2025-07-02T00:08:00+00:00",
          "2025-07-02T00:09:00+00:00",
          "2025-07-02T00:10:00+00:00",
          "2025-07-02T00:11:00+00:00",
          "2025-07-02T00:12:00+00:00",
          "2025-07-02T00:13:00+00:00",
          "2025-07-02T00:14:00+00:00",
          "2025-07-02T00:15:00+00:00",
          "2025-07-02T00:16:00+00:00",
          "2025-07-02T00:17:00+00:00",
          "2025-07-02T00:18:00+00:00",
          "2025-07-02T00:19:00+00:00",
          "2025-07-02T00:20:00+00:00",
          "2025-07-02T00:21:00+00:00",
          "2025-07-02T00:22:00+00:00",
          "2025-07-02T00:23:00+00:00",
          "2025-07-02T00:24:00+00:00",
          "2025-07-02T00:25:00+00:00",
          "2025-07-02T00:26:00+00:00",
          "2025-07-02T00:27:00+00:00",
          "2025-07-02T00:28:00+00:00",
          "2025-07-02T00:29:00+00:00",
          "2025-07-02T00:30:00+00:00",
          "2025-07-02T00:31:00+00:00",
          "2025-07-02T00:32:00+00:00",
          "2025-07-02T00:33:00+00:00",
          "2025-07-02T00:34:00+00:00",
          "2025-07-02T00:35:00+00:00",
          "2025-07-02T00:36:00+00:00",
          "2025-07-02T00:37:00+00:00",
          "2025-07-02T00:38:00+00:00",
          "2025-07-02T00:39:00+00:00",
          "2025-07-02T00:40:00+00:00",
          "2025-07-02T00:41:00+00:00",
          "2025-07-02T00:42:00+00:00",
          "2025-07-02T00:43:00+00:00",
          "2025-07-02T00:44:00+00:00",
          "2025-07-02T00:45:00+00:00",
          "2025-07-02T00:46:00+00:00",
          "2025-07-02T00:47:00+00:00",
          "2025-07-02T00:48:00+00:00",
          "2025-07-02T00:49:00+00:00",
          "2025-07-02T00:50:00+00:00",
          "2025-07-02T00:51:00+00:00",
          "2025-07-02T00:52:00+00:00",
          "2025-07-02T00:53:00+00:00",
          "2025-07-02T00:54:00+00:00",
          "2025-07-02T00:55:00+00:00",
          "2025-07-02T00:56:00+00:00",
          "2025-07-02T00:57:00+00:00",
          "2025-07-02T00:58:00+00:00",
          "2025-07-02T00:59:00+00:00",
          "2025-07-02T01:00:00+00:00",
          "2025-07-02T01:01:00+00:00",
          "2025-07-02T01:02:00+00:00",
          "2025-07-02T01:03:00+00:00",
          "2025-07-02T01:04:00+00:00",
          "2025-07-02T01:05:00+00:00",
          "2025-07-02T01:06:00+00:00",
          "2025-07-02T01:07:00+00:00",
          "2025-07-02T01:08:00+00:00",
          "2025-07-02T01:09:00+00:00",
          "2025-07-02T01:10:00+00:00",
          "2025-07-02T01:11:00+00:00",
          "2025-07-02T01:12:00+00:00",
          "2025-07-02T01:13:00+00:00",
          "2025-07-02T01:14:00+00:00",
          "2025-07-02T01:15:00+00:00",
          "2025-07-02T01:16:00+00:00",
          "2025-07-02T01:17:00+00:00",
          "2025-07-02T01:18:00+00:00",
          "2025-07-02T01:19:00+00:00",
          "2025-07-02T01:20:00+00:00",
          "2025-07-02T01:21:00+00:00",
          "2025-07-02T01:22:00+00:00",
          "2025-07-02T01:23:00+00:00",
          "2025-07-02T01:24:00+00:00",
          "2025-07-02T01:25:00+00:00",
          "2025-07-02T01:26:00+00:00",
          "2025-07-02T01:27:00+00:00",
          "2025-07-02T01:28:00+00:00",
          "2025-07-02T01:29:00+00:00",
          "2025-07-02T01:30:00+00:00",
          "2025-07-02T01:31:00+00:00",
          "2025-07-02T01:32:00+00:00",
          "2025-07-02T01:33:00+00:00",
          "2025-07-02T01:34:00+00:00",
          "2025-07-02T01:35:00+00:00",
          "2025-07-02T01:36:00+00:00",
          "2025-07-02T01:37:00+00:00",
          "2025-07-02T01:38:00+00:00",
          "2025-07-02T01:39:00+00:00",
          "2025-07-02T01:40:00+00:00",
          "2025-07-02T01:41:00+00:00",
          "2025-07-02T01:42:00+00:00",
          "2025-07-02T01:43:00+00:00",
          "2025-07-02T01:44:00+00:00",
          "2025-07-02T01:45:00+00:00",
          "2025-07-02T01:46:00+00:00",
          "2025-07-02T01:47:00+00:00",
          "2025-07-02T01:48:00+00:00",
          "2025-07-02T01:49:00+00:00",
          "2025-07-02T01:50:00+00:00",
          "2025-07-02T01:51:00+00:00",
          "2025-07-02T01:52:00+00:00",
          "2025-07-02T01:53:00+00:00",
          "2025-07-02T01:54:00+00:00",
          "2025-07-02T01:55:00+00:00",
          "2025-07-02T01:56:00+00:00",
          "2025-07-02T01:57:00+00:00",
          "2025-07-02T01:58:00+00:00",
          "2025-07-02T01:59:00+00:00",
          "2025-07-02T02:00:00+00:00",
          "2025-07-02T02:01:00+00:00",
          "2025-07-02T02:02:00+00:00",
          "2025-07-02T02:03:00+00:00",
          "2025-07-02T02:04:00+00:00",
          "2025-07-02T02:05:00+00:00",
          "2025-07-02T02:06:00+00:00",
          "2025-07-02T02:07:00+00:00",
          "2025-07-02T02:08:00+00:00",
          "2025-07-02T02:09:00+00:00",
          "2025-07-02T02:10:00+00:00",
          "2025-07-02T02:11:00+00:00",
          "2025-07-02T02:12:00+00:00",
          "2025-07-02T02:13:00+00:00",
          "2025-07-02T02:14:00+00:00",
          "2025-07-02T02:15:00+00:00",
          "2025-07-02T02:16:00+00:00",
          "2025-07-02T02:17:00+00:00",
          "2025-07-02T02:18:00+00:00",
          "2025-07-02T02:19:00+00:00",
          "2025-07-02T02:20:00+00:00",
          "2025-07-02T02:21:00+00:00",
          "2025-07-02T02:22:00+00:00",
          "2025-07-02T02:23:00+00:00",
          "2025-07-02T02:24:00+00:00",
          "2025-07-02T02:25:00+00:00",
          "2025-07-02T02:26:00+00:00",
          "2025-07-02T02:27:00+00:00",
          "2025-07-02T02:28:00+00:00",
          "2025-07-02T02:29:00+00:00",
          "2025-07-02T02:30:00+00:00",
          "2025-07-02T02:31:00+00:00",
          "2025-07-02T02:32:00+00:00",
          "2025-07-02T02:33:00+00:00",
          "2025-07-02T02:34:00+00:00",
          "2025-07-02T02:35:00+00:00",
          "2025-07-02T02:36:00+00:00",
          "2025-07-02T02:37:00+00:00",
          "2025-07-02T02:38:00+00:00",
          "2025-07-02T02:39:00+00:00",
          "2025-07-02T02:40:00+00:00",
          "2025-07-02T02:41:00+00:00",
          "2025-07-02T02:42:00+00:00",
          "2025-07-02T02:43:00+00:00",
          "2025-07-02T02:44:00+00:00",
          "2025-07-02T02:45:00+00:00",
          "2025-07-02T02:46:00+00:00",
          "2025-07-02T02:47:00+00:00",
          "2025-07-02T02:48:00+00:00",
          "2025-07-02T02:49:00+00:00",
          "2025-07-02T02:50:00+00:00",
          "2025-07-02T02:51:00+00:00",
          "2025-07-02T02:52:00+00:00",
          "2025-07-02T02:53:00+00:00",
          "2025-07-02T02:54:00+00:00",
          "2025-07-02T02:55:00+00:00",
          "2025-07-02T02:56:00+00:00",
          "2025-07-02T02:57:00+00:00",
          "2025-07-02T02:58:00+00:00",
          "2025-07-02T02:59:00+00:00",
          "2025-07-02T03:00:00+00:00",
          "2025-07-02T03:01:00+00:00",
          "2025-07-02T03:02:00+00:00",
          "2025-07-02T03:03:00+00:00",
          "2025-07-02T03:04:00+00:00",
          "2025-07-02T03:05:00+00:00",
          "2025-07-02T03:06:00+00:00",
          "2025-07-02T03:07:00+00:00",
          "2025-07-02T03:08:00+00:00",
          "2025-07-02T03:09:00+00:00",
          "2025-07-02T03:10:00+00:00",
          "2025-07-02T03:11:00+00:00",
          "2025-07-02T03:12:00+00:00",
          "2025-07-02T03:13:00+00:00",
          "2025-07-02T03:14:00+00:00",
          "2025-07-02T03:15:00+00:00",
          "2025-07-02T03:16:00+00:00",
          "2025-07-02T03:17:00+00:00",
          "2025-07-02T03:18:00+00:00",
          "2025-07-02T03:19:00+00:00",
          "2025-07-02T03:20:00+00:00",
          "2025-07-02T03:21:00+00:00",
          "2025-07-02T03:22:00+00:00",
          "2025-07-02T03:23:00+00:00",
          "2025-07-02T03:24:00+00:00",
          "2025-07-02T03:25:00+00:00",
          "2025-07-02T03:26:00+00:00",
          "2025-07-02T03:27:00+00:00",
          "2025-07-02T03:28:00+00:00",
          "2025-07-02T03:29:00+00:00",
          "2025-07-02T03:30:00+00:00",
          "2025-07-02T03:31:00+00:00",
          "2025-07-02T03:32:00+00:00",
          "2025-07-02T03:33:00+00:00",
          "2025-07-02T03:34:00+00:00",
          "2025-07-02T03:35:00+00:00",
          "2025-07-02T03:36:00+00:00",
          "2025-07-02T03:37:00+00:00",
          "2025-07-02T03:38:00+00:00",
          "2025-07-02T03:39:00+00:00",
          "2025-07-02T03:40:00+00:00",
          "2025-07-02T03:41:00+00:00",
          "2025-07-02T03:42:00+00:00",
          "2025-07-02T03:43:00+00:00",
          "2025-07-02T03:44:00+00:00",
          "2025-07-02T03:45:00+00:00",
          "2025-07-02T03:46:00+00:00",
          "2025-07-02T03:47:00+00:00",
          "2025-07-02T03:48:00+00:00",
          "2025-07-02T03:49:00+00:00",
          "2025-07-02T03:50:00+00:00",
          "2025-07-02T03:51:00+00:00",
          "2025-07-02T03:52:00+00:00",
          "2025-07-02T03:53:00+00:00",
          "2025-07-02T03:54:00+00:00",
          "2025-07-02T03:55:00+00:00",
          "2025-07-02T03:56:00+00:00",
          "2025-07-02T03:57:00+00:00",
          "2025-07-02T03:58:00+00:00",
          "2025-07-02T03:59:00+00:00",
          "2025-07-02T04:00:00+00:00",
          "2025-07-02T04:01:00+00:00",
          "2025-07-02T04:02:00+00:00",
          "2025-07-02T04:03:00+00:00",
          "2025-07-02T04:04:00+00:00",
          "2025-07-02T04:05:00+00:00",
          "2025-07-02T04:06:00+00:00",
          "2025-07-02T04:07:00+00:00",
          "2025-07-02T04:08:00+00:00",
          "2025-07-02T04:09:00+00:00",
          "2025-07-02T04:10:00+00:00",
          "2025-07-02T04:11:00+00:00",
          "2025-07-02T04:12:00+00:00",
          "2025-07-02T04:13:00+00:00",
          "2025-07-02T04:14:00+00:00",
          "2025-07-02T04:15:00+00:00",
          "2025-07-02T04:16:00+00:00",
          "2025-07-02T04:17:00+00:00",
          "2025-07-02T04:18:00+00:00",
          "2025-07-02T04:19:00+00:00",
          "2025-07-02T04:20:00+00:00",
          "2025-07-02T04:21:00+00:00",
          "2025-07-02T04:22:00+00:00",
          "2025-07-02T04:23:00+00:00",
          "2025-07-02T04:24:00+00:00",
          "2025-07-02T04:25:00+00:00",
          "2025-07-02T04:26:00+00:00",
          "2025-07-02T04:27:00+00:00",
          "2025-07-02T04:28:00+00:00",
          "2025-07-02T04:29:00+00:00",
          "2025-07-02T04:30:00+00:00",
          "2025-07-02T04:31:00+00:00",
          "2025-07-02T04:32:00+00:00",
          "2025-07-02T04:33:00+00:00",
          "2025-07-02T04:34:00+00:00",
          "2025-07-02T04:35:00+00:00",
          "2025-07-02T04:36:00+00:00",
          "2025-07-02T04:37:00+00:00",
          "2025-07-02T04:38:00+00:00",
          "2025-07-02T04:39:00+00:00",
          "2025-07-02T04:40:00+00:00",
          "2025-07-02T04:41:00+00:00",
          "2025-07-02T04:42:00+00:00",
          "2025-07-02T04:43:00+00:00",
          "2025-07-02T04:44:00+00:00",
          "2025-07-02T04:45:00+00:00",
          "2025-07-02T04:46:00+00:00",
          "2025-07-02T04:47:00+00:00",
          "2025-07-02T04:48:00+00:00",
          "2025-07-02T04:49:00+00:00",
          "2025-07-02T04:50:00+00:00",
          "2025-07-02T04:51:00+00:00",
          "2025-07-02T04:52:00+00:00",
          "2025-07-02T04:53:00+00:00",
          "2025-07-02T04:54:00+00:00",
          "2025-07-02T04:55:00+00:00",
          "2025-07-02T04:56:00+00:00",
          "2025-07-02T04:57:00+00:00",
          "2025-07-02T04:58:00+00:00",
          "2025-07-02T04:59:00+00:00",
          "2025-07-02T05:00:00+00:00",
          "2025-07-02T05:01:00+00:00",
          "2025-07-02T05:02:00+00:00",
          "2025-07-02T05:03:00+00:00",
          "2025-07-02T05:04:00+00:00",
          "2025-07-02T05:05:00+00:00",
          "2025-07-02T05:06:00+00:00",
          "2025-07-02T05:07:00+00:00",
          "2025-07-02T05:08:00+00:00",
          "2025-07-02T05:09:00+00:00",
          "2025-07-02T05:10:00+00:00",
          "2025-07-02T05:11:00+00:00",
          "2025-07-02T05:12:00+00:00",
          "2025-07-02T05:13:00+00:00",
          "2025-07-02T05:14:00+00:00",
          "2025-07-02T05:15:00+00:00",
          "2025-07-02T05:16:00+00:00",
          "2025-07-02T05:17:00+00:00",
          "2025-07-02T05:18:00+00:00",
          "2025-07-02T05:19:00+00:00",
          "2025-07-02T05:20:00+00:00",
          "2025-07-02T05:21:00+00:00",
          "2025-07-02T05:22:00+00:00",
          "2025-07-02T05:23:00+00:00",
          "2025-07-02T05:24:00+00:00",
          "2025-07-02T05:25:00+00:00",
          "2025-07-02T05:26:00+00:00",
          "2025-07-02T05:27:00+00:00",
          "2025-07-02T05:28:00+00:00",
          "2025-07-02T05:29:00+00:00",
          "2025-07-02T05:30:00+00:00",
          "2025-07-02T05:31:00+00:00",
          "2025-07-02T05:32:00+00:00",
          "2025-07-02T05:33:00+00:00",
          "2025-07-02T05:34:00+00:00",
          "2025-07-02T05:35:00+00:00",
          "2025-07-02T05:36:00+00:00",
          "2025-07-02T05:37:00+00:00",
          "2025-07-02T05:38:00+00:00",
          "2025-07-02T05:39:00+00:00",
          "2025-07-02T05:40:00+00:00",
          "2025-07-02T05:41:00+00:00",
          "2025-07-02T05:42:00+00:00",
          "2025-07-02T05:43:00+00:00",
          "2025-07-02T05:44:00+00:00",
          "2025-07-02T05:45:00+00:00",
          "2025-07-02T05:46:00+00:00",
          "2025-07-02T05:47:00+00:00",
          "2025-07-02T05:48:00+00:00",
          "2025-07-02T05:49:00+00:00",
          "2025-07-02T05:50:00+00:00",
          "2025-07-02T05:51:00+00:00",
          "2025-07-02T05:52:00+00:00",
          "2025-07-02T05:53:00+00:00",
          "2025-07-02T05:54:00+00:00",
          "2025-07-02T05:55:00+00:00",
          "2025-07-02T05:56:00+00:00",
          "2025-07-02T05:57:00+00:00",
          "2025-07-02T05:58:00+00:00",
          "2025-07-02T05:59:00+00:00",
          "2025-07-02T06:00:00+00:00",
          "2025-07-02T06:01:00+00:00",
          "2025-07-02T06:02:00+00:00",
          "2025-07-02T06:03:00+00:00",
          "2025-07-02T06:04:00+00:00",
          "2025-07-02T06:05:00+00:00",
          "2025-07-02T06:06:00+00:00",
          "2025-07-02T06:07:00+00:00",
          "2025-07-02T06:08:00+00:00",
          "2025-07-02T06:09:00+00:00",
          "2025-07-02T06:10:00+00:00",
          "2025-07-02T06:11:00+00:00",
          "2025-07-02T06:12:00+00:00",
          "2025-07-02T06:13:00+00:00",
          "2025-07-02T06:14:00+00:00",
          "2025-07-02T06:15:00+00:00",
          "2025-07-02T06:16:00+00:00",
          "2025-07-02T06:17:00+00:00",
          "2025-07-02T06:18:00+00:00",
          "2025-07-02T06:19:00+00:00",
          "2025-07-02T06:20:00+00:00",
          "2025-07-02T06:21:00+00:00",
          "2025-07-02T06:22:00+00:00",
          "2025-07-02T06:23:00+00:00",
          "2025-07-02T06:24:00+00:00",
          "2025-07-02T06:25:00+00:00",
          "2025-07-02T06:26:00+00:00",
          "2025-07-02T06:27:00+00:00",
          "2025-07-02T06:28:00+00:00",
          "2025-07-02T06:29:00+00:00",
          "2025-07-02T06:30:00+00:00",
          "2025-07-02T06:31:00+00:00",
          "2025-07-02T06:32:00+00:00",
          "2025-07-02T06:33:00+00:00",
          "2025-07-02T06:34:00+00:00",
          "2025-07-02T06:35:00+00:00",
          "2025-07-02T06:36:00+00:00",
          "2025-07-02T06:37:00+00:00",
          "2025-07-02T06:38:00+00:00",
          "2025-07-02T06:39:00+00:00",
          "2025-07-02T06:40:00+00:00",
          "2025-07-02T06:41:00+00:00",
          "2025-07-02T06:42:00+00:00",
          "2025-07-02T06:43:00+00:00",
          "2025-07-02T06:44:00+00:00",
          "2025-07-02T06:45:00+00:00",
          "2025-07-02T06:46:00+00:00",
          "2025-07-02T06:47:00+00:00",
          "2025-07-02T06:48:00+00:00",
          "2025-07-02T06:49:00+00:00",
          "2025-07-02T06:50:00+00:00",
          "2025-07-02T06:51:00+00:00",
          "2025-07-02T06:52:00+00:00",
          "2025-07-02T06:53:00+00:00",
          "2025-07-02T06:54:00+00:00",
          "2025-07-02T06:55:00+00:00",
          "2025-07-02T06:56:00+00:00",
          "2025-07-02T06:57:00+00:00",
          "2025-07-02T06:58:00+00:00",
          "2025-07-02T06:59:00+00:00",
          "2025-07-02T07:00:00+00:00",
          "2025-07-02T07:01:00+00:00",
          "2025-07-02T07:02:00+00:00",
          "2025-07-02T07:03:00+00:00",
          "2025-07-02T07:04:00+00:00",
          "2025-07-02T07:05:00+00:00",
          "2025-07-02T07:06:00+00:00",
          "2025-07-02T07:07:00+00:00",
          "2025-07-02T07:08:00+00:00",
          "2025-07-02T07:09:00+00:00",
          "2025-07-02T07:10:00+00:00",
          "2025-07-02T07:11:00+00:00",
          "2025-07-02T07:12:00+00:00",
          "2025-07-02T07:13:00+00:00",
          "2025-07-02T07:14:00+00:00",
          "2025-07-02T07:15:00+00:00",
          "2025-07-02T07:16:00+00:00",
          "2025-07-02T07:17:00+00:00",
          "2025-07-02T07:18:00+00:00",
          "2025-07-02T07:19:00+00:00",
          "2025-07-02T07:20:00+00:00",
          "2025-07-02T07:21:00+00:00",
          "2025-07-02T07:22:00+00:00",
          "2025-07-02T07:23:00+00:00",
          "2025-07-02T07:24:00+00:00",
          "2025-07-02T07:25:00+00:00",
          "2025-07-02T07:26:00+00:00",
          "2025-07-02T07:27:00+00:00",
          "2025-07-02T07:28:00+00:00",
          "2025-07-02T07:29:00+00:00",
          "2025-07-02T07:30:00+00:00",
          "2025-07-02T07:31:00+00:00",
          "2025-07-02T07:32:00+00:00",
          "2025-07-02T07:33:00+00:00",
          "2025-07-02T07:34:00+00:00",
          "2025-07-02T07:35:00+00:00",
          "2025-07-02T07:36:00+00:00",
          "2025-07-02T07:37:00+00:00",
          "2025-07-02T07:38:00+00:00",
          "2025-07-02T07:39:00+00:00",
          "2025-07-02T07:40:00+00:00",
          "2025-07-02T07:41:00+00:00",
          "2025-07-02T07:42:00+00:00",
          "2025-07-02T07:43:00+00:00",
          "2025-07-02T07:44:00+00:00",
          "2025-07-02T07:45:00+00:00",
          "2025-07-02T07:46:00+00:00",
          "2025-07-02T07:47:00+00:00",
          "2025-07-02T07:48:00+00:00",
          "2025-07-02T07:49:00+00:00",
          "2025-07-02T07:50:00+00:00",
          "2025-07-02T07:51:00+00:00",
          "2025-07-02T07:52:00+00:00",
          "2025-07-02T07:53:00+00:00",
          "2025-07-02T07:54:00+00:00",
          "2025-07-02T07:55:00+00:00",
          "2025-07-02T07:56:00+00:00",
          "2025-07-02T07:57:00+00:00",
          "2025-07-02T07:58:00+00:00",
          "2025-07-02T07:59:00+00:00",
          "2025-07-02T08:00:00+00:00",
          "2025-07-02T08:01:00+00:00",
          "2025-07-02T08:02:00+00:00",
          "2025-07-02T08:03:00+00:00",
          "2025-07-02T08:04:00+00:00",
          "2025-07-02T08:05:00+00:00",
          "2025-07-02T08:06:00+00:00",
          "2025-07-02T08:07:00+00:00",
          "2025-07-02T08:08:00+00:00",
          "2025-07-02T08:09:00+00:00",
          "2025-07-02T08:10:00+00:00",
          "2025-07-02T08:11:00+00:00",
          "2025-07-02T08:12:00+00:00",
          "2025-07-02T08:13:00+00:00",
          "2025-07-02T08:14:00+00:00",
          "2025-07-02T08:15:00+00:00",
          "2025-07-02T08:16:00+00:00",
          "2025-07-02T08:17:00+00:00",
          "2025-07-02T08:18:00+00:00",
          "2025-07-02T08:19:00+00:00",
          "2025-07-02T08:20:00+00:00",
          "2025-07-02T08:21:00+00:00",
          "2025-07-02T08:22:00+00:00",
          "2025-07-02T08:23:00+00:00",
          "2025-07-02T08:24:00+00:00",
          "2025-07-02T08:25:00+00:00",
          "2025-07-02T08:26:00+00:00",
          "2025-07-02T08:27:00+00:00",
          "2025-07-02T08:28:00+00:00",
          "2025-07-02T08:29:00+00:00",
          "2025-07-02T08:30:00+00:00",
          "2025-07-02T08:31:00+00:00",
          "2025-07-02T08:32:00+00:00",
          "2025-07-02T08:33:00+00:00",
          "2025-07-02T08:34:00+00:00",
          "2025-07-02T08:35:00+00:00",
          "2025-07-02T08:36:00+00:00",
          "2025-07-02T08:37:00+00:00",
          "2025-07-02T08:38:00+00:00",
          "2025-07-02T08:39:00+00:00",
          "2025-07-02T08:40:00+00:00",
          "2025-07-02T08:41:00+00:00",
          "2025-07-02T08:42:00+00:00",
          "2025-07-02T08:43:00+00:00",
          "2025-07-02T08:44:00+00:00",
          "2025-07-02T08:45:00+00:00",
          "2025-07-02T08:46:00+00:00",
          "2025-07-02T08:47:00+00:00",
          "2025-07-02T08:48:00+00:00",
          "2025-07-02T08:49:00+00:00",
          "2025-07-02T08:50:00+00:00",
          "2025-07-02T08:51:00+00:00",
          "2025-07-02T08:52:00+00:00",
          "2025-07-02T08:53:00+00:00",
          "2025-07-02T08:54:00+00:00",
          "2025-07-02T08:55:00+00:00",
          "2025-07-02T08:56:00+00:00",
          "2025-07-02T08:57:00+00:00",
          "2025-07-02T08:58:00+00:00",
          "2025-07-02T08:59:00+00:00",
          "2025-07-02T09:00:00+00:00",
          "2025-07-02T09:01:00+00:00",
          "2025-07-02T09:02:00+00:00",
          "2025-07-02T09:03:00+00:00",
          "2025-07-02T09:04:00+00:00",
          "2025-07-02T09:05:00+00:00",
          "2025-07-02T09:06:00+00:00",
          "2025-07-02T09:07:00+00:00",
          "2025-07-02T09:08:00+00:00",
          "2025-07-02T09:09:00+00:00",
          "2025-07-02T09:10:00+00:00",
          "2025-07-02T09:11:00+00:00",
          "2025-07-02T09:12:00+00:00",
          "2025-07-02T09:13:00+00:00",
          "2025-07-02T09:14:00+00:00",
          "2025-07-02T09:15:00+00:00",
          "2025-07-02T09:16:00+00:00",
          "2025-07-02T09:17:00+00:00",
          "2025-07-02T09:18:00+00:00",
          "2025-07-02T09:19:00+00:00",
          "2025-07-02T09:20:00+00:00",
          "2025-07-02T09:21:00+00:00",
          "2025-07-02T09:22:00+00:00",
          "2025-07-02T09:23:00+00:00",
          "2025-07-02T09:24:00+00:00",
          "2025-07-02T09:25:00+00:00",
          "2025-07-02T09:26:00+00:00",
          "2025-07-02T09:27:00+00:00",
          "2025-07-02T09:28:00+00:00",
          "2025-07-02T09:29:00+00:00",
          "2025-07-02T09:30:00+00:00",
          "2025-07-02T09:31:00+00:00",
          "2025-07-02T09:32:00+00:00",
          "2025-07-02T09:33:00+00:00",
          "2025-07-02T09:34:00+00:00",
          "2025-07-02T09:35:00+00:00",
          "2025-07-02T09:36:00+00:00",
          "2025-07-02T09:37:00+00:00",
          "2025-07-02T09:38:00+00:00",
          "2025-07-02T09:39:00+00:00",
          "2025-07-02T09:40:00+00:00",
          "2025-07-02T09:41:00+00:00",
          "2025-07-02T09:42:00+00:00",
          "2025-07-02T09:43:00+00:00",
          "2025-07-02T09:44:00+00:00",
          "2025-07-02T09:45:00+00:00",
          "2025-07-02T09:46:00+00:00",
          "2025-07-02T09:47:00+00:00",
          "2025-07-02T09:48:00+00:00",
          "2025-07-02T09:49:00+00:00",
          "2025-07-02T09:50:00+00:00",
          "2025-07-02T09:51:00+00:00",
          "2025-07-02T09:52:00+00:00",
          "2025-07-02T09:53:00+00:00",
          "2025-07-02T09:54:00+00:00",
          "2025-07-02T09:55:00+00:00",
          "2025-07-02T09:56:00+00:00",
          "2025-07-02T09:57:00+00:00",
          "2025-07-02T09:58:00+00:00",
          "2025-07-02T09:59:00+00:00",
          "2025-07-02T10:00:00+00:00",
          "2025-07-02T10:01:00+00:00",
          "2025-07-02T10:02:00+00:00",
          "2025-07-02T10:03:00+00:00",
          "2025-07-02T10:04:00+00:00",
          "2025-07-02T10:05:00+00:00",
          "2025-07-02T10:06:00+00:00",
          "2025-07-02T10:07:00+00:00",
          "2025-07-02T10:08:00+00:00",
          "2025-07-02T10:09:00+00:00",
          "2025-07-02T10:10:00+00:00",
          "2025-07-02T10:11:00+00:00",
          "2025-07-02T10:12:00+00:00",
          "2025-07-02T10:13:00+00:00",
          "2025-07-02T10:14:00+00:00",
          "2025-07-02T10:15:00+00:00",
          "2025-07-02T10:16:00+00:00",
          "2025-07-02T10:17:00+00:00",
          "2025-07-02T10:18:00+00:00",
          "2025-07-02T10:19:00+00:00",
          "2025-07-02T10:20:00+00:00",
          "2025-07-02T10:21:00+00:00",
          "2025-07-02T10:22:00+00:00",
          "2025-07-02T10:23:00+00:00",
          "2025-07-02T10:24:00+00:00",
          "2025-07-02T10:25:00+00:00",
          "2025-07-02T10:26:00+00:00",
          "2025-07-02T10:27:00+00:00",
          "2025-07-02T10:28:00+00:00",
          "2025-07-02T10:29:00+00:00",
          "2025-07-02T10:30:00+00:00",
          "2025-07-02T10:31:00+00:00",
          "2025-07-02T10:32:00+00:00",
          "2025-07-02T10:33:00+00:00",
          "2025-07-02T10:34:00+00:00",
          "2025-07-02T10:35:00+00:00",
          "2025-07-02T10:36:00+00:00",
          "2025-07-02T10:37:00+00:00",
          "2025-07-02T10:38:00+00:00",
          "2025-07-02T10:39:00+00:00",
          "2025-07-02T10:40:00+00:00",
          "2025-07-02T10:41:00+00:00",
          "2025-07-02T10:42:00+00:00",
          "2025-07-02T10:43:00+00:00",
          "2025-07-02T10:44:00+00:00",
          "2025-07-02T10:45:00+00:00"
         ],
         "type": "candlestick"
        }
       ],
       "layout": {
        "template": {
         "data": {
          "barpolar": [
           {
            "marker": {
             "line": {
              "color": "white",
              "width": 0.5
             },
             "pattern": {
              "fillmode": "overlay",
              "size": 10,
              "solidity": 0.2
             }
            },
            "type": "barpolar"
           }
          ],
          "bar": [
           {
            "error_x": {
             "color": "#2a3f5f"
            },
            "error_y": {
             "color": "#2a3f5f"
            },
            "marker": {
             "line": {
              "color": "white",
              "width": 0.5
             },
             "pattern": {
              "fillmode": "overlay",
              "size": 10,
              "solidity": 0.2
             }
            },
            "type": "bar"
           }
          ],
          "carpet": [
           {
            "aaxis": {
             "endlinecolor": "#2a3f5f",
             "gridcolor": "#C8D4E3",
             "linecolor": "#C8D4E3",
             "minorgridcolor": "#C8D4E3",
             "startlinecolor": "#2a3f5f"
            },
            "baxis": {
             "endlinecolor": "#2a3f5f",
             "gridcolor": "#C8D4E3",
             "linecolor": "#C8D4E3",
             "minorgridcolor": "#C8D4E3",
             "startlinecolor": "#2a3f5f"
            },
            "type": "carpet"
           }
          ],
          "choropleth": [
           {
            "colorbar": {
             "outlinewidth": 0,
             "ticks": ""
            },
            "type": "choropleth"
           }
          ],
          "contourcarpet": [
           {
            "colorbar": {
             "outlinewidth": 0,
             "ticks": ""
            },
            "type": "contourcarpet"
           }
          ],
          "contour": [
           {
            "colorbar": {
             "outlinewidth": 0,
             "ticks": ""
            },
            "colorscale": [
             [
              0.0,
              "#0d0887"
             ],
             [
              0.1111111111111111,
              "#46039f"
             ],
             [
              0.2222222222222222,
              "#7201a8"
             ],
             [
              0.3333333333333333,
              "#9c179e"
             ],
             [
              0.4444444444444444,
              "#bd3786"
             ],
             [
              0.5555555555555556,
              "#d8576b"
             ],
             [
              0.6666666666666666,
              "#ed7953"
             ],
             [
              0.7777777777777778,
              "#fb9f3a"
             ],
             [
              0.8888888888888888,
              "#fdca26"
             ],
             [
              1.0,
              "#f0f921"
             ]
            ],
            "type": "contour"
           }
          ],
          "heatmap": [
           {
            "colorbar": {
             "outlinewidth": 0,
             "ticks": ""
            },
            "colorscale": [
             [
              0.0,
              "#0d0887"
             ],
             [
              0.1111111111111111,
              "#46039f"
             ],
             [
              0.2222222222222222,
              "#7201a8"
             ],
             [
              0.3333333333333333,
              "#9c179e"
             ],
             [
              0.4444444444444444,
              "#bd3786"
             ],
             [
              0.5555555555555556,
              "#d8576b"
             ],
             [
              0.6666666666666666,
              "#ed7953"
             ],
             [
              0.7777777777777778,
              "#fb9f3a"
             ],
             [
              0.8888888888888888,
              "#fdca26"
             ],
             [
              1.0,
              "#f0f921"
             ]
            ],
            "type": "heatmap"
           }
          ],
          "histogram2dcontour": [
           {
            "colorbar": {
             "outlinewidth": 0,
             "ticks": ""
            },
            "colorscale": [
             [
              0.0,
              "#0d0887"
             ],
             [
              0.1111111111111111,
              "#46039f"
             ],
             [
              0.2222222222222222,
              "#7201a8"
             ],
             [
              0.3333333333333333,
              "#9c179e"
             ],
             [
              0.4444444444444444,
              "#bd3786"
             ],
             [
              0.5555555555555556,
              "#d8576b"
             ],
             [
              0.6666666666666666,
              "#ed7953"
             ],
             [
              0.7777777777777778,
              "#fb9f3a"
             ],
             [
              0.8888888888888888,
              "#fdca26"
             ],
             [
              1.0,
              "#f0f921"
             ]
            ],
            "type": "histogram2dcontour"
           }
          ],
          "histogram2d": [
           {
            "colorbar": {
             "outlinewidth": 0,
             "ticks": ""
            },
            "colorscale": [
             [
              0.0,
              "#0d0887"
             ],
             [
              0.1111111111111111,
              "#46039f"
             ],
             [
              0.2222222222222222,
              "#7201a8"
             ],
             [
              0.3333333333333333,
              "#9c179e"
             ],
             [
              0.4444444444444444,
              "#bd3786"
             ],
             [
              0.5555555555555556,
              "#d8576b"
             ],
             [
              0.6666666666666666,
              "#ed7953"
             ],
             [
              0.7777777777777778,
              "#fb9f3a"
             ],
             [
              0.8888888888888888,
              "#fdca26"
             ],
             [
              1.0,
              "#f0f921"
             ]
            ],
            "type": "histogram2d"
           }
          ],
          "histogram": [
           {
            "marker": {
             "pattern": {
              "fillmode": "overlay",
              "size": 10,
              "solidity": 0.2
             }
            },
            "type": "histogram"
           }
          ],
          "mesh3d": [
           {
            "colorbar": {
             "outlinewidth": 0,
             "ticks": ""
            },
            "type": "mesh3d"
           }
          ],
          "parcoords": [
           {
            "line": {
             "colorbar": {
              "outlinewidth": 0,
              "ticks": ""
             }
            },
            "type": "parcoords"
           }
          ],
          "pie": [
           {
            "automargin": true,
            "type": "pie"
           }
          ],
          "scatter3d": [
           {
            "line": {
             "colorbar": {
              "outlinewidth": 0,
              "ticks": ""
             }
            },
            "marker": {
             "colorbar": {
              "outlinewidth": 0,
              "ticks": ""
             }
            },
            "type": "scatter3d"
           }
          ],
          "scattercarpet": [
           {
            "marker": {
             "colorbar": {
              "outlinewidth": 0,
              "ticks": ""
             }
            },
            "type": "scattercarpet"
           }
          ],
          "scattergeo": [
           {
            "marker": {
             "colorbar": {
              "outlinewidth": 0,
              "ticks": ""
             }
            },
            "type": "scattergeo"
           }
          ],
          "scattergl": [
           {
            "marker": {
             "colorbar": {
              "outlinewidth": 0,
              "ticks": ""
             }
            },
            "type": "scattergl"
           }
          ],
          "scattermapbox": [
           {
            "marker": {
             "colorbar": {
              "outlinewidth": 0,
              "ticks": ""
             }
            },
            "type": "scattermapbox"
           }
          ],
          "scattermap": [
           {
            "marker": {
             "colorbar": {
              "outlinewidth": 0,
              "ticks": ""
             }
            },
            "type": "scattermap"
           }
          ],
          "scatterpolargl": [
           {
            "marker": {
             "colorbar": {
              "outlinewidth": 0,
              "ticks": ""
             }
            },
            "type": "scatterpolargl"
           }
          ],
          "scatterpolar": [
           {
            "marker": {
             "colorbar": {
              "outlinewidth": 0,
              "ticks": ""
             }
            },
            "type": "scatterpolar"
           }
          ],
          "scatter": [
           {
            "fillpattern": {
             "fillmode": "overlay",
             "size": 10,
             "solidity": 0.2
            },
            "type": "scatter"
           }
          ],
          "scatterternary": [
           {
            "marker": {
             "colorbar": {
              "outlinewidth": 0,
              "ticks": ""
             }
            },
            "type": "scatterternary"
           }
          ],
          "surface": [
           {
            "colorbar": {
             "outlinewidth": 0,
             "ticks": ""
            },
            "colorscale": [
             [
              0.0,
              "#0d0887"
             ],
             [
              0.1111111111111111,
              "#46039f"
             ],
             [
              0.2222222222222222,
              "#7201a8"
             ],
             [
              0.3333333333333333,
              "#9c179e"
             ],
             [
              0.4444444444444444,
              "#bd3786"
             ],
             [
              0.5555555555555556,
              "#d8576b"
             ],
             [
              0.6666666666666666,
              "#ed7953"
             ],
             [
              0.7777777777777778,
              "#fb9f3a"
             ],
             [
              0.8888888888888888,
              "#fdca26"
             ],
             [
              1.0,
              "#f0f921"
             ]
            ],
            "type": "surface"
           }
          ],
          "table": [
           {
            "cells": {
             "fill": {
              "color": "#EBF0F8"
             },
             "line": {
              "color": "white"
             }
            },
            "header": {
             "fill": {
              "color": "#C8D4E3"
             },
             "line": {
              "color": "white"
             }
            },
            "type": "table"
           }
          ]
         },
         "layout": {
          "annotationdefaults": {
           "arrowcolor": "#2a3f5f",
           "arrowhead": 0,
           "arrowwidth": 1
          },
          "autotypenumbers": "strict",
          "coloraxis": {
           "colorbar": {
            "outlinewidth": 0,
            "ticks": ""
           }
          },
          "colorscale": {
           "diverging": [
            [
             0,
             "#8e0152"
            ],
            [
             0.1,
             "#c51b7d"
            ],
            [
             0.2,
             "#de77ae"
            ],
            [
             0.3,
             "#f1b6da"
            ],
            [
             0.4,
             "#fde0ef"
            ],
            [
             0.5,
             "#f7f7f7"
            ],
            [
             0.6,
             "#e6f5d0"
            ],
            [
             0.7,
             "#b8e186"
            ],
            [
             0.8,
             "#7fbc41"
            ],
            [
             0.9,
             "#4d9221"
            ],
            [
             1,
             "#276419"
            ]
           ],
           "sequential": [
            [
             0.0,
             "#0d0887"
            ],
            [
             0.1111111111111111,
             "#46039f"
            ],
            [
             0.2222222222222222,
             "#7201a8"
            ],
            [
             0.3333333333333333,
             "#9c179e"
            ],
            [
             0.4444444444444444,
             "#bd3786"
            ],
            [
             0.5555555555555556,
             "#d8576b"
            ],
            [
             0.6666666666666666,
             "#ed7953"
            ],
            [
             0.7777777777777778,
             "#fb9f3a"
            ],
            [
             0.8888888888888888,
             "#fdca26"
            ],
            [
             1.0,
             "#f0f921"
            ]
           ],
           "sequentialminus": [
            [
             0.0,
             "#0d0887"
            ],
            [
             0.1111111111111111,
             "#46039f"
            ],
            [
             0.2222222222222222,
             "#7201a8"
            ],
            [
             0.3333333333333333,
             "#9c179e"
            ],
            [
             0.4444444444444444,
             "#bd3786"
            ],
            [
             0.5555555555555556,
             "#d8576b"
            ],
            [
             0.6666666666666666,
             "#ed7953"
            ],
            [
             0.7777777777777778,
             "#fb9f3a"
            ],
            [
             0.8888888888888888,
             "#fdca26"
            ],
            [
             1.0,
             "#f0f921"
            ]
           ]
          },
          "colorway": [
           "#636efa",
           "#EF553B",
           "#00cc96",
           "#ab63fa",
           "#FFA15A",
           "#19d3f3",
           "#FF6692",
           "#B6E880",
           "#FF97FF",
           "#FECB52"
          ],
          "font": {
           "color": "#2a3f5f"
          },
          "geo": {
           "bgcolor": "white",
           "lakecolor": "white",
           "landcolor": "white",
           "showlakes": true,
           "showland": true,
           "subunitcolor": "#C8D4E3"
          },
          "hoverlabel": {
           "align": "left"
          },
          "hovermode": "closest",
          "mapbox": {
           "style": "light"
          },
          "paper_bgcolor": "white",
          "plot_bgcolor": "white",
          "polar": {
           "angularaxis": {
            "gridcolor": "#EBF0F8",
            "linecolor": "#EBF0F8",
            "ticks": ""
           },
           "bgcolor": "white",
           "radialaxis": {
            "gridcolor": "#EBF0F8",
            "linecolor": "#EBF0F8",
            "ticks": ""
           }
          },
          "scene": {
           "xaxis": {
            "backgroundcolor": "white",
            "gridcolor": "#DFE8F3",
            "gridwidth": 2,
            "linecolor": "#EBF0F8",
            "showbackground": true,
            "ticks": "",
            "zerolinecolor": "#EBF0F8"
           },
           "yaxis": {
            "backgroundcolor": "white",
            "gridcolor": "#DFE8F3",
            "gridwidth": 2,
            "linecolor": "#EBF0F8",
            "showbackground": true,
            "ticks": "",
            "zerolinecolor": "#EBF0F8"
           },
           "zaxis": {
            "backgroundcolor": "white",
            "gridcolor": "#DFE8F3",
            "gridwidth": 2,
            "linecolor": "#EBF0F8",
            "showbackground": true,
            "ticks": "",
            "zerolinecolor": "#EBF0F8"
           }
          },
          "shapedefaults": {
           "line": {
            "color": "#2a3f5f"
           }
          },
          "ternary": {
           "aaxis": {
            "gridcolor": "#DFE8F3",
            "linecolor": "#A2B1C6",
            "ticks": ""
           },
           "baxis": {
            "gridcolor": "#DFE8F3",
            "linecolor": "#A2B1C6",
            "ticks": ""
           },
           "bgcolor": "white",
           "caxis": {
            "gridcolor": "#DFE8F3",
            "linecolor": "#A2B1C6",
            "ticks": ""
           }
          },
          "title": {
           "x": 0.05
          },
          "xaxis": {
           "automargin": true,
           "gridcolor": "#EBF0F8",
           "linecolor": "#EBF0F8",
           "ticks": "",
           "title": {
            "standoff": 15
           },
           "zerolinecolor": "#EBF0F8",
           "zerolinewidth": 2
          },
          "yaxis": {
           "automargin": true,
           "gridcolor": "#EBF0F8",
           "linecolor": "#EBF0F8",
           "ticks": "",
           "title": {
            "standoff": 15
           },
           "zerolinecolor": "#EBF0F8",
           "zerolinewidth": 2
          }
         }
        },
        "yaxis2": {
         "overlaying": "y",
         "side": "right",
         "showgrid": false,
         "title": {
          "text": "Volume"
         }
        },
        "xaxis": {
         "rangeslider": {
          "visible": false
         },
         "title": {
          "text": "Time"
         }
        },
        "title": {
         "text": "Best 12-Hour Fragment – LowVol_UpTrend"
        },
        "yaxis": {
         "title": {
          "text": "Price"
         }
        },
        "height": 600
       },
       "config": {
        "plotlyServerURL": "https://plot.ly"
       }
      }
     },
     "metadata": {},
     "output_type": "display_data"
    }
   ],
   "execution_count": 3
  },
  {
   "metadata": {
    "ExecuteTime": {
     "end_time": "2025-07-04T04:47:22.388753Z",
     "start_time": "2025-07-04T04:46:58.447686Z"
    }
   },
   "cell_type": "code",
   "source": [
    "import pandas as pd\n",
    "from signals.model_preparation import prepare_features_only\n",
    "from train_model.signal_model import SignalModel\n",
    "from train_model.vol_model import VolatilityModel\n",
    "from logs.prediction_logger import PredictionLogger\n",
    "from logs.signal_logger import SignalHistoryLogger\n",
    "\n",
    "# === Config ===\n",
    "csv_path = \"experiments/backtest_fragments/best_fragments_combined.csv\"\n",
    "symbol = \"BTCUSDT\"\n",
    "\n",
    "# === Load data ===\n",
    "df_fragments = pd.read_csv(csv_path, parse_dates=[\"timestamp\"])\n",
    "df_fragments.set_index(\"timestamp\", inplace=True)\n",
    "df_fragments.sort_index(inplace=True)\n",
    "\n",
    "# === Load models ===\n",
    "signal_model = SignalModel().load()\n",
    "vol_model = VolatilityModel().load()\n",
    "vol_features = vol_model.selected_features\n",
    "sig_features = signal_model.selected_features\n",
    "\n",
    "# === Result Summary ===\n",
    "summary = []\n",
    "\n",
    "# === Loop over each regime ===\n",
    "for regime in df_fragments[\"regime_name\"].unique():\n",
    "    print(f\"\\n=== Evaluating Regime: {regime} ===\")\n",
    "    df = df_fragments[df_fragments[\"regime_name\"] == regime].copy()\n",
    "    df = prepare_features_only(df).dropna()\n",
    "    print(f\"[{regime}] Rows after feature prep: {len(df)}\")\n",
    "\n",
    "    if df.empty or len(df) < 10:\n",
    "        print(f\"[{regime}] Skipped due to insufficient rows after preprocessing.\")\n",
    "        continue\n",
    "\n",
    "    signal_logger = SignalHistoryLogger()\n",
    "    prediction_logger = PredictionLogger(autosave=False)\n",
    "\n",
    "    for i in range(5, len(df) - 1):\n",
    "        window = df.iloc[:i + 1]\n",
    "        now = window.index[-2]\n",
    "\n",
    "        vol_input = window.iloc[[-2]].reindex(columns=vol_features, fill_value=0.0)\n",
    "        sig_input = window.iloc[[-2]].reindex(columns=sig_features, fill_value=0.0)\n",
    "\n",
    "        try:\n",
    "            vol_pred = vol_model.final_model.predict(vol_input)[0]\n",
    "            if vol_pred != 1:\n",
    "                # print(f\"[{now}] {regime} → Skipped due to low volatility prediction\")\n",
    "                continue\n",
    "\n",
    "            prob = signal_model.final_model.predict_proba(sig_input)[0][1]\n",
    "            if prob >= 0.85:\n",
    "                prediction = \"UP\"\n",
    "            elif prob <= 0.15:\n",
    "                prediction = \"DOWN\"\n",
    "            else:\n",
    "                # print(f\"[{now}] {regime} → Skipped due to low confidence ({prob:.2%})\")\n",
    "                continue\n",
    "\n",
    "            signal_type = \"xgboost_bullish\" if prediction == \"UP\" else \"xgboost_bearish\"\n",
    "            conf_str = f\"Conf={prob:.2%}\" if prediction == \"UP\" else f\"Conf={(1 - prob):.2%}\"\n",
    "            signal_logger.add_signal(signal_type, now, window[\"close\"].iloc[-2], conf_str)\n",
    "\n",
    "            prediction_logger.record_prediction(\n",
    "                timestamp=now,\n",
    "                prediction=prediction,\n",
    "                close_now=window['close'].iloc[-1],\n",
    "                close_prev=window['close'].iloc[-2],\n",
    "                confidence=prob\n",
    "            )\n",
    "\n",
    "        except Exception as e:\n",
    "            print(f\"[{now}] {regime} → ERROR during prediction: {e}\")\n",
    "            continue\n",
    "\n",
    "    df_result = prediction_logger.to_dataframe()\n",
    "    num_preds = len(df_result)\n",
    "    hit_rate = df_result[\"hit\"].mean() if num_preds > 0 else 0.0\n",
    "\n",
    "    print(f\"[{regime}] Finished with {num_preds} predictions, hit rate: {hit_rate:.2%}\")\n",
    "\n",
    "    if num_preds > 0:\n",
    "        summary.append({\n",
    "            \"regime\": regime,\n",
    "            \"hit_rate\": round(hit_rate * 100, 2),\n",
    "            \"num_predictions\": num_preds\n",
    "        })\n",
    "    else:\n",
    "        print(f\"[{regime}] No confident predictions made.\")\n",
    "\n",
    "# === Final Summary ===\n",
    "print(\"\\n=== Backtest Summary ===\")\n",
    "if summary:\n",
    "    summary_df = pd.DataFrame(summary)\n",
    "    summary_df = summary_df.sort_values(by=\"hit_rate\", ascending=False).reset_index(drop=True)\n",
    "    print(summary_df)\n",
    "else:\n",
    "    print(\"No valid predictions were made across all regimes.\")"
   ],
   "id": "ef8b47db0d52ce3",
   "outputs": [
    {
     "name": "stdout",
     "output_type": "stream",
     "text": [
      "[Load] Model and features loaded.\n",
      "[Load] Last trained: 2025-07-04T04:02:04.560046\n",
      "[VolLoad] Model loaded with 4 features.\n",
      "[VolLoad] Last trained: 2025-07-04T04:01:13.302181\n",
      "\n",
      "=== Evaluating Regime: HighVol_DownTrend ===\n",
      "[HighVol_DownTrend] Rows after feature prep: 501\n"
     ]
    },
    {
     "name": "stderr",
     "output_type": "stream",
     "text": [
      "C:\\Users\\PPH_Myat\\OneDrive\\Documents\\GitHub\\MMAT_signal_project\\logs\\signal_logger.py:41: FutureWarning:\n",
      "\n",
      "The behavior of DataFrame concatenation with empty or all-NA entries is deprecated. In a future version, this will no longer exclude empty or all-NA columns when determining the result dtypes. To retain the old behavior, exclude the relevant entries before the concat operation.\n",
      "\n"
     ]
    },
    {
     "name": "stdout",
     "output_type": "stream",
     "text": [
      "[HighVol_DownTrend] Finished with 68 predictions, hit rate: 39.71%\n",
      "\n",
      "=== Evaluating Regime: HighVol_UpTrend ===\n",
      "[HighVol_UpTrend] Rows after feature prep: 501\n"
     ]
    },
    {
     "name": "stderr",
     "output_type": "stream",
     "text": [
      "C:\\Users\\PPH_Myat\\OneDrive\\Documents\\GitHub\\MMAT_signal_project\\logs\\signal_logger.py:41: FutureWarning:\n",
      "\n",
      "The behavior of DataFrame concatenation with empty or all-NA entries is deprecated. In a future version, this will no longer exclude empty or all-NA columns when determining the result dtypes. To retain the old behavior, exclude the relevant entries before the concat operation.\n",
      "\n"
     ]
    },
    {
     "name": "stdout",
     "output_type": "stream",
     "text": [
      "[HighVol_UpTrend] Finished with 41 predictions, hit rate: 39.02%\n",
      "\n",
      "=== Evaluating Regime: Sideways ===\n",
      "[Sideways] Rows after feature prep: 501\n",
      "[Sideways] Finished with 0 predictions, hit rate: 0.00%\n",
      "[Sideways] No confident predictions made.\n",
      "\n",
      "=== Evaluating Regime: LowVol_DownTrend ===\n",
      "[LowVol_DownTrend] Rows after feature prep: 501\n"
     ]
    },
    {
     "name": "stderr",
     "output_type": "stream",
     "text": [
      "C:\\Users\\PPH_Myat\\OneDrive\\Documents\\GitHub\\MMAT_signal_project\\logs\\signal_logger.py:41: FutureWarning:\n",
      "\n",
      "The behavior of DataFrame concatenation with empty or all-NA entries is deprecated. In a future version, this will no longer exclude empty or all-NA columns when determining the result dtypes. To retain the old behavior, exclude the relevant entries before the concat operation.\n",
      "\n"
     ]
    },
    {
     "name": "stdout",
     "output_type": "stream",
     "text": [
      "[LowVol_DownTrend] Finished with 2 predictions, hit rate: 100.00%\n",
      "\n",
      "=== Evaluating Regime: LowVol_UpTrend ===\n",
      "[LowVol_UpTrend] Rows after feature prep: 501\n",
      "[LowVol_UpTrend] Finished with 0 predictions, hit rate: 0.00%\n",
      "[LowVol_UpTrend] No confident predictions made.\n",
      "\n",
      "=== Backtest Summary ===\n",
      "              regime  hit_rate  num_predictions\n",
      "0   LowVol_DownTrend    100.00                2\n",
      "1  HighVol_DownTrend     39.71               68\n",
      "2    HighVol_UpTrend     39.02               41\n"
     ]
    }
   ],
   "execution_count": 4
  },
  {
   "metadata": {
    "ExecuteTime": {
     "end_time": "2025-07-04T04:47:47.275943Z",
     "start_time": "2025-07-04T04:47:22.645426Z"
    }
   },
   "cell_type": "code",
   "source": [
    "import pandas as pd\n",
    "from signals.model_preparation import prepare_features_only\n",
    "from train_model.signal_model import SignalModel\n",
    "from train_model.vol_model import VolatilityModel\n",
    "from logs.prediction_logger import PredictionLogger\n",
    "from logs.signal_logger import SignalHistoryLogger\n",
    "\n",
    "# === Config ===\n",
    "csv_path = \"experiments/backtest_fragments/best_fragments_combined.csv\"\n",
    "symbol = \"BTCUSDT\"\n",
    "\n",
    "# === Load data ===\n",
    "df_fragments = pd.read_csv(csv_path, parse_dates=[\"timestamp\"])\n",
    "df_fragments.set_index(\"timestamp\", inplace=True)\n",
    "df_fragments.sort_index(inplace=True)\n",
    "\n",
    "# === Load models ===\n",
    "signal_model = SignalModel().load()\n",
    "vol_model = VolatilityModel().load()\n",
    "vol_features = vol_model.selected_features\n",
    "sig_features = signal_model.selected_features\n",
    "\n",
    "# === Result Summary ===\n",
    "summary = []\n",
    "\n",
    "# === Loop over each regime ===\n",
    "for regime in df_fragments[\"regime_name\"].unique():\n",
    "    print(f\"\\n=== Evaluating Regime: {regime} ===\")\n",
    "    df = df_fragments[df_fragments[\"regime_name\"] == regime].copy()\n",
    "    df = prepare_features_only(df).dropna()\n",
    "    print(f\"[{regime}] Rows after feature prep: {len(df)}\")\n",
    "\n",
    "    if df.empty or len(df) < 10:\n",
    "        print(f\"[{regime}] Skipped due to insufficient rows after preprocessing.\")\n",
    "        continue\n",
    "\n",
    "    signal_logger = SignalHistoryLogger()\n",
    "    prediction_logger = PredictionLogger(autosave=False)\n",
    "\n",
    "    for i in range(5, len(df) - 1):\n",
    "        window = df.iloc[:i + 1]\n",
    "        now = window.index[-2]\n",
    "\n",
    "        vol_input = window.iloc[[-2]].reindex(columns=vol_features, fill_value=0.0)\n",
    "        sig_input = window.iloc[[-2]].reindex(columns=sig_features, fill_value=0.0)\n",
    "\n",
    "        try:\n",
    "            vol_pred = vol_model.final_model.predict(vol_input)[0]\n",
    "            if vol_pred != 1:\n",
    "                # print(f\"[{now}] {regime} → Skipped due to low volatility prediction\")\n",
    "\n",
    "                continue\n",
    "\n",
    "            prob = signal_model.final_model.predict_proba(sig_input)[0][1]\n",
    "            prediction = \"UP\" if prob >= 0.5 else \"DOWN\"\n",
    "\n",
    "            signal_type = \"xgboost_bullish\" if prediction == \"UP\" else \"xgboost_bearish\"\n",
    "            conf_str = f\"Conf={prob:.2%}\" if prediction == \"UP\" else f\"Conf={(1 - prob):.2%}\"\n",
    "            signal_logger.add_signal(signal_type, now, window[\"close\"].iloc[-2], conf_str)\n",
    "\n",
    "            prediction_logger.record_prediction(\n",
    "                timestamp=now,\n",
    "                prediction=prediction,\n",
    "                close_now=window['close'].iloc[-1],\n",
    "                close_prev=window['close'].iloc[-2],\n",
    "                confidence=prob\n",
    "            )\n",
    "\n",
    "        except Exception as e:\n",
    "            print(f\"[{now}] {regime} → ERROR during prediction: {e}\")\n",
    "            continue\n",
    "\n",
    "    df_result = prediction_logger.to_dataframe()\n",
    "    num_preds = len(df_result)\n",
    "    hit_rate = df_result[\"hit\"].mean() if num_preds > 0 else 0.0\n",
    "\n",
    "    print(f\"[{regime}] Finished with {num_preds} predictions, hit rate: {hit_rate:.2%}\")\n",
    "\n",
    "    if num_preds > 0:\n",
    "        summary.append({\n",
    "            \"regime\": regime,\n",
    "            \"hit_rate\": round(hit_rate * 100, 2),\n",
    "            \"num_predictions\": num_preds\n",
    "        })\n",
    "    else:\n",
    "        print(f\"[{regime}] No predictions made.\")\n",
    "\n",
    "# === Final Summary ===\n",
    "print(\"\\n=== Backtest Summary ===\")\n",
    "if summary:\n",
    "    summary_df = pd.DataFrame(summary)\n",
    "    summary_df = summary_df.sort_values(by=\"hit_rate\", ascending=False).reset_index(drop=True)\n",
    "    print(summary_df)\n",
    "else:\n",
    "    print(\"No valid predictions were made across all regimes.\")"
   ],
   "id": "edc4b0e2541089af",
   "outputs": [
    {
     "name": "stdout",
     "output_type": "stream",
     "text": [
      "[Load] Model and features loaded.\n",
      "[Load] Last trained: 2025-07-04T04:02:04.560046\n",
      "[VolLoad] Model loaded with 4 features.\n",
      "[VolLoad] Last trained: 2025-07-04T04:01:13.302181\n",
      "\n",
      "=== Evaluating Regime: HighVol_DownTrend ===\n",
      "[HighVol_DownTrend] Rows after feature prep: 501\n"
     ]
    },
    {
     "name": "stderr",
     "output_type": "stream",
     "text": [
      "C:\\Users\\PPH_Myat\\OneDrive\\Documents\\GitHub\\MMAT_signal_project\\logs\\signal_logger.py:41: FutureWarning:\n",
      "\n",
      "The behavior of DataFrame concatenation with empty or all-NA entries is deprecated. In a future version, this will no longer exclude empty or all-NA columns when determining the result dtypes. To retain the old behavior, exclude the relevant entries before the concat operation.\n",
      "\n"
     ]
    },
    {
     "name": "stdout",
     "output_type": "stream",
     "text": [
      "[HighVol_DownTrend] Finished with 495 predictions, hit rate: 44.24%\n",
      "\n",
      "=== Evaluating Regime: HighVol_UpTrend ===\n",
      "[HighVol_UpTrend] Rows after feature prep: 501\n"
     ]
    },
    {
     "name": "stderr",
     "output_type": "stream",
     "text": [
      "C:\\Users\\PPH_Myat\\OneDrive\\Documents\\GitHub\\MMAT_signal_project\\logs\\signal_logger.py:41: FutureWarning:\n",
      "\n",
      "The behavior of DataFrame concatenation with empty or all-NA entries is deprecated. In a future version, this will no longer exclude empty or all-NA columns when determining the result dtypes. To retain the old behavior, exclude the relevant entries before the concat operation.\n",
      "\n"
     ]
    },
    {
     "name": "stdout",
     "output_type": "stream",
     "text": [
      "[HighVol_UpTrend] Finished with 495 predictions, hit rate: 43.23%\n",
      "\n",
      "=== Evaluating Regime: Sideways ===\n",
      "[Sideways] Rows after feature prep: 501\n",
      "[Sideways] Finished with 0 predictions, hit rate: 0.00%\n",
      "[Sideways] No predictions made.\n",
      "\n",
      "=== Evaluating Regime: LowVol_DownTrend ===\n",
      "[LowVol_DownTrend] Rows after feature prep: 501\n"
     ]
    },
    {
     "name": "stderr",
     "output_type": "stream",
     "text": [
      "C:\\Users\\PPH_Myat\\OneDrive\\Documents\\GitHub\\MMAT_signal_project\\logs\\signal_logger.py:41: FutureWarning:\n",
      "\n",
      "The behavior of DataFrame concatenation with empty or all-NA entries is deprecated. In a future version, this will no longer exclude empty or all-NA columns when determining the result dtypes. To retain the old behavior, exclude the relevant entries before the concat operation.\n",
      "\n"
     ]
    },
    {
     "name": "stdout",
     "output_type": "stream",
     "text": [
      "[LowVol_DownTrend] Finished with 2 predictions, hit rate: 100.00%\n",
      "\n",
      "=== Evaluating Regime: LowVol_UpTrend ===\n",
      "[LowVol_UpTrend] Rows after feature prep: 501\n",
      "[LowVol_UpTrend] Finished with 0 predictions, hit rate: 0.00%\n",
      "[LowVol_UpTrend] No predictions made.\n",
      "\n",
      "=== Backtest Summary ===\n",
      "              regime  hit_rate  num_predictions\n",
      "0   LowVol_DownTrend    100.00                2\n",
      "1  HighVol_DownTrend     44.24              495\n",
      "2    HighVol_UpTrend     43.23              495\n"
     ]
    }
   ],
   "execution_count": 5
  },
  {
   "metadata": {
    "ExecuteTime": {
     "end_time": "2025-07-04T04:48:07.132291Z",
     "start_time": "2025-07-04T04:47:47.494935Z"
    }
   },
   "cell_type": "code",
   "source": [
    "import pandas as pd\n",
    "from signals.model_preparation import prepare_features_only\n",
    "from train_model.signal_model import SignalModel\n",
    "from train_model.vol_model import VolatilityModel\n",
    "from logs.prediction_logger import PredictionLogger\n",
    "from logs.signal_logger import SignalHistoryLogger\n",
    "\n",
    "# === Config ===\n",
    "csv_path = \"experiments/backtest_fragments/best_fragments_combined.csv\"\n",
    "symbol = \"BTCUSDT\"\n",
    "\n",
    "# === Load data ===\n",
    "df_fragments = pd.read_csv(csv_path, parse_dates=[\"timestamp\"])\n",
    "df_fragments.set_index(\"timestamp\", inplace=True)\n",
    "df_fragments.sort_index(inplace=True)\n",
    "\n",
    "# === Load models ===\n",
    "signal_model = SignalModel().load()\n",
    "vol_model = VolatilityModel().load()\n",
    "vol_features = vol_model.selected_features\n",
    "sig_features = signal_model.selected_features\n",
    "\n",
    "# === Result Summary ===\n",
    "summary = []\n",
    "\n",
    "# === Loop over each regime ===\n",
    "for regime in df_fragments[\"regime_name\"].unique():\n",
    "    print(f\"\\n=== Evaluating Regime: {regime} ===\")\n",
    "    df = df_fragments[df_fragments[\"regime_name\"] == regime].copy()\n",
    "    df = prepare_features_only(df).dropna()\n",
    "    print(f\"[{regime}] Rows after feature prep: {len(df)}\")\n",
    "\n",
    "    if df.empty or len(df) < 10:\n",
    "        print(f\"[{regime}] Skipped due to insufficient rows after preprocessing.\")\n",
    "        continue\n",
    "\n",
    "    signal_logger = SignalHistoryLogger()\n",
    "    prediction_logger = PredictionLogger(autosave=False)\n",
    "\n",
    "    for i in range(5, len(df) - 1):\n",
    "        window = df.iloc[:i + 1]\n",
    "        now = window.index[-2]\n",
    "\n",
    "        # Skip vol filter — just compute inputs but don't condition on it\n",
    "        vol_input = window.iloc[[-2]].reindex(columns=vol_features, fill_value=0.0)\n",
    "        sig_input = window.iloc[[-2]].reindex(columns=sig_features, fill_value=0.0)\n",
    "\n",
    "        try:\n",
    "            prob = signal_model.final_model.predict_proba(sig_input)[0][1]\n",
    "            if prob >= 0.85:\n",
    "                prediction = \"UP\"\n",
    "            elif prob <= 0.15:\n",
    "                prediction = \"DOWN\"\n",
    "            else:\n",
    "                continue  # confidence too low\n",
    "\n",
    "            signal_type = \"xgboost_bullish\" if prediction == \"UP\" else \"xgboost_bearish\"\n",
    "            conf_str = f\"Conf={prob:.2%}\" if prediction == \"UP\" else f\"Conf={(1 - prob):.2%}\"\n",
    "            signal_logger.add_signal(signal_type, now, window[\"close\"].iloc[-2], conf_str)\n",
    "\n",
    "            prediction_logger.record_prediction(\n",
    "                timestamp=now,\n",
    "                prediction=prediction,\n",
    "                close_now=window['close'].iloc[-1],\n",
    "                close_prev=window['close'].iloc[-2],\n",
    "                confidence=prob\n",
    "            )\n",
    "\n",
    "        except Exception as e:\n",
    "            print(f\"[{now}] {regime} → ERROR during prediction: {e}\")\n",
    "            continue\n",
    "\n",
    "    df_result = prediction_logger.to_dataframe()\n",
    "    num_preds = len(df_result)\n",
    "    hit_rate = df_result[\"hit\"].mean() if num_preds > 0 else 0.0\n",
    "\n",
    "    print(f\"[{regime}] Finished with {num_preds} predictions, hit rate: {hit_rate:.2%}\")\n",
    "\n",
    "    if num_preds > 0:\n",
    "        summary.append({\n",
    "            \"regime\": regime,\n",
    "            \"hit_rate\": round(hit_rate * 100, 2),\n",
    "            \"num_predictions\": num_preds\n",
    "        })\n",
    "    else:\n",
    "        print(f\"[{regime}] No confident predictions made.\")\n",
    "\n",
    "# === Final Summary ===\n",
    "print(\"\\n=== Backtest Summary ===\")\n",
    "if summary:\n",
    "    summary_df = pd.DataFrame(summary)\n",
    "    summary_df = summary_df.sort_values(by=\"hit_rate\", ascending=False).reset_index(drop=True)\n",
    "    print(summary_df)\n",
    "else:\n",
    "    print(\"No valid predictions were made across all regimes.\")\n"
   ],
   "id": "fc317637feb52fa7",
   "outputs": [
    {
     "name": "stdout",
     "output_type": "stream",
     "text": [
      "[Load] Model and features loaded.\n",
      "[Load] Last trained: 2025-07-04T04:02:04.560046\n",
      "[VolLoad] Model loaded with 4 features.\n",
      "[VolLoad] Last trained: 2025-07-04T04:01:13.302181\n",
      "\n",
      "=== Evaluating Regime: HighVol_DownTrend ===\n",
      "[HighVol_DownTrend] Rows after feature prep: 501\n"
     ]
    },
    {
     "name": "stderr",
     "output_type": "stream",
     "text": [
      "C:\\Users\\PPH_Myat\\OneDrive\\Documents\\GitHub\\MMAT_signal_project\\logs\\signal_logger.py:41: FutureWarning:\n",
      "\n",
      "The behavior of DataFrame concatenation with empty or all-NA entries is deprecated. In a future version, this will no longer exclude empty or all-NA columns when determining the result dtypes. To retain the old behavior, exclude the relevant entries before the concat operation.\n",
      "\n"
     ]
    },
    {
     "name": "stdout",
     "output_type": "stream",
     "text": [
      "[HighVol_DownTrend] Finished with 68 predictions, hit rate: 39.71%\n",
      "\n",
      "=== Evaluating Regime: HighVol_UpTrend ===\n",
      "[HighVol_UpTrend] Rows after feature prep: 501\n"
     ]
    },
    {
     "name": "stderr",
     "output_type": "stream",
     "text": [
      "C:\\Users\\PPH_Myat\\OneDrive\\Documents\\GitHub\\MMAT_signal_project\\logs\\signal_logger.py:41: FutureWarning:\n",
      "\n",
      "The behavior of DataFrame concatenation with empty or all-NA entries is deprecated. In a future version, this will no longer exclude empty or all-NA columns when determining the result dtypes. To retain the old behavior, exclude the relevant entries before the concat operation.\n",
      "\n"
     ]
    },
    {
     "name": "stdout",
     "output_type": "stream",
     "text": [
      "[HighVol_UpTrend] Finished with 41 predictions, hit rate: 39.02%\n",
      "\n",
      "=== Evaluating Regime: Sideways ===\n",
      "[Sideways] Rows after feature prep: 501\n"
     ]
    },
    {
     "name": "stderr",
     "output_type": "stream",
     "text": [
      "C:\\Users\\PPH_Myat\\OneDrive\\Documents\\GitHub\\MMAT_signal_project\\logs\\signal_logger.py:41: FutureWarning:\n",
      "\n",
      "The behavior of DataFrame concatenation with empty or all-NA entries is deprecated. In a future version, this will no longer exclude empty or all-NA columns when determining the result dtypes. To retain the old behavior, exclude the relevant entries before the concat operation.\n",
      "\n"
     ]
    },
    {
     "name": "stdout",
     "output_type": "stream",
     "text": [
      "[Sideways] Finished with 128 predictions, hit rate: 41.41%\n",
      "\n",
      "=== Evaluating Regime: LowVol_DownTrend ===\n",
      "[LowVol_DownTrend] Rows after feature prep: 501\n"
     ]
    },
    {
     "name": "stderr",
     "output_type": "stream",
     "text": [
      "C:\\Users\\PPH_Myat\\OneDrive\\Documents\\GitHub\\MMAT_signal_project\\logs\\signal_logger.py:41: FutureWarning:\n",
      "\n",
      "The behavior of DataFrame concatenation with empty or all-NA entries is deprecated. In a future version, this will no longer exclude empty or all-NA columns when determining the result dtypes. To retain the old behavior, exclude the relevant entries before the concat operation.\n",
      "\n"
     ]
    },
    {
     "name": "stdout",
     "output_type": "stream",
     "text": [
      "[LowVol_DownTrend] Finished with 61 predictions, hit rate: 59.02%\n",
      "\n",
      "=== Evaluating Regime: LowVol_UpTrend ===\n",
      "[LowVol_UpTrend] Rows after feature prep: 501\n"
     ]
    },
    {
     "name": "stderr",
     "output_type": "stream",
     "text": [
      "C:\\Users\\PPH_Myat\\OneDrive\\Documents\\GitHub\\MMAT_signal_project\\logs\\signal_logger.py:41: FutureWarning:\n",
      "\n",
      "The behavior of DataFrame concatenation with empty or all-NA entries is deprecated. In a future version, this will no longer exclude empty or all-NA columns when determining the result dtypes. To retain the old behavior, exclude the relevant entries before the concat operation.\n",
      "\n"
     ]
    },
    {
     "name": "stdout",
     "output_type": "stream",
     "text": [
      "[LowVol_UpTrend] Finished with 116 predictions, hit rate: 50.86%\n",
      "\n",
      "=== Backtest Summary ===\n",
      "              regime  hit_rate  num_predictions\n",
      "0   LowVol_DownTrend     59.02               61\n",
      "1     LowVol_UpTrend     50.86              116\n",
      "2           Sideways     41.41              128\n",
      "3  HighVol_DownTrend     39.71               68\n",
      "4    HighVol_UpTrend     39.02               41\n"
     ]
    }
   ],
   "execution_count": 6
  },
  {
   "metadata": {
    "ExecuteTime": {
     "end_time": "2025-07-04T04:48:07.365093Z",
     "start_time": "2025-07-04T04:48:07.351540Z"
    }
   },
   "cell_type": "code",
   "source": "",
   "id": "d53854ae1145510a",
   "outputs": [],
   "execution_count": null
  }
 ],
 "metadata": {
  "kernelspec": {
   "display_name": "base",
   "language": "python",
   "name": "python3"
  },
  "language_info": {
   "codemirror_mode": {
    "name": "ipython",
    "version": 3
   },
   "file_extension": ".py",
   "mimetype": "text/x-python",
   "name": "python",
   "nbconvert_exporter": "python",
   "pygments_lexer": "ipython3",
   "version": "3.12.9"
  }
 },
 "nbformat": 4,
 "nbformat_minor": 5
}
